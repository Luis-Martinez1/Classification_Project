{
 "cells": [
  {
   "cell_type": "markdown",
   "id": "5ef375a9",
   "metadata": {},
   "source": [
    "## Project Overview "
   ]
  },
  {
   "cell_type": "markdown",
   "id": "da0e7fad",
   "metadata": {},
   "source": [
    "###  Goals: To find drivers of churn."
   ]
  },
  {
   "cell_type": "markdown",
   "id": "182e7367",
   "metadata": {},
   "source": [
    "Why? "
   ]
  },
  {
   "cell_type": "markdown",
   "id": "14a2c3fc",
   "metadata": {},
   "source": [
    "To help idenitfy and potentialy retain profitable customers that might potentialy leave Telco as thier communcaitions service provider."
   ]
  },
  {
   "cell_type": "markdown",
   "id": "6076e3e6",
   "metadata": {},
   "source": [
    "Acquire Data"
   ]
  },
  {
   "cell_type": "code",
   "execution_count": 1,
   "id": "a9ad4e0b",
   "metadata": {},
   "outputs": [],
   "source": [
    "# imports \n",
    "import pandas as pd\n",
    "import numpy as np\n",
    "\n",
    "# my own files with my own functions\n",
    "import acquire\n",
    "import prepare\n",
    "\n",
    "# train test split function\n",
    "from sklearn.model_selection import train_test_split"
   ]
  },
  {
   "cell_type": "markdown",
   "id": "fe14143c",
   "metadata": {},
   "source": [
    "Acquire and Prep Data to split "
   ]
  },
  {
   "cell_type": "code",
   "execution_count": 2,
   "id": "de6e929e",
   "metadata": {},
   "outputs": [],
   "source": [
    "df = prepare.prep_telco(acquire.get_telco_data())"
   ]
  },
  {
   "cell_type": "markdown",
   "id": "5fb64829",
   "metadata": {},
   "source": [
    "Split Data into train, evaluate, and test, stratisfying on the target, and Explore only the train data"
   ]
  },
  {
   "cell_type": "code",
   "execution_count": 3,
   "id": "f9255bf2",
   "metadata": {},
   "outputs": [
    {
     "name": "stdout",
     "output_type": "stream",
     "text": [
      "train: 4225 (60.0% of 7043)\n",
      "validate: 1409 (20.0% of 7043)\n",
      "test: 1409 (20.0% of 7043)\n"
     ]
    }
   ],
   "source": [
    "train, evaluate, test = prepare.split_data(df, 'churn')"
   ]
  },
  {
   "cell_type": "markdown",
   "id": "f97d9f04",
   "metadata": {},
   "source": [
    "First Question"
   ]
  },
  {
   "cell_type": "code",
   "execution_count": null,
   "id": "5c25e794",
   "metadata": {},
   "outputs": [],
   "source": []
  },
  {
   "cell_type": "code",
   "execution_count": null,
   "id": "30ce20e8",
   "metadata": {},
   "outputs": [],
   "source": []
  },
  {
   "cell_type": "code",
   "execution_count": null,
   "id": "85a94844",
   "metadata": {},
   "outputs": [],
   "source": []
  },
  {
   "cell_type": "code",
   "execution_count": null,
   "id": "8ea95004",
   "metadata": {},
   "outputs": [],
   "source": []
  },
  {
   "cell_type": "code",
   "execution_count": null,
   "id": "4c72e7f8",
   "metadata": {},
   "outputs": [],
   "source": []
  },
  {
   "cell_type": "code",
   "execution_count": null,
   "id": "b526afe7",
   "metadata": {},
   "outputs": [],
   "source": []
  },
  {
   "cell_type": "code",
   "execution_count": null,
   "id": "6f8c58ba",
   "metadata": {},
   "outputs": [],
   "source": []
  },
  {
   "cell_type": "code",
   "execution_count": null,
   "id": "46cd80ff",
   "metadata": {},
   "outputs": [],
   "source": []
  },
  {
   "cell_type": "code",
   "execution_count": null,
   "id": "4f75f3d7",
   "metadata": {},
   "outputs": [],
   "source": []
  },
  {
   "cell_type": "code",
   "execution_count": null,
   "id": "5d754f37",
   "metadata": {},
   "outputs": [],
   "source": []
  },
  {
   "cell_type": "code",
   "execution_count": null,
   "id": "43abc99e",
   "metadata": {},
   "outputs": [],
   "source": [
    "(do not present content that is not goingt to be in your presentation.)"
   ]
  },
  {
   "cell_type": "markdown",
   "id": "e59d9143",
   "metadata": {},
   "source": [
    "Percent of customers who churn"
   ]
  },
  {
   "cell_type": "code",
   "execution_count": null,
   "id": "e5dfbc69",
   "metadata": {},
   "outputs": [],
   "source": [
    "import matplotlib.pyplot as plt\n",
    "import pandas as pd\n",
    "\n",
    "# Assuming you have a DataFrame with a 'churn' column (0 for no churn, 1 for churn)\n",
    "data = {'churn': [0, 1, 1, 0, 0, 1, 0, 1, 0, 0]}\n",
    "df = pd.DataFrame(data)\n",
    "\n",
    "# Count the number of customers who have churned and those who haven't\n",
    "churn_counts = df['churn'].value_counts()\n",
    "\n",
    "# Plot a pie chart\n",
    "labels = ['Not Churned', 'Churned']\n",
    "colors = ['lightblue', 'lightcoral']\n",
    "\n",
    "plt.pie(churn_counts, labels=labels, colors=colors, autopct='%1.1f%%', startangle=90)\n",
    "plt.title('Distribution of Churned vs Not Churned Customers')\n",
    "plt.show()"
   ]
  },
  {
   "cell_type": "markdown",
   "id": "f0142c0a",
   "metadata": {},
   "source": [
    "You have to use markdown cell to go over the steps you took to prepare the data and why you made the decsions you made\n"
   ]
  },
  {
   "cell_type": "markdown",
   "id": "c1f1eec4",
   "metadata": {},
   "source": [
    "Data Preparation:\n",
    "    Data types changed:\n",
    "        I changed the data type for Total Charges because it was non-numerical.\n",
    "        Also, the \n",
    "    Data null values:\n",
    "        I changed null values in total charges to zero. why? give deicsions and reasons. was this done before or after you split. \n",
    "        I changed the null values in internet service type to \"No internet service\" so it can match the rest of the columns that have no internet service. if you look at the values in the other columns where it says no internet service is the same place where internet service type is null. \n",
    " "
   ]
  },
  {
   "cell_type": "code",
   "execution_count": null,
   "id": "3bb54f06",
   "metadata": {},
   "outputs": [],
   "source": []
  }
 ],
 "metadata": {
  "kernelspec": {
   "display_name": "Python 3 (ipykernel)",
   "language": "python",
   "name": "python3"
  },
  "language_info": {
   "codemirror_mode": {
    "name": "ipython",
    "version": 3
   },
   "file_extension": ".py",
   "mimetype": "text/x-python",
   "name": "python",
   "nbconvert_exporter": "python",
   "pygments_lexer": "ipython3",
   "version": "3.11.5"
  }
 },
 "nbformat": 4,
 "nbformat_minor": 5
}
