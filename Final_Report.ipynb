{
 "cells": [
  {
   "cell_type": "markdown",
   "id": "5ef375a9",
   "metadata": {},
   "source": [
    "## Project Overview "
   ]
  },
  {
   "cell_type": "markdown",
   "id": "da0e7fad",
   "metadata": {},
   "source": [
    "###  Goals: To find drivers of churn."
   ]
  },
  {
   "cell_type": "markdown",
   "id": "182e7367",
   "metadata": {},
   "source": [
    "Why? "
   ]
  },
  {
   "cell_type": "markdown",
   "id": "14a2c3fc",
   "metadata": {},
   "source": [
    "To help idenitfy and potentialy retain profitable customers who might drop Telco as thier communcaitions service provider."
   ]
  },
  {
   "cell_type": "code",
   "execution_count": null,
   "id": "43abc99e",
   "metadata": {},
   "outputs": [],
   "source": []
  },
  {
   "cell_type": "code",
   "execution_count": null,
   "id": "af89f5db",
   "metadata": {},
   "outputs": [],
   "source": []
  },
  {
   "cell_type": "code",
   "execution_count": null,
   "id": "e5dfbc69",
   "metadata": {},
   "outputs": [],
   "source": []
  },
  {
   "cell_type": "code",
   "execution_count": null,
   "id": "d077b07e",
   "metadata": {},
   "outputs": [],
   "source": [
    "Data Preparation:\n",
    "    I changed the data type for Total Charges because it was non-numerical.\n",
    "    Also, the \n",
    " "
   ]
  },
  {
   "cell_type": "code",
   "execution_count": null,
   "id": "6d62ce5b",
   "metadata": {},
   "outputs": [],
   "source": []
  },
  {
   "cell_type": "code",
   "execution_count": null,
   "id": "3bb54f06",
   "metadata": {},
   "outputs": [],
   "source": []
  }
 ],
 "metadata": {
  "kernelspec": {
   "display_name": "Python 3 (ipykernel)",
   "language": "python",
   "name": "python3"
  },
  "language_info": {
   "codemirror_mode": {
    "name": "ipython",
    "version": 3
   },
   "file_extension": ".py",
   "mimetype": "text/x-python",
   "name": "python",
   "nbconvert_exporter": "python",
   "pygments_lexer": "ipython3",
   "version": "3.11.5"
  }
 },
 "nbformat": 4,
 "nbformat_minor": 5
}
