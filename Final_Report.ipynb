{
 "cells": [
  {
   "cell_type": "markdown",
   "id": "5ef375a9",
   "metadata": {},
   "source": [
    "# Divers of Churn "
   ]
  },
  {
   "cell_type": "markdown",
   "id": "da0e7fad",
   "metadata": {},
   "source": [
    "###  Goals: To find drivers of churn."
   ]
  },
  {
   "cell_type": "markdown",
   "id": "182e7367",
   "metadata": {},
   "source": [
    "Why? "
   ]
  },
  {
   "cell_type": "markdown",
   "id": "14a2c3fc",
   "metadata": {},
   "source": [
    "To help idenitfy and potentialy retain profitable customers that might potentialy leave Telco as thier communcaitions service provider."
   ]
  },
  {
   "cell_type": "markdown",
   "id": "6076e3e6",
   "metadata": {},
   "source": [
    "Acquire Data"
   ]
  },
  {
   "cell_type": "code",
   "execution_count": 1,
   "id": "a9ad4e0b",
   "metadata": {},
   "outputs": [],
   "source": [
    "import pandas as pd\n",
    "import numpy as np\n",
    "\n",
    "import matplotlib.pyplot as plt\n",
    "import seaborn as sns\n",
    "import os\n",
    " \n",
    "from scipy import stats\n",
    "    \n",
    "    \n",
    "import acquire\n",
    "import prepare\n",
    "\n",
    "from sklearn.model_selection import train_test_split\n",
    "from sklearn.tree import DecisionTreeClassifier\n",
    "from sklearn.ensemble import RandomForestClassifier\n",
    "from sklearn.neighbors import KNeighborsClassifier\n",
    "from sklearn.linear_model import LogisticRegression\n"
   ]
  },
  {
   "cell_type": "markdown",
   "id": "03ad76fb",
   "metadata": {},
   "source": [
    "## Acquire \n",
    " - Get data from Codeup DS Database Server \n",
    " - Each row represents a customer\n",
    " - Each columns represents a feature of a customer\n",
    "\n",
    "\n",
    "\n"
   ]
  },
  {
   "cell_type": "markdown",
   "id": "fe14143c",
   "metadata": {},
   "source": [
    "## Prepare \n",
    " - Remove SQL joiner columns\n",
    " - ADD\n",
    " - ADD\n",
    " - ADD\n",
    " "
   ]
  },
  {
   "cell_type": "markdown",
   "id": "05d44fa7",
   "metadata": {},
   "source": [
    "## Data Dictionary\n",
    " - Gender is this\n",
    " - Senior citizen means that\n",
    " "
   ]
  },
  {
   "cell_type": "code",
   "execution_count": 2,
   "id": "de6e929e",
   "metadata": {},
   "outputs": [
    {
     "name": "stdout",
     "output_type": "stream",
     "text": [
      "train: 4225 (60.0% of 7043)\n",
      "validate: 1409 (20.0% of 7043)\n",
      "test: 1409 (20.0% of 7043)\n"
     ]
    }
   ],
   "source": [
    "# acquire, cleaning, and adding features to data\n",
    "df = prepare.prep_telco(acquire.get_telco_data())\n",
    "# splitting data into train, validate, and test\n",
    "train, evaluate, test = prepare.split_data(df, 'churn')"
   ]
  },
  {
   "cell_type": "markdown",
   "id": "5fb64829",
   "metadata": {},
   "source": [
    "## First Looks"
   ]
  },
  {
   "cell_type": "code",
   "execution_count": 3,
   "id": "35e26dbd",
   "metadata": {},
   "outputs": [
    {
     "data": {
      "text/html": [
       "<div>\n",
       "<style scoped>\n",
       "    .dataframe tbody tr th:only-of-type {\n",
       "        vertical-align: middle;\n",
       "    }\n",
       "\n",
       "    .dataframe tbody tr th {\n",
       "        vertical-align: top;\n",
       "    }\n",
       "\n",
       "    .dataframe thead th {\n",
       "        text-align: right;\n",
       "    }\n",
       "</style>\n",
       "<table border=\"1\" class=\"dataframe\">\n",
       "  <thead>\n",
       "    <tr style=\"text-align: right;\">\n",
       "      <th></th>\n",
       "      <th>gender</th>\n",
       "      <th>senior_citizen</th>\n",
       "      <th>partner</th>\n",
       "      <th>dependents</th>\n",
       "      <th>tenure</th>\n",
       "      <th>phone_service_type</th>\n",
       "      <th>paperless_billing</th>\n",
       "      <th>monthly_charges</th>\n",
       "      <th>total_charges</th>\n",
       "      <th>churn</th>\n",
       "      <th>contract_type</th>\n",
       "      <th>internet_service_type</th>\n",
       "      <th>payment_type</th>\n",
       "      <th>total_add_on_count</th>\n",
       "    </tr>\n",
       "    <tr>\n",
       "      <th>customer_id</th>\n",
       "      <th></th>\n",
       "      <th></th>\n",
       "      <th></th>\n",
       "      <th></th>\n",
       "      <th></th>\n",
       "      <th></th>\n",
       "      <th></th>\n",
       "      <th></th>\n",
       "      <th></th>\n",
       "      <th></th>\n",
       "      <th></th>\n",
       "      <th></th>\n",
       "      <th></th>\n",
       "      <th></th>\n",
       "    </tr>\n",
       "  </thead>\n",
       "  <tbody>\n",
       "    <tr>\n",
       "      <th>4083-BFNYK</th>\n",
       "      <td>Female</td>\n",
       "      <td>Yes</td>\n",
       "      <td>Yes</td>\n",
       "      <td>No</td>\n",
       "      <td>38</td>\n",
       "      <td>Multiple lines</td>\n",
       "      <td>No</td>\n",
       "      <td>95.00</td>\n",
       "      <td>3591.25</td>\n",
       "      <td>No</td>\n",
       "      <td>One year</td>\n",
       "      <td>Fiber optic</td>\n",
       "      <td>Credit card (automatic)</td>\n",
       "      <td>3</td>\n",
       "    </tr>\n",
       "    <tr>\n",
       "      <th>5804-LEPIM</th>\n",
       "      <td>Female</td>\n",
       "      <td>Yes</td>\n",
       "      <td>No</td>\n",
       "      <td>No</td>\n",
       "      <td>2</td>\n",
       "      <td>Single line</td>\n",
       "      <td>Yes</td>\n",
       "      <td>70.35</td>\n",
       "      <td>139.05</td>\n",
       "      <td>Yes</td>\n",
       "      <td>Month-to-month</td>\n",
       "      <td>Fiber optic</td>\n",
       "      <td>Electronic check</td>\n",
       "      <td>0</td>\n",
       "    </tr>\n",
       "    <tr>\n",
       "      <th>4895-TMWIR</th>\n",
       "      <td>Male</td>\n",
       "      <td>Yes</td>\n",
       "      <td>Yes</td>\n",
       "      <td>No</td>\n",
       "      <td>11</td>\n",
       "      <td>Single line</td>\n",
       "      <td>No</td>\n",
       "      <td>19.95</td>\n",
       "      <td>214.75</td>\n",
       "      <td>Yes</td>\n",
       "      <td>Month-to-month</td>\n",
       "      <td>No internet service</td>\n",
       "      <td>Mailed check</td>\n",
       "      <td>No internet service</td>\n",
       "    </tr>\n",
       "    <tr>\n",
       "      <th>1342-JPNKI</th>\n",
       "      <td>Male</td>\n",
       "      <td>No</td>\n",
       "      <td>No</td>\n",
       "      <td>No</td>\n",
       "      <td>10</td>\n",
       "      <td>Multiple lines</td>\n",
       "      <td>Yes</td>\n",
       "      <td>86.05</td>\n",
       "      <td>834.10</td>\n",
       "      <td>Yes</td>\n",
       "      <td>Month-to-month</td>\n",
       "      <td>Fiber optic</td>\n",
       "      <td>Bank transfer (automatic)</td>\n",
       "      <td>1</td>\n",
       "    </tr>\n",
       "    <tr>\n",
       "      <th>3397-AVTKU</th>\n",
       "      <td>Male</td>\n",
       "      <td>No</td>\n",
       "      <td>No</td>\n",
       "      <td>No</td>\n",
       "      <td>43</td>\n",
       "      <td>Single line</td>\n",
       "      <td>Yes</td>\n",
       "      <td>60.00</td>\n",
       "      <td>2548.55</td>\n",
       "      <td>No</td>\n",
       "      <td>Two year</td>\n",
       "      <td>DSL</td>\n",
       "      <td>Electronic check</td>\n",
       "      <td>2</td>\n",
       "    </tr>\n",
       "  </tbody>\n",
       "</table>\n",
       "</div>"
      ],
      "text/plain": [
       "             gender senior_citizen partner dependents  tenure  \\\n",
       "customer_id                                                     \n",
       "4083-BFNYK   Female            Yes     Yes         No      38   \n",
       "5804-LEPIM   Female            Yes      No         No       2   \n",
       "4895-TMWIR     Male            Yes     Yes         No      11   \n",
       "1342-JPNKI     Male             No      No         No      10   \n",
       "3397-AVTKU     Male             No      No         No      43   \n",
       "\n",
       "            phone_service_type paperless_billing  monthly_charges  \\\n",
       "customer_id                                                         \n",
       "4083-BFNYK      Multiple lines                No            95.00   \n",
       "5804-LEPIM         Single line               Yes            70.35   \n",
       "4895-TMWIR         Single line                No            19.95   \n",
       "1342-JPNKI      Multiple lines               Yes            86.05   \n",
       "3397-AVTKU         Single line               Yes            60.00   \n",
       "\n",
       "             total_charges churn   contract_type internet_service_type  \\\n",
       "customer_id                                                              \n",
       "4083-BFNYK         3591.25    No        One year           Fiber optic   \n",
       "5804-LEPIM          139.05   Yes  Month-to-month           Fiber optic   \n",
       "4895-TMWIR          214.75   Yes  Month-to-month   No internet service   \n",
       "1342-JPNKI          834.10   Yes  Month-to-month           Fiber optic   \n",
       "3397-AVTKU         2548.55    No        Two year                   DSL   \n",
       "\n",
       "                          payment_type   total_add_on_count  \n",
       "customer_id                                                  \n",
       "4083-BFNYK     Credit card (automatic)                    3  \n",
       "5804-LEPIM            Electronic check                    0  \n",
       "4895-TMWIR                Mailed check  No internet service  \n",
       "1342-JPNKI   Bank transfer (automatic)                    1  \n",
       "3397-AVTKU            Electronic check                    2  "
      ]
     },
     "execution_count": 3,
     "metadata": {},
     "output_type": "execute_result"
    }
   ],
   "source": [
    "train.head()"
   ]
  },
  {
   "cell_type": "code",
   "execution_count": null,
   "id": "5c25e794",
   "metadata": {},
   "outputs": [],
   "source": []
  },
  {
   "cell_type": "code",
   "execution_count": null,
   "id": "30ce20e8",
   "metadata": {},
   "outputs": [],
   "source": []
  },
  {
   "cell_type": "code",
   "execution_count": null,
   "id": "85a94844",
   "metadata": {},
   "outputs": [],
   "source": []
  },
  {
   "cell_type": "code",
   "execution_count": null,
   "id": "8ea95004",
   "metadata": {},
   "outputs": [],
   "source": []
  },
  {
   "cell_type": "code",
   "execution_count": null,
   "id": "4c72e7f8",
   "metadata": {},
   "outputs": [],
   "source": []
  },
  {
   "cell_type": "code",
   "execution_count": null,
   "id": "b526afe7",
   "metadata": {},
   "outputs": [],
   "source": []
  },
  {
   "cell_type": "code",
   "execution_count": null,
   "id": "6f8c58ba",
   "metadata": {},
   "outputs": [],
   "source": []
  },
  {
   "cell_type": "code",
   "execution_count": null,
   "id": "46cd80ff",
   "metadata": {},
   "outputs": [],
   "source": []
  },
  {
   "cell_type": "code",
   "execution_count": null,
   "id": "4f75f3d7",
   "metadata": {},
   "outputs": [],
   "source": []
  },
  {
   "cell_type": "code",
   "execution_count": null,
   "id": "5d754f37",
   "metadata": {},
   "outputs": [],
   "source": []
  },
  {
   "cell_type": "code",
   "execution_count": null,
   "id": "43abc99e",
   "metadata": {},
   "outputs": [],
   "source": [
    "(do not present content that is not goingt to be in your presentation.)"
   ]
  },
  {
   "cell_type": "markdown",
   "id": "e59d9143",
   "metadata": {},
   "source": [
    "Percent of customers who churn"
   ]
  },
  {
   "cell_type": "code",
   "execution_count": null,
   "id": "e5dfbc69",
   "metadata": {},
   "outputs": [],
   "source": [
    "import matplotlib.pyplot as plt\n",
    "import pandas as pd\n",
    "\n",
    "# Assuming you have a DataFrame with a 'churn' column (0 for no churn, 1 for churn)\n",
    "data = {'churn': [0, 1, 1, 0, 0, 1, 0, 1, 0, 0]}\n",
    "df = pd.DataFrame(data)\n",
    "\n",
    "# Count the number of customers who have churned and those who haven't\n",
    "churn_counts = df['churn'].value_counts()\n",
    "\n",
    "# Plot a pie chart\n",
    "labels = ['Not Churned', 'Churned']\n",
    "colors = ['lightblue', 'lightcoral']\n",
    "\n",
    "plt.pie(churn_counts, labels=labels, colors=colors, autopct='%1.1f%%', startangle=90)\n",
    "plt.title('Distribution of Churned vs Not Churned Customers')\n",
    "plt.show()"
   ]
  },
  {
   "cell_type": "markdown",
   "id": "f0142c0a",
   "metadata": {},
   "source": [
    "You have to use markdown cell to go over the steps you took to prepare the data and why you made the decsions you made\n"
   ]
  },
  {
   "cell_type": "markdown",
   "id": "c1f1eec4",
   "metadata": {},
   "source": [
    "Data Preparation:\n",
    "    Data types changed:\n",
    "        I changed the data type for Total Charges because it was non-numerical.\n",
    "        Also, the \n",
    "    Data null values:\n",
    "        I changed null values in total charges to zero. why? give deicsions and reasons. was this done before or after you split. \n",
    "        I changed the null values in internet service type to \"No internet service\" so it can match the rest of the columns that have no internet service. if you look at the values in the other columns where it says no internet service is the same place where internet service type is null. \n",
    " "
   ]
  },
  {
   "cell_type": "code",
   "execution_count": null,
   "id": "3bb54f06",
   "metadata": {},
   "outputs": [],
   "source": []
  }
 ],
 "metadata": {
  "kernelspec": {
   "display_name": "Python 3 (ipykernel)",
   "language": "python",
   "name": "python3"
  },
  "language_info": {
   "codemirror_mode": {
    "name": "ipython",
    "version": 3
   },
   "file_extension": ".py",
   "mimetype": "text/x-python",
   "name": "python",
   "nbconvert_exporter": "python",
   "pygments_lexer": "ipython3",
   "version": "3.11.5"
  }
 },
 "nbformat": 4,
 "nbformat_minor": 5
}
