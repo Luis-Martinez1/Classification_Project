{
 "cells": [
  {
   "cell_type": "markdown",
   "id": "5ef375a9",
   "metadata": {},
   "source": [
    "<div style=\"background-color: lightblue; padding: 40px; font-size: 40px;\">\n",
    "             Divers of Churn\n",
    "</div>"
   ]
  },
  {
   "cell_type": "markdown",
   "id": "da0e7fad",
   "metadata": {},
   "source": [
    "##  Goals: \n",
    " - Find drivers of churn.\n",
    " - Use drivers to develop a machine learning model to classify customers as churn or not churn.\n",
    " - Summarize finding by providing recommendations on how to improve Telco customer loyalty."
   ]
  },
  {
   "cell_type": "markdown",
   "id": "6076e3e6",
   "metadata": {},
   "source": [
    "### Imports"
   ]
  },
  {
   "cell_type": "code",
   "execution_count": 1,
   "id": "a9ad4e0b",
   "metadata": {},
   "outputs": [],
   "source": [
    "#data manipulations\n",
    "import pandas as pd\n",
    "import numpy as np\n",
    "\n",
    "#visualization\n",
    "import matplotlib.pyplot as plt\n",
    "import seaborn as sns\n",
    "import os\n",
    " \n",
    "#stats\n",
    "from scipy import stats\n",
    "\n",
    "#my own files with my own functions\n",
    "import acquire\n",
    "import prepare\n",
    "import explore\n",
    "\n",
    "# train test split function and models\n",
    "from sklearn.model_selection import train_test_split\n",
    "from sklearn.tree import DecisionTreeClassifier, plot_tree, export_text\n",
    "from sklearn.metrics import classification_report\n",
    "from sklearn.ensemble import RandomForestClassifier\n",
    "from sklearn.neighbors import KNeighborsClassifier\n",
    "from sklearn.linear_model import LogisticRegression\n"
   ]
  },
  {
   "cell_type": "markdown",
   "id": "03ad76fb",
   "metadata": {},
   "source": [
    "## Acquire \n",
    " - Get data from Codeup DS Database Server \n",
    " - Each row represents a customer\n",
    " - Each columns represents a feature of a customer\n",
    "\n",
    "\n",
    "\n"
   ]
  },
  {
   "cell_type": "markdown",
   "id": "fe14143c",
   "metadata": {},
   "source": [
    "## Prepare \n",
    " - Remove SQL joiner columns\n",
    " - Checked for null values in the data\n",
    " - Remove blank spaces from columns\n",
    " - Split data into train, validate, and test.\n",
    " "
   ]
  },
  {
   "cell_type": "markdown",
   "id": "05d44fa7",
   "metadata": {},
   "source": [
    "## Data Dictionary\n",
    " - Gender is this\n",
    " - Senior citizen means that\n",
    " "
   ]
  },
  {
   "cell_type": "code",
   "execution_count": 2,
   "id": "295ba6bb",
   "metadata": {},
   "outputs": [],
   "source": [
    "# acquire, cleaning, and adding features to data\n",
    "df = prepare.prep_telco(acquire.get_telco_data())"
   ]
  },
  {
   "cell_type": "code",
   "execution_count": 3,
   "id": "de6e929e",
   "metadata": {},
   "outputs": [
    {
     "name": "stdout",
     "output_type": "stream",
     "text": [
      "train: 4225 (60.0% of 7043)\n",
      "validate: 1409 (20.0% of 7043)\n",
      "test: 1409 (20.0% of 7043)\n"
     ]
    }
   ],
   "source": [
    "# splitting data into train, validate, and test\n",
    "train, validate, test = prepare.split_data(df, 'churn')"
   ]
  },
  {
   "cell_type": "markdown",
   "id": "5fb64829",
   "metadata": {},
   "source": [
    "### First Looks"
   ]
  },
  {
   "cell_type": "code",
   "execution_count": 4,
   "id": "35e26dbd",
   "metadata": {},
   "outputs": [
    {
     "data": {
      "text/html": [
       "<div>\n",
       "<style scoped>\n",
       "    .dataframe tbody tr th:only-of-type {\n",
       "        vertical-align: middle;\n",
       "    }\n",
       "\n",
       "    .dataframe tbody tr th {\n",
       "        vertical-align: top;\n",
       "    }\n",
       "\n",
       "    .dataframe thead th {\n",
       "        text-align: right;\n",
       "    }\n",
       "</style>\n",
       "<table border=\"1\" class=\"dataframe\">\n",
       "  <thead>\n",
       "    <tr style=\"text-align: right;\">\n",
       "      <th></th>\n",
       "      <th>gender</th>\n",
       "      <th>senior_citizen</th>\n",
       "      <th>partner</th>\n",
       "      <th>dependents</th>\n",
       "      <th>phone_service_type</th>\n",
       "      <th>paperless_billing</th>\n",
       "      <th>monthly_charges</th>\n",
       "      <th>total_charges</th>\n",
       "      <th>churn</th>\n",
       "      <th>contract_type</th>\n",
       "      <th>internet_service_type</th>\n",
       "      <th>payment_type</th>\n",
       "      <th>total_add_on_count</th>\n",
       "      <th>tenure_years</th>\n",
       "    </tr>\n",
       "    <tr>\n",
       "      <th>customer_id</th>\n",
       "      <th></th>\n",
       "      <th></th>\n",
       "      <th></th>\n",
       "      <th></th>\n",
       "      <th></th>\n",
       "      <th></th>\n",
       "      <th></th>\n",
       "      <th></th>\n",
       "      <th></th>\n",
       "      <th></th>\n",
       "      <th></th>\n",
       "      <th></th>\n",
       "      <th></th>\n",
       "      <th></th>\n",
       "    </tr>\n",
       "  </thead>\n",
       "  <tbody>\n",
       "    <tr>\n",
       "      <th>4083-BFNYK</th>\n",
       "      <td>Female</td>\n",
       "      <td>Yes</td>\n",
       "      <td>Yes</td>\n",
       "      <td>No</td>\n",
       "      <td>Multiple lines</td>\n",
       "      <td>No</td>\n",
       "      <td>95.00</td>\n",
       "      <td>3591.25</td>\n",
       "      <td>No</td>\n",
       "      <td>One year</td>\n",
       "      <td>Fiber optic</td>\n",
       "      <td>Credit card (automatic)</td>\n",
       "      <td>3</td>\n",
       "      <td>3</td>\n",
       "    </tr>\n",
       "    <tr>\n",
       "      <th>5804-LEPIM</th>\n",
       "      <td>Female</td>\n",
       "      <td>Yes</td>\n",
       "      <td>No</td>\n",
       "      <td>No</td>\n",
       "      <td>Single line</td>\n",
       "      <td>Yes</td>\n",
       "      <td>70.35</td>\n",
       "      <td>139.05</td>\n",
       "      <td>Yes</td>\n",
       "      <td>Month-to-month</td>\n",
       "      <td>Fiber optic</td>\n",
       "      <td>Electronic check</td>\n",
       "      <td>0</td>\n",
       "      <td>0</td>\n",
       "    </tr>\n",
       "    <tr>\n",
       "      <th>4895-TMWIR</th>\n",
       "      <td>Male</td>\n",
       "      <td>Yes</td>\n",
       "      <td>Yes</td>\n",
       "      <td>No</td>\n",
       "      <td>Single line</td>\n",
       "      <td>No</td>\n",
       "      <td>19.95</td>\n",
       "      <td>214.75</td>\n",
       "      <td>Yes</td>\n",
       "      <td>Month-to-month</td>\n",
       "      <td>No internet service</td>\n",
       "      <td>Mailed check</td>\n",
       "      <td>No internet service</td>\n",
       "      <td>0</td>\n",
       "    </tr>\n",
       "    <tr>\n",
       "      <th>1342-JPNKI</th>\n",
       "      <td>Male</td>\n",
       "      <td>No</td>\n",
       "      <td>No</td>\n",
       "      <td>No</td>\n",
       "      <td>Multiple lines</td>\n",
       "      <td>Yes</td>\n",
       "      <td>86.05</td>\n",
       "      <td>834.10</td>\n",
       "      <td>Yes</td>\n",
       "      <td>Month-to-month</td>\n",
       "      <td>Fiber optic</td>\n",
       "      <td>Bank transfer (automatic)</td>\n",
       "      <td>1</td>\n",
       "      <td>0</td>\n",
       "    </tr>\n",
       "    <tr>\n",
       "      <th>3397-AVTKU</th>\n",
       "      <td>Male</td>\n",
       "      <td>No</td>\n",
       "      <td>No</td>\n",
       "      <td>No</td>\n",
       "      <td>Single line</td>\n",
       "      <td>Yes</td>\n",
       "      <td>60.00</td>\n",
       "      <td>2548.55</td>\n",
       "      <td>No</td>\n",
       "      <td>Two year</td>\n",
       "      <td>DSL</td>\n",
       "      <td>Electronic check</td>\n",
       "      <td>2</td>\n",
       "      <td>3</td>\n",
       "    </tr>\n",
       "  </tbody>\n",
       "</table>\n",
       "</div>"
      ],
      "text/plain": [
       "             gender senior_citizen partner dependents phone_service_type  \\\n",
       "customer_id                                                                \n",
       "4083-BFNYK   Female            Yes     Yes         No     Multiple lines   \n",
       "5804-LEPIM   Female            Yes      No         No        Single line   \n",
       "4895-TMWIR     Male            Yes     Yes         No        Single line   \n",
       "1342-JPNKI     Male             No      No         No     Multiple lines   \n",
       "3397-AVTKU     Male             No      No         No        Single line   \n",
       "\n",
       "            paperless_billing  monthly_charges  total_charges churn  \\\n",
       "customer_id                                                           \n",
       "4083-BFNYK                 No            95.00        3591.25    No   \n",
       "5804-LEPIM                Yes            70.35         139.05   Yes   \n",
       "4895-TMWIR                 No            19.95         214.75   Yes   \n",
       "1342-JPNKI                Yes            86.05         834.10   Yes   \n",
       "3397-AVTKU                Yes            60.00        2548.55    No   \n",
       "\n",
       "              contract_type internet_service_type               payment_type  \\\n",
       "customer_id                                                                    \n",
       "4083-BFNYK         One year           Fiber optic    Credit card (automatic)   \n",
       "5804-LEPIM   Month-to-month           Fiber optic           Electronic check   \n",
       "4895-TMWIR   Month-to-month   No internet service               Mailed check   \n",
       "1342-JPNKI   Month-to-month           Fiber optic  Bank transfer (automatic)   \n",
       "3397-AVTKU         Two year                   DSL           Electronic check   \n",
       "\n",
       "              total_add_on_count tenure_years  \n",
       "customer_id                                    \n",
       "4083-BFNYK                     3            3  \n",
       "5804-LEPIM                     0            0  \n",
       "4895-TMWIR   No internet service            0  \n",
       "1342-JPNKI                     1            0  \n",
       "3397-AVTKU                     2            3  "
      ]
     },
     "execution_count": 4,
     "metadata": {},
     "output_type": "execute_result"
    }
   ],
   "source": [
    "train.head()"
   ]
  },
  {
   "cell_type": "markdown",
   "id": "1c873db1",
   "metadata": {},
   "source": [
    "### Data summary"
   ]
  },
  {
   "cell_type": "code",
   "execution_count": 5,
   "id": "30ce20e8",
   "metadata": {},
   "outputs": [
    {
     "data": {
      "text/html": [
       "<div>\n",
       "<style scoped>\n",
       "    .dataframe tbody tr th:only-of-type {\n",
       "        vertical-align: middle;\n",
       "    }\n",
       "\n",
       "    .dataframe tbody tr th {\n",
       "        vertical-align: top;\n",
       "    }\n",
       "\n",
       "    .dataframe thead th {\n",
       "        text-align: right;\n",
       "    }\n",
       "</style>\n",
       "<table border=\"1\" class=\"dataframe\">\n",
       "  <thead>\n",
       "    <tr style=\"text-align: right;\">\n",
       "      <th></th>\n",
       "      <th>count</th>\n",
       "      <th>unique</th>\n",
       "      <th>top</th>\n",
       "      <th>freq</th>\n",
       "      <th>mean</th>\n",
       "      <th>std</th>\n",
       "      <th>min</th>\n",
       "      <th>25%</th>\n",
       "      <th>50%</th>\n",
       "      <th>75%</th>\n",
       "      <th>max</th>\n",
       "    </tr>\n",
       "  </thead>\n",
       "  <tbody>\n",
       "    <tr>\n",
       "      <th>gender</th>\n",
       "      <td>4225</td>\n",
       "      <td>2</td>\n",
       "      <td>Male</td>\n",
       "      <td>2116</td>\n",
       "      <td>NaN</td>\n",
       "      <td>NaN</td>\n",
       "      <td>NaN</td>\n",
       "      <td>NaN</td>\n",
       "      <td>NaN</td>\n",
       "      <td>NaN</td>\n",
       "      <td>NaN</td>\n",
       "    </tr>\n",
       "    <tr>\n",
       "      <th>senior_citizen</th>\n",
       "      <td>4225</td>\n",
       "      <td>2</td>\n",
       "      <td>No</td>\n",
       "      <td>3531</td>\n",
       "      <td>NaN</td>\n",
       "      <td>NaN</td>\n",
       "      <td>NaN</td>\n",
       "      <td>NaN</td>\n",
       "      <td>NaN</td>\n",
       "      <td>NaN</td>\n",
       "      <td>NaN</td>\n",
       "    </tr>\n",
       "    <tr>\n",
       "      <th>partner</th>\n",
       "      <td>4225</td>\n",
       "      <td>2</td>\n",
       "      <td>No</td>\n",
       "      <td>2160</td>\n",
       "      <td>NaN</td>\n",
       "      <td>NaN</td>\n",
       "      <td>NaN</td>\n",
       "      <td>NaN</td>\n",
       "      <td>NaN</td>\n",
       "      <td>NaN</td>\n",
       "      <td>NaN</td>\n",
       "    </tr>\n",
       "    <tr>\n",
       "      <th>dependents</th>\n",
       "      <td>4225</td>\n",
       "      <td>2</td>\n",
       "      <td>No</td>\n",
       "      <td>2961</td>\n",
       "      <td>NaN</td>\n",
       "      <td>NaN</td>\n",
       "      <td>NaN</td>\n",
       "      <td>NaN</td>\n",
       "      <td>NaN</td>\n",
       "      <td>NaN</td>\n",
       "      <td>NaN</td>\n",
       "    </tr>\n",
       "    <tr>\n",
       "      <th>phone_service_type</th>\n",
       "      <td>4225</td>\n",
       "      <td>3</td>\n",
       "      <td>Single line</td>\n",
       "      <td>2020</td>\n",
       "      <td>NaN</td>\n",
       "      <td>NaN</td>\n",
       "      <td>NaN</td>\n",
       "      <td>NaN</td>\n",
       "      <td>NaN</td>\n",
       "      <td>NaN</td>\n",
       "      <td>NaN</td>\n",
       "    </tr>\n",
       "    <tr>\n",
       "      <th>paperless_billing</th>\n",
       "      <td>4225</td>\n",
       "      <td>2</td>\n",
       "      <td>Yes</td>\n",
       "      <td>2507</td>\n",
       "      <td>NaN</td>\n",
       "      <td>NaN</td>\n",
       "      <td>NaN</td>\n",
       "      <td>NaN</td>\n",
       "      <td>NaN</td>\n",
       "      <td>NaN</td>\n",
       "      <td>NaN</td>\n",
       "    </tr>\n",
       "    <tr>\n",
       "      <th>monthly_charges</th>\n",
       "      <td>4225.0</td>\n",
       "      <td>NaN</td>\n",
       "      <td>NaN</td>\n",
       "      <td>NaN</td>\n",
       "      <td>65.138947</td>\n",
       "      <td>30.336884</td>\n",
       "      <td>18.25</td>\n",
       "      <td>35.4</td>\n",
       "      <td>70.55</td>\n",
       "      <td>90.4</td>\n",
       "      <td>118.75</td>\n",
       "    </tr>\n",
       "    <tr>\n",
       "      <th>total_charges</th>\n",
       "      <td>4225.0</td>\n",
       "      <td>NaN</td>\n",
       "      <td>NaN</td>\n",
       "      <td>NaN</td>\n",
       "      <td>2305.884888</td>\n",
       "      <td>2282.408946</td>\n",
       "      <td>0.0</td>\n",
       "      <td>408.25</td>\n",
       "      <td>1389.35</td>\n",
       "      <td>3886.45</td>\n",
       "      <td>8672.45</td>\n",
       "    </tr>\n",
       "    <tr>\n",
       "      <th>churn</th>\n",
       "      <td>4225</td>\n",
       "      <td>2</td>\n",
       "      <td>No</td>\n",
       "      <td>3104</td>\n",
       "      <td>NaN</td>\n",
       "      <td>NaN</td>\n",
       "      <td>NaN</td>\n",
       "      <td>NaN</td>\n",
       "      <td>NaN</td>\n",
       "      <td>NaN</td>\n",
       "      <td>NaN</td>\n",
       "    </tr>\n",
       "    <tr>\n",
       "      <th>contract_type</th>\n",
       "      <td>4225</td>\n",
       "      <td>3</td>\n",
       "      <td>Month-to-month</td>\n",
       "      <td>2335</td>\n",
       "      <td>NaN</td>\n",
       "      <td>NaN</td>\n",
       "      <td>NaN</td>\n",
       "      <td>NaN</td>\n",
       "      <td>NaN</td>\n",
       "      <td>NaN</td>\n",
       "      <td>NaN</td>\n",
       "    </tr>\n",
       "    <tr>\n",
       "      <th>internet_service_type</th>\n",
       "      <td>4225</td>\n",
       "      <td>3</td>\n",
       "      <td>Fiber optic</td>\n",
       "      <td>1898</td>\n",
       "      <td>NaN</td>\n",
       "      <td>NaN</td>\n",
       "      <td>NaN</td>\n",
       "      <td>NaN</td>\n",
       "      <td>NaN</td>\n",
       "      <td>NaN</td>\n",
       "      <td>NaN</td>\n",
       "    </tr>\n",
       "    <tr>\n",
       "      <th>payment_type</th>\n",
       "      <td>4225</td>\n",
       "      <td>4</td>\n",
       "      <td>Electronic check</td>\n",
       "      <td>1434</td>\n",
       "      <td>NaN</td>\n",
       "      <td>NaN</td>\n",
       "      <td>NaN</td>\n",
       "      <td>NaN</td>\n",
       "      <td>NaN</td>\n",
       "      <td>NaN</td>\n",
       "      <td>NaN</td>\n",
       "    </tr>\n",
       "    <tr>\n",
       "      <th>total_add_on_count</th>\n",
       "      <td>4225</td>\n",
       "      <td>8</td>\n",
       "      <td>No internet service</td>\n",
       "      <td>918</td>\n",
       "      <td>NaN</td>\n",
       "      <td>NaN</td>\n",
       "      <td>NaN</td>\n",
       "      <td>NaN</td>\n",
       "      <td>NaN</td>\n",
       "      <td>NaN</td>\n",
       "      <td>NaN</td>\n",
       "    </tr>\n",
       "    <tr>\n",
       "      <th>tenure_years</th>\n",
       "      <td>4225</td>\n",
       "      <td>7</td>\n",
       "      <td>0</td>\n",
       "      <td>1235</td>\n",
       "      <td>NaN</td>\n",
       "      <td>NaN</td>\n",
       "      <td>NaN</td>\n",
       "      <td>NaN</td>\n",
       "      <td>NaN</td>\n",
       "      <td>NaN</td>\n",
       "      <td>NaN</td>\n",
       "    </tr>\n",
       "  </tbody>\n",
       "</table>\n",
       "</div>"
      ],
      "text/plain": [
       "                        count unique                  top  freq         mean  \\\n",
       "gender                   4225      2                 Male  2116          NaN   \n",
       "senior_citizen           4225      2                   No  3531          NaN   \n",
       "partner                  4225      2                   No  2160          NaN   \n",
       "dependents               4225      2                   No  2961          NaN   \n",
       "phone_service_type       4225      3          Single line  2020          NaN   \n",
       "paperless_billing        4225      2                  Yes  2507          NaN   \n",
       "monthly_charges        4225.0    NaN                  NaN   NaN    65.138947   \n",
       "total_charges          4225.0    NaN                  NaN   NaN  2305.884888   \n",
       "churn                    4225      2                   No  3104          NaN   \n",
       "contract_type            4225      3       Month-to-month  2335          NaN   \n",
       "internet_service_type    4225      3          Fiber optic  1898          NaN   \n",
       "payment_type             4225      4     Electronic check  1434          NaN   \n",
       "total_add_on_count       4225      8  No internet service   918          NaN   \n",
       "tenure_years             4225      7                    0  1235          NaN   \n",
       "\n",
       "                               std    min     25%      50%      75%      max  \n",
       "gender                         NaN    NaN     NaN      NaN      NaN      NaN  \n",
       "senior_citizen                 NaN    NaN     NaN      NaN      NaN      NaN  \n",
       "partner                        NaN    NaN     NaN      NaN      NaN      NaN  \n",
       "dependents                     NaN    NaN     NaN      NaN      NaN      NaN  \n",
       "phone_service_type             NaN    NaN     NaN      NaN      NaN      NaN  \n",
       "paperless_billing              NaN    NaN     NaN      NaN      NaN      NaN  \n",
       "monthly_charges          30.336884  18.25    35.4    70.55     90.4   118.75  \n",
       "total_charges          2282.408946    0.0  408.25  1389.35  3886.45  8672.45  \n",
       "churn                          NaN    NaN     NaN      NaN      NaN      NaN  \n",
       "contract_type                  NaN    NaN     NaN      NaN      NaN      NaN  \n",
       "internet_service_type          NaN    NaN     NaN      NaN      NaN      NaN  \n",
       "payment_type                   NaN    NaN     NaN      NaN      NaN      NaN  \n",
       "total_add_on_count             NaN    NaN     NaN      NaN      NaN      NaN  \n",
       "tenure_years                   NaN    NaN     NaN      NaN      NaN      NaN  "
      ]
     },
     "execution_count": 5,
     "metadata": {},
     "output_type": "execute_result"
    }
   ],
   "source": [
    "train.describe(include='all').T"
   ]
  },
  {
   "cell_type": "markdown",
   "id": "79021cc3",
   "metadata": {},
   "source": [
    "# Explore"
   ]
  },
  {
   "cell_type": "markdown",
   "id": "74fecb67",
   "metadata": {},
   "source": [
    "### How often do customers churn?"
   ]
  },
  {
   "cell_type": "code",
   "execution_count": 6,
   "id": "876f612b",
   "metadata": {
    "scrolled": false
   },
   "outputs": [
    {
     "data": {
      "image/png": "[encoded data removed]",
      "text/plain": [
       "<Figure size 640x480 with 1 Axes>"
      ]
     },
     "metadata": {},
     "output_type": "display_data"
    }
   ],
   "source": [
    "# distribution of our target variable\n",
    "explore.visualize_churn_distribution(train)"
   ]
  },
  {
   "cell_type": "markdown",
   "id": "12fe29d7",
   "metadata": {},
   "source": [
    "> over a quarter of customers are churnning"
   ]
  },
  {
   "cell_type": "markdown",
   "id": "8daf6dc4",
   "metadata": {},
   "source": [
    "### Are new customers more likely to churn?"
   ]
  },
  {
   "cell_type": "markdown",
   "id": "28fe3b2e",
   "metadata": {},
   "source": [
    " $H_0$: There is no relationship between tenure and whether or not someone has churned\n",
    "\n",
    " $H_a$: There is a relationship between tenure and whether or not someone has churned\n",
    " \n",
    " aplha = 0.05"
   ]
  },
  {
   "cell_type": "code",
   "execution_count": 20,
   "id": "2d95aa0f",
   "metadata": {
    "scrolled": true
   },
   "outputs": [
    {
     "data": {
      "image/png": "[encoded data removed]",
      "text/plain": [
       "<Figure size 600x300 with 1 Axes>"
      ]
     },
     "metadata": {},
     "output_type": "display_data"
    },
    {
     "name": "stdout",
     "output_type": "stream",
     "text": [
      "Contingency Table:\n",
      "churn           0    1\n",
      "tenure_years          \n",
      "0             626  609\n",
      "1             448  164\n",
      "2             422  110\n",
      "3             343   95\n",
      "4             417   89\n",
      "5             620   49\n",
      "6             228    5\n",
      "\n",
      "Chi-squared test:\n",
      "Chi2 Statistic: 561.8805072854334\n",
      "P-value: 3.8769280255400623e-118\n"
     ]
    }
   ],
   "source": [
    "# Plot to visualize and draw conclusions from the assosociation. \n",
    "\n",
    "explore.analyze_tenure_years(train, 'tenure_years', 'churn')"
   ]
  },
  {
   "cell_type": "markdown",
   "id": "1cc1eabf",
   "metadata": {},
   "source": [
    ">  There is a significant assocaiation between tenure and customer churn. \n",
    "\n",
    "> A lot of customers churned duing the first or second year."
   ]
  },
  {
   "cell_type": "markdown",
   "id": "1179b5b2",
   "metadata": {},
   "source": [
    "Recommed: investigating other features assocaited with how much or how little time a customer remains loyal.   "
   ]
  },
  {
   "cell_type": "markdown",
   "id": "23f15835",
   "metadata": {},
   "source": [
    "### Is there a relationship between contract type and whether or not a customer has churned?"
   ]
  },
  {
   "cell_type": "markdown",
   "id": "4ac00e50",
   "metadata": {},
   "source": [
    " $H_0$: There is no relationship between contract type and churn.\n",
    "\n",
    " $H_a$: There is a relationship between contract type and churn.\n",
    " \n",
    " aplha = 0.05"
   ]
  },
  {
   "cell_type": "code",
   "execution_count": 7,
   "id": "1cfdcc9c",
   "metadata": {
    "scrolled": true
   },
   "outputs": [
    {
     "data": {
      "image/png": "[encoded data removed]",
      "text/plain": [
       "<Figure size 600x300 with 1 Axes>"
      ]
     },
     "metadata": {},
     "output_type": "display_data"
    },
    {
     "name": "stdout",
     "output_type": "stream",
     "text": [
      "Contingency Table:\n",
      "churn             No  Yes\n",
      "contract_type            \n",
      "Month-to-month  1338  997\n",
      "One year         785   94\n",
      "Two year         981   30\n",
      "\n",
      "Chi-squared test:\n",
      "Chi2 Statistic: 714.1745080997528\n",
      "P-value: 8.298049251133243e-156\n"
     ]
    }
   ],
   "source": [
    "# Plot to visualize and draw conclusions from the assosociation. \n",
    "\n",
    "explore.analyze_contract_type(train, 'contract_type', 'churn')"
   ]
  },
  {
   "cell_type": "markdown",
   "id": "53f0dcfc",
   "metadata": {},
   "source": [
    "> There is a relationship between contract type and whether or not someone churned"
   ]
  },
  {
   "cell_type": "code",
   "execution_count": 8,
   "id": "6f8c58ba",
   "metadata": {},
   "outputs": [],
   "source": [
    "# Lets us know that customers with longer contracts remain loyal.\n",
    "# This makes sense considering the relationship between tenure.\n",
    "# they try month to month and then leave, but contract custoemrs stay\n",
    "# recommend: A loyalty program to promote lenghtier contract types during sign up."
   ]
  },
  {
   "cell_type": "markdown",
   "id": "6ab4e178",
   "metadata": {},
   "source": [
    "### Is there a relationship between monthly charges and whether or not a customer has churned?"
   ]
  },
  {
   "cell_type": "markdown",
   "id": "ebdf909b",
   "metadata": {},
   "source": [
    " $H_0$: There is not a significant difference between monthly charges and churn.\n",
    "\n",
    " $H_a$: There is a significant difference between monthly charges and churn.\n",
    " \n",
    " aplha = 0.05"
   ]
  },
  {
   "cell_type": "code",
   "execution_count": 9,
   "id": "f09c89b1",
   "metadata": {
    "scrolled": true
   },
   "outputs": [
    {
     "data": {
      "image/png": "[encoded data removed]",
      "text/plain": [
       "<Figure size 600x300 with 1 Axes>"
      ]
     },
     "metadata": {},
     "output_type": "display_data"
    },
    {
     "name": "stdout",
     "output_type": "stream",
     "text": [
      "Mann-Whitney U statistic: 2136241.0\n",
      "P-value: 9.83259830397179e-30\n"
     ]
    }
   ],
   "source": [
    "# Plot to visualize and draw conclusions from the assosociation. \n",
    "\n",
    "explore.analyze_monthly_charges(train, 'monthly_charges', 'churn')"
   ]
  },
  {
   "cell_type": "markdown",
   "id": "aa3d12dc",
   "metadata": {},
   "source": [
    "> Reject the null hypothesis: There is a significant difference in monthly_charges between churn groups.\n",
    "\n",
    "         - customers with higher average monthly charges churn more\n",
    "             \n",
    "    Recommend: Ask customers during signup if they value having lower monthly charges and suggest a longer contract if they do. "
   ]
  },
  {
   "cell_type": "markdown",
   "id": "777c708a",
   "metadata": {},
   "source": [
    "### Is there a relationship between the number of add-ons  and whether or not a customer has churned?"
   ]
  },
  {
   "cell_type": "markdown",
   "id": "7d621ca0",
   "metadata": {},
   "source": [
    "$H_0$: There is not a significant difference between the number of add-ons and churn.\n",
    "\n",
    "$H_a$: There is a significant difference between the number of add-ons and churn.\n",
    " \n",
    " aplha = 0.05"
   ]
  },
  {
   "cell_type": "code",
   "execution_count": 10,
   "id": "5e1109e5",
   "metadata": {
    "scrolled": false
   },
   "outputs": [
    {
     "data": {
      "image/png": "[encoded data removed]",
      "text/plain": [
       "<Figure size 600x300 with 1 Axes>"
      ]
     },
     "metadata": {},
     "output_type": "display_data"
    },
    {
     "name": "stdout",
     "output_type": "stream",
     "text": [
      "Contingency Table:\n",
      "churn                 No  Yes\n",
      "total_add_on_count           \n",
      "0                    188  221\n",
      "1                    320  251\n",
      "2                    382  220\n",
      "3                    504  196\n",
      "4                    403  111\n",
      "5                    303   41\n",
      "6                    156   11\n",
      "No internet service  848   70\n",
      "\n",
      "Chi-squared test:\n",
      "Chi2 Statistic: 525.9314282895757\n",
      "P-value: 2.1268933468180813e-109\n"
     ]
    }
   ],
   "source": [
    "explore.analyze_total_add_on_count(train, 'total_add_on_count', 'churn')"
   ]
  },
  {
   "cell_type": "markdown",
   "id": "cbe6bd8d",
   "metadata": {},
   "source": [
    "> Reject the null hypothesis: There is a significant difference the number of add-on services and churn .\n",
    "\n",
    "         - customers with fewer add-ons churn more.\n",
    "             \n",
    "    Recommend: Offer customers every add-on services to provide good customer experience. "
   ]
  },
  {
   "cell_type": "markdown",
   "id": "b9c43723",
   "metadata": {},
   "source": [
    "###  Do payment methods affect churn?"
   ]
  },
  {
   "cell_type": "markdown",
   "id": "b3b1e669",
   "metadata": {},
   "source": [
    "$H_0$: There is not a significant difference between the customer payment method and churn.\n",
    "\n",
    "$H_a$: There is a significant difference between the customer payment method and churn.\n",
    " \n",
    " aplha = 0.05"
   ]
  },
  {
   "cell_type": "code",
   "execution_count": 11,
   "id": "666bd2c3",
   "metadata": {
    "scrolled": true
   },
   "outputs": [
    {
     "data": {
      "image/png": "[encoded data removed]",
      "text/plain": [
       "<Figure size 1000x300 with 1 Axes>"
      ]
     },
     "metadata": {},
     "output_type": "display_data"
    },
    {
     "name": "stdout",
     "output_type": "stream",
     "text": [
      "Contingency Table:\n",
      "churn                       No  Yes\n",
      "payment_type                       \n",
      "Bank transfer (automatic)  778  157\n",
      "Credit card (automatic)    783  138\n",
      "Electronic check           788  646\n",
      "Mailed check               755  180\n",
      "\n",
      "Chi-squared test:\n",
      "Chi2 Statistic: 386.1839951483273\n",
      "P-value: 2.1760476161221612e-83\n"
     ]
    }
   ],
   "source": [
    "explore.analyze_payment_type(train, 'payment_type', 'churn')"
   ]
  },
  {
   "cell_type": "markdown",
   "id": "cdd58e16",
   "metadata": {},
   "source": [
    "> Reject the null hypothesis: There is a significant difference the payment type and churn .\n",
    "\n",
    "         - customers with electronic check payment method churn more.\n",
    "             \n",
    "    Recommend: Offer customers a chance to signup for automatic payements with every customer interaction."
   ]
  },
  {
   "cell_type": "markdown",
   "id": "f31eb0fe",
   "metadata": {},
   "source": [
    "### Exploration Summary"
   ]
  },
  {
   "cell_type": "markdown",
   "id": "03743054",
   "metadata": {},
   "source": [
    " - The type of contract a customer has is a driver of churn\n",
    " - Tenure is a driver of churn.\n",
    " - Monthly charges are a driver of churn\n",
    " - Payment methods are drivers of churn\n",
    " "
   ]
  },
  {
   "cell_type": "markdown",
   "id": "cd122034",
   "metadata": {},
   "source": [
    "# Modeling"
   ]
  },
  {
   "cell_type": "markdown",
   "id": "99ee5d71",
   "metadata": {},
   "source": [
    "### Preprocess \n",
    "\n",
    " - Encode values for contract_type, internet_service_type, payment_type, phone_service_type. \n",
    " - Remove columns contract_type, internet_service_type, payment_type, phone_service_type.\n",
    " - All other columns change Yes to 1 and No to 0.\n",
    " - No internet service is now 0.\n",
    " - Convert all columns to a numerical data type.\n",
    " - Models with hyperparameters have been fit with train data and tunned with valiadate data.\n",
    " - Decsion Tree and Random Forest are pruned and tunned for best performance. "
   ]
  },
  {
   "cell_type": "code",
   "execution_count": 12,
   "id": "6b1a7d2c",
   "metadata": {},
   "outputs": [],
   "source": [
    "# Function accepts train, evaluate, and test DataFrames and returns encoded data ready for machine learning. \n",
    "train, validate, test = prepare.preprocess_telco(train, validate, test)"
   ]
  },
  {
   "cell_type": "markdown",
   "id": "6c898086",
   "metadata": {},
   "source": [
    "### Baseline"
   ]
  },
  {
   "cell_type": "markdown",
   "id": "8f775a67",
   "metadata": {},
   "source": [
    " - Accuracy will be used as the evaluation metric\n",
    " - Accuracy = (TP + TN)/ (TP + TN + FP +FN)"
   ]
  },
  {
   "cell_type": "code",
   "execution_count": 13,
   "id": "0ebbda88",
   "metadata": {},
   "outputs": [
    {
     "name": "stdout",
     "output_type": "stream",
     "text": [
      "Baseline Prediction: 0    0\n",
      "Name: churn, dtype: int64\n",
      "Baseline Accuracy: 0.7346745562130178\n"
     ]
    }
   ],
   "source": [
    "# baseline is the target outcome mode\n",
    "baseline_prediction=train.churn.mode()\n",
    "baseline_accuracy = (train.churn == 0).mean()\n",
    "print(f'Baseline Prediction: {baseline_prediction}')\n",
    "print(f'Baseline Accuracy: {baseline_accuracy}')"
   ]
  },
  {
   "cell_type": "markdown",
   "id": "abc4378d",
   "metadata": {},
   "source": [
    " > non-churn customers makeup 73% of the data"
   ]
  },
  {
   "cell_type": "markdown",
   "id": "4f5880c9",
   "metadata": {},
   "source": [
    "### Separate Dataframes into features and target\n",
    " - Model will train on train dataframe features and train dataframe target.\n",
    " - Model will compare the difference between predicted and acutal target outcomes. "
   ]
  },
  {
   "cell_type": "code",
   "execution_count": 14,
   "id": "4a8d5e99",
   "metadata": {},
   "outputs": [],
   "source": [
    "# create two variables from train, one with only features and one for target. \n",
    "X_train = train.drop(columns=['churn'])\n",
    "y_train = train.churn\n",
    "\n",
    "# create two variables from validate, one with only features and one for target. \n",
    "X_validate = validate.drop(columns=['churn'])\n",
    "y_validate = validate.churn\n",
    "\n",
    "# create two variables from test, one with only features and one for target. \n",
    "X_test = test.drop(columns=['churn'])\n",
    "y_test = test.churn"
   ]
  },
  {
   "cell_type": "markdown",
   "id": "ea587a0c",
   "metadata": {},
   "source": [
    "### Decsion Tree"
   ]
  },
  {
   "cell_type": "code",
   "execution_count": 15,
   "id": "72a6966a",
   "metadata": {},
   "outputs": [
    {
     "name": "stdout",
     "output_type": "stream",
     "text": [
      "Accuracy of Decision Tree on train data is 0.8196449704142011\n",
      "Accuracy of Decision Tree on validate data is 0.7913413768630234\n"
     ]
    }
   ],
   "source": [
    "# create classifier object\n",
    "clf = DecisionTreeClassifier(max_depth=7, min_samples_leaf=4, random_state=123)\n",
    "#fit model on training data\n",
    "clf = clf.fit(X_train, y_train)\n",
    "# print result\n",
    "print(f\"Accuracy of Decision Tree on train data is {clf.score(X_train, y_train)}\")\n",
    "print(f\"Accuracy of Decision Tree on validate data is {clf.score(X_validate, y_validate)}\")"
   ]
  },
  {
   "cell_type": "markdown",
   "id": "c13ba315",
   "metadata": {},
   "source": [
    "> max depth of 7 with 4 leafs provides the best accuracy score for validate data which is .79"
   ]
  },
  {
   "cell_type": "markdown",
   "id": "a5e77c7f",
   "metadata": {},
   "source": [
    "### Random Forest"
   ]
  },
  {
   "cell_type": "code",
   "execution_count": 16,
   "id": "9fcbf4c8",
   "metadata": {},
   "outputs": [
    {
     "name": "stdout",
     "output_type": "stream",
     "text": [
      "Accuracy of Random Forest on train data is 0.8049704142011834\n",
      "Accuracy of Random Forest on validate data is 0.8034066713981547\n"
     ]
    }
   ],
   "source": [
    "# create classifier object\n",
    "rf = RandomForestClassifier(max_depth=6, min_samples_leaf= 5,  random_state=123)\n",
    "#fit model on training data\n",
    "rf = rf.fit(X_train, y_train)\n",
    "# print result\n",
    "print(f\"Accuracy of Random Forest on train data is {rf.score(X_train, y_train)}\")\n",
    "print(f\"Accuracy of Random Forest on validate data is {rf.score(X_validate, y_validate)}\")"
   ]
  },
  {
   "cell_type": "markdown",
   "id": "ef4bb43b",
   "metadata": {},
   "source": [
    "> max depth of 6 with 5 leafs provides the best accuracy score for validate data which is .80"
   ]
  },
  {
   "cell_type": "markdown",
   "id": "346de051",
   "metadata": {},
   "source": [
    "### Logistic Regression"
   ]
  },
  {
   "cell_type": "code",
   "execution_count": 17,
   "id": "63a43b41",
   "metadata": {},
   "outputs": [
    {
     "name": "stdout",
     "output_type": "stream",
     "text": [
      "Accuracy of Logistic Regression on train data is 0.7936094674556213\n",
      "Accuracy of Logistic Regression  on validate data is 0.8055358410220014\n"
     ]
    }
   ],
   "source": [
    "# create classifier object\n",
    "logit = LogisticRegression(solver='liblinear')\n",
    "#fit model on training data\n",
    "logit= logit.fit(X_train, y_train)\n",
    "# print result\n",
    "print(f\"Accuracy of Logistic Regression on train data is {logit.score(X_train, y_train)}\")\n",
    "print(f\"Accuracy of Logistic Regression  on validate data is {logit.score(X_validate, y_validate)}\")"
   ]
  },
  {
   "cell_type": "markdown",
   "id": "611c5a51",
   "metadata": {},
   "source": [
    "> Logistic Regression performed better on validate. Train and validate accuracy are above baseline."
   ]
  },
  {
   "cell_type": "markdown",
   "id": "75ceb1aa",
   "metadata": {},
   "source": [
    "# Comparing Models\n",
    "\n",
    " - All models performed better than baseline on train and validate. \n",
    " - Decision Tree and Random Forest performed slightly worse when introduced to out of sample data, this is to be expected it lets us know our model generalizes well to new data.\n",
    " - I have chosen to move forward with the Logistic Regression model becuase this model acutally performed slightly better on validate data."
   ]
  },
  {
   "cell_type": "markdown",
   "id": "c20ffa89",
   "metadata": {},
   "source": [
    "### Logistic Regression with Test Data\n"
   ]
  },
  {
   "cell_type": "markdown",
   "id": "9d78d569",
   "metadata": {},
   "source": [
    "Use Logistic Regression with test since it is the best overall model. "
   ]
  },
  {
   "cell_type": "code",
   "execution_count": 18,
   "id": "382665bd",
   "metadata": {},
   "outputs": [
    {
     "data": {
      "image/png": "[encoded data removed]",
      "text/plain": [
       "<Figure size 500x300 with 1 Axes>"
      ]
     },
     "metadata": {},
     "output_type": "display_data"
    },
    {
     "name": "stdout",
     "output_type": "stream",
     "text": [
      "Accuracy of Logistic Regression on test is 0.8019872249822569\n"
     ]
    }
   ],
   "source": [
    "# probability and predictions for the test set\n",
    "y_pred_proba = logit.predict_proba(X_test)[:, 1]\n",
    "y_pred = logit.predict(X_test)\n",
    "# show the \n",
    "prepare.predicted_probabilities(y_pred_proba, y_pred)\n",
    "# Print accuracy score for X_test and y_test\n",
    "print(f\"Accuracy of Logistic Regression on test is {logit.score(X_test, y_test)}\")"
   ]
  },
  {
   "cell_type": "markdown",
   "id": "d9676a69",
   "metadata": {},
   "source": [
    " - The final overall best modle performs about as well as it did on our validate data. \n",
    " - The model performes better than baselilne and train. \n",
    " - This model performs well with unseen data."
   ]
  },
  {
   "cell_type": "markdown",
   "id": "48438f47",
   "metadata": {},
   "source": [
    "### Modeling Summary"
   ]
  },
  {
   "cell_type": "markdown",
   "id": "fc24b39a",
   "metadata": {},
   "source": [
    " - Decsion Tree, Random Forest, and Logistics Regression model all performed better than baseline on train and validate. \n",
    " - The Logistic Regression model performed better on validate than on train, which could mean our model is a generalized model which is one that has learned the underlying patterns in the data and can make accurate predictions on new data.\n",
    " -  A generalized model strikes a balance between capturing the complexities in the data and not being overly complex to the point of overfitting."
   ]
  },
  {
   "cell_type": "markdown",
   "id": "ab85b319",
   "metadata": {},
   "source": [
    "# Conclusions"
   ]
  },
  {
   "cell_type": "markdown",
   "id": "89a382f4",
   "metadata": {},
   "source": [
    "### Exploration\n",
    "\n",
    " - Just over a quarter of customers have churned.\n",
    " - New customers are more likely to churn. Many new customers churn before or at 12 month of service. \n",
    " - Shorter contracts are associated with churn, which corresponds with our understanding of the relationship between churn and tenure.\n",
    " - Montly charges correlates with churn. A customer with a high monthly bill is more likely to churn. \n",
    " - customers using internet with less add-ons are more likely to have churned. "
   ]
  },
  {
   "cell_type": "markdown",
   "id": "2db18ec3",
   "metadata": {},
   "source": [
    "### Modeling\n",
    "\n",
    " - The top three models w where compared \n",
    " - New customers are more likely to churn. Many new customers churn before or at 12 month of service. \n",
    " - Shorter contracts are associated with churn, which corresponds with our understanding of the relationship between churn and tenure.\n",
    " - Montly charges correlates with churn. A customer with a high monthly bill is more likely to churn. \n",
    " - customers using internet with less add-ons are more likely to have churned. "
   ]
  },
  {
   "cell_type": "markdown",
   "id": "843f9eac",
   "metadata": {},
   "source": [
    "### Recommendations\n",
    "\n",
    " - Understand what customer needs are to ensure we are providing them with the best option. \n",
    " - Longer contracts and higher services correlate with churn. \n",
    " - Ensure customers are aware and offered services that best meets their needs. "
   ]
  },
  {
   "cell_type": "markdown",
   "id": "f61fb0c4",
   "metadata": {},
   "source": [
    "### Next Steps\n",
    "\n",
    " - Explore each add-on service instead of using the count. Find out which add-on services correlate with customer churn."
   ]
  },
  {
   "cell_type": "markdown",
   "id": "e5534923",
   "metadata": {},
   "source": [
    "<div style=\"height: 500px;\"></div>\n"
   ]
  },
  {
   "cell_type": "markdown",
   "id": "3ee4d0ba",
   "metadata": {},
   "source": [
    "### Appendix"
   ]
  },
  {
   "cell_type": "markdown",
   "id": "1dd8f73c",
   "metadata": {},
   "source": [
    " Export Logistic Regression model final test predictions to csv file:"
   ]
  },
  {
   "cell_type": "code",
   "execution_count": 19,
   "id": "0f2532e0",
   "metadata": {},
   "outputs": [
    {
     "data": {
      "text/plain": [
       "\"\\n\\n# Make predictions on the test set\\ny_prob = logit.predict_proba(X_test)[:, 1]\\ny_pred = logit.predict(X_test)\\n# Create a DataFrame with the results\\nresults_df = pd.DataFrame({'Probability_of_Churn': y_prob, 'Churn_Predicted': y_pred}, index=X_test.index)\\n# Print the DataFrame\\nprint(results_df)\\n# read to csv\\nresults_df.to_csv('churn_predictions_with_id.csv')\\n\\n\""
      ]
     },
     "execution_count": 19,
     "metadata": {},
     "output_type": "execute_result"
    }
   ],
   "source": [
    "'''\n",
    "\n",
    "# Make predictions on the test set\n",
    "y_prob = logit.predict_proba(X_test)[:, 1]\n",
    "y_pred = logit.predict(X_test)\n",
    "# Create a DataFrame with the results\n",
    "results_df = pd.DataFrame({'Probability_of_Churn': y_prob, 'Churn_Predicted': y_pred}, index=X_test.index)\n",
    "# Print the DataFrame\n",
    "print(results_df)\n",
    "# read to csv\n",
    "results_df.to_csv('churn_predictions_with_id.csv')\n",
    "\n",
    "'''\n"
   ]
  }
 ],
 "metadata": {
  "kernelspec": {
   "display_name": "Python 3 (ipykernel)",
   "language": "python",
   "name": "python3"
  },
  "language_info": {
   "codemirror_mode": {
    "name": "ipython",
    "version": 3
   },
   "file_extension": ".py",
   "mimetype": "text/x-python",
   "name": "python",
   "nbconvert_exporter": "python",
   "pygments_lexer": "ipython3",
   "version": "3.11.5"
  }
 },
 "nbformat": 4,
 "nbformat_minor": 5
}
