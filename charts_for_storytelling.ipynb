{
 "cells": [
  {
   "cell_type": "markdown",
   "id": "6076e3e6",
   "metadata": {},
   "source": [
    "### Imports"
   ]
  },
  {
   "cell_type": "code",
   "execution_count": 1,
   "id": "a9ad4e0b",
   "metadata": {},
   "outputs": [],
   "source": [
    "#data manipulations\n",
    "import pandas as pd\n",
    "import numpy as np\n",
    "\n",
    "#visualization\n",
    "import matplotlib.pyplot as plt\n",
    "import seaborn as sns\n",
    "import os\n",
    " \n",
    "#stats\n",
    "from scipy import stats\n",
    "\n",
    "#my own files with my own functions\n",
    "import acquire\n",
    "# import prepare\n",
    "# import explore\n",
    "\n",
    "from scipy.stats import chi2_contingency\n",
    "\n",
    "\n",
    "# train test split function and models\n",
    "from sklearn.model_selection import train_test_split\n",
    "from sklearn.tree import DecisionTreeClassifier, plot_tree, export_text\n",
    "from sklearn.metrics import classification_report\n",
    "from sklearn.ensemble import RandomForestClassifier\n",
    "from sklearn.neighbors import KNeighborsClassifier\n",
    "from sklearn.linear_model import LogisticRegression\n"
   ]
  },
  {
   "cell_type": "code",
   "execution_count": null,
   "id": "1c8e5bea",
   "metadata": {},
   "outputs": [],
   "source": [
    "# PREPARE FUNCTIONS\n",
    "\n",
    "import pandas as pd\n",
    "import numpy as np\n",
    "from sklearn.model_selection import train_test_split\n",
    "import matplotlib.pyplot as plt\n",
    "\n",
    "\n",
    "\n",
    "def prep_telco(df):\n",
    "    '''Takes in the telco churn dataframe as an argument and returns the dataframe\n",
    "    with unnecessary columns dropped and empty values in the [total_charges] column\n",
    "    changed from a blank space to a zero. The new column total_add_on_count is created by \n",
    "    summing each customers number of add-ons while also accounting for customers with no internet.\n",
    "    It creates a new column tenure years which is the age of customer account starting with 0 for \n",
    "    customers with accounts up to 12 months old. \n",
    "    '''\n",
    "    # A variable that represents all possible add-on services a customer can have\n",
    "    columns_to_sum = ['online_security', 'online_backup', 'device_protection', 'tech_support', 'streaming_tv', 'streaming_movies']\n",
    "\n",
    "    # New column that looks through each row and when a \"yes\" is found in columns_to_sum, it adds a 1\n",
    "    df['total_add_on_count'] = df[columns_to_sum].apply(lambda row: sum(1 if value == 'Yes' else 0 if value == 'No' else 9 for value in row), axis=1)\n",
    "    \n",
    "    # change the number 54 to no internet service\n",
    "    df['total_add_on_count'].replace({54:'No internet service'}, inplace=True)\n",
    "\n",
    "    # Remove the add-on service columns\n",
    "    df.drop(columns=df[columns_to_sum], inplace=True)\n",
    "\n",
    "    # bin edges for each year \n",
    "    bins = [0, 12, 24, 36, 48, 60, 72, 84] \n",
    "\n",
    "    # Create labels for the bins (representing years)\n",
    "    labels = ['0', '1', '2', '3', '4', '5', '6']\n",
    "\n",
    "    # Bin the 'tenure' column\n",
    "    df['tenure_years'] = pd.cut(df['tenure'], bins=bins, labels=labels, right=False)\n",
    "\n",
    "    # drop SQL joiner columns, phone service is replaced with phone service type, and tenure is replaced with tenure years\n",
    "    df.drop(columns=['payment_type_id', 'internet_service_type_id', 'contract_type_id', 'phone_service', 'tenure'], inplace=True)\n",
    "    \n",
    "    # Handle blank spaces in total_charges\n",
    "    df.total_charges = df.total_charges.str.replace(' ', '0.0')\n",
    "    \n",
    "    # Replace empty spaces to match the rest of the columns\n",
    "    df.internet_service_type.fillna('No internet service', inplace = True)\n",
    "    \n",
    "    #change the type of total_charges to float\n",
    "    df['total_charges'] = df['total_charges'].astype(float)\n",
    "    \n",
    "    # Repalce bool to string for easier reading\n",
    "    df['senior_citizen'].replace({0:'No', 1: 'Yes'}, inplace=True)\n",
    "    \n",
    "    # Rename column to combine multiple lines and phone service into one column\n",
    "    df.rename(columns={'multiple_lines': 'phone_service_type'}, inplace=True)\n",
    "    \n",
    "    # \n",
    "    df['phone_service_type'].replace({'Yes':'Multiple lines', 'No': 'Single line'}, inplace=True)\n",
    "    \n",
    "    # change index to customer ID since it is a unique identifier and relevant to stakeholders\n",
    "    df = df.set_index('customer_id')\n",
    "\n",
    "    return df\n",
    "\n",
    "\n",
    "\n",
    "\n",
    "\n",
    "\n",
    "\n",
    "def split_data(df, target):\n",
    "    \"\"\"\n",
    "    This function takes in any DataFrame and a target variable as an argument \n",
    "    and returns train, validate, and test dataframes stratifying on the target variable.\n",
    "    It returns three DataFrames with a printout of their proportion to the original DataFrame.\n",
    "    \"\"\"\n",
    "    train, validate_test = train_test_split(\n",
    "        df, train_size=0.6, random_state=123, stratify=df[target]\n",
    "    )\n",
    "    validate, test = train_test_split(\n",
    "        validate_test, train_size=0.5, random_state=123, stratify=validate_test[target]\n",
    "    )\n",
    "    print(f\"train: {len(train)} ({round(len(train)/len(df), 2)*100}% of {len(df)})\")\n",
    "    print(\n",
    "        f\"validate: {len(validate)} ({round(len(validate)/len(df), 2)*100}% of {len(df)})\"\n",
    "    )\n",
    "    print(f\"test: {len(test)} ({round(len(test)/len(df), 2)*100}% of {len(df)})\")\n",
    "\n",
    "    return train, validate, test\n",
    "\n",
    "\n",
    "\n",
    "\n",
    "\n",
    "\n",
    "\n",
    "\n",
    "\n",
    "def preprocess_telco(train_df, val_df, test_df):\n",
    "    '''\n",
    "    This function takes three DataFrames as an argument \n",
    "    and returns train, validate, and test dataframes ready for machine learning.\n",
    "    It returns DataFrames with all string values changed to represent a binary equivalent.\n",
    "    '''\n",
    "    # variable for all of our columns that should be in a numerical type\n",
    "    columns_to_convert = ['gender', 'senior_citizen', 'partner', 'dependents', 'paperless_billing', 'churn', 'tenure_years', 'total_add_on_count']\n",
    "\n",
    "    # variable for our features with string values\n",
    "    encoding_vars = ['contract_type', 'internet_service_type', 'payment_type', 'phone_service_type']\n",
    "\n",
    "    # Initialize a lsit of dataframes\n",
    "    encoded_dfs = []\n",
    "    for df in [train_df, val_df, test_df]:\n",
    "        # Replace certain string values with numerical values\n",
    "        df.replace({\"No\": 0, \"Yes\": 1, \"Male\": 1, \"Female\": 0, \"No internet service\": 0}, inplace=True)\n",
    "\n",
    "        # get dummy variables for columns with string values\n",
    "        df_encoded_cats = pd.get_dummies(df[encoding_vars], drop_first=True).astype(int)\n",
    "        \n",
    "        # concatenate dummy columns to dataframe and drop the orginal columns \n",
    "        df = pd.concat([df, df_encoded_cats], axis=1).drop(columns=encoding_vars)\n",
    "        \n",
    "        # Convert specified columns to integer type\n",
    "        df[columns_to_convert] = df[columns_to_convert].astype(int)\n",
    "        \n",
    "        # add changes to all three dataframes\n",
    "        encoded_dfs.append(df)\n",
    "\n",
    "    return encoded_dfs\n",
    "\n",
    "\n",
    "\n",
    "\n",
    "\n",
    "\n",
    "\n",
    "\n",
    "def predicted_probabilities(y_pred_proba, y_pred, title='Predicted Probabilities vs Predicted Class'):\n",
    "    \"\"\"\n",
    "    Plot a scatter plot of predicted probabilities vs predicted class labels.\n",
    "\n",
    "    Parameters:\n",
    "    - y_pred_proba: Array-like, predicted probabilities for the positive class.\n",
    "    - y_pred: Array-like, predicted class labels (0 or 1).\n",
    "    - title: String, title of the plot.\n",
    "\n",
    "    Returns:\n",
    "    None\n",
    "    \"\"\"\n",
    "    fig = plt.figure(figsize=[5, 3])\n",
    "    ax = fig.add_subplot()\n",
    "\n",
    "    # scatter plot where x is the probabilities and y is the class (0, 1)\n",
    "    ax.scatter(y_pred_proba, y_pred, alpha=0.05)\n",
    "\n",
    "    plt.xlabel('Predicted Probabilities')\n",
    "    plt.ylabel('Predicted Class (0 or 1)')\n",
    "    plt.title(title)\n",
    "    plt.show()\n",
    "\n",
    "\n"
   ]
  },
  {
   "cell_type": "code",
   "execution_count": null,
   "id": "7d5cbfe9",
   "metadata": {},
   "outputs": [],
   "source": [
    "# EXPLORE FUNCTIONS\n",
    "\n",
    "\n",
    "\n",
    "import pandas as pd\n",
    "import numpy as np\n",
    "import seaborn as sns\n",
    "from scipy.stats import chi2_contingency\n",
    "from scipy.stats import mannwhitneyu\n",
    "from sklearn.model_selection import train_test_split\n",
    "import matplotlib.pyplot as plt\n",
    "\n",
    "\n",
    "\n",
    "\n",
    "\n",
    "\n",
    "\n",
    "\n",
    "def visualize_churn_distribution(df):\n",
    "    '''\n",
    "    Trakes in a DataFrame and returns a pie plot visual of the 'churn' column.\n",
    "    This represents the distribution of the target variable for the data set. \n",
    "    '''\n",
    "    # Count the number of customers who have churned and those who haven't\n",
    "    churn_counts = df['churn'].value_counts()\n",
    "\n",
    "    # Plot a pie chart\n",
    "    labels = ['Not Churned', 'Churned']\n",
    "    colors = ['lightsteelblue', 'sandybrown']\n",
    "\n",
    "    plt.pie(churn_counts, labels=labels, colors=colors, autopct='%1.1f%%', startangle=90)\n",
    "    plt.title('Distribution of Churned vs Not Churned Customers')\n",
    "    plt.show()\n",
    "\n",
    "\n",
    "\n",
    "\n",
    "\n",
    "\n",
    "def analyze_tenure_years(df, column, target_column):\n",
    "    '''\n",
    "    Takes in a DataFrame the tenure years column, and the target column. \n",
    "    Returns: A printed contingency table, the visualization of the contingency table as a count plot, \n",
    "    and the results of the chi sqaured test of independence.\n",
    "    \n",
    "    '''\n",
    "    # Create a contingency table\n",
    "    contingency_table = pd.crosstab(df[column], df[target_column])\n",
    "    \n",
    "    # Plot a stacked bar chart (count plot)\n",
    "    plt.figure(figsize=(6, 3))\n",
    "    sns.countplot(x=column, hue=target_column, data=df, palette='pastel')\n",
    "    plt.title(f' Bar Chart - {column} vs {target_column}')\n",
    "    plt.show()\n",
    "\n",
    "    # Perform a chi-squared test\n",
    "    chi2, p, _, _ = chi2_contingency(contingency_table)\n",
    "    \n",
    "    # Display the contingency table\n",
    "    print(\"Contingency Table:\")\n",
    "    print(contingency_table)\n",
    "    \n",
    "    # Display the chi-squared test results\n",
    "    print(\"\\nChi-squared test:\")\n",
    "    print(f\"Chi2 Statistic: {chi2}\")\n",
    "    print(f\"P-value: {p}\")\n",
    "\n",
    "\n",
    "    \n",
    "\n",
    "\n",
    "\n",
    "\n",
    "def analyze_total_add_on_count(df, column, target_column):\n",
    "    '''\n",
    "    Function takes in a DataFrame, the total_add_on_count column, and the target variable.\n",
    "    It generates a contingency table using pandas crosstab, orders the add-on values for plotting purposes, \n",
    "    creates a count plot of the contingency table, performs a chi squared test using chi2_contingency, displays the table and the results.\n",
    "    '''\n",
    "    # Create a contingency table\n",
    "    contingency_table = pd.crosstab(df[column], df[target_column])\n",
    "    \n",
    "    # Order the values into something that makes sense for a plot\n",
    "    order = ['0', '1', '2', '3', '4', '5', '6', 'No internet service']\n",
    "    # Convert the column to categorical with the specified order\n",
    "    df[column] = pd.Categorical(df[column], ordered=True)\n",
    "\n",
    "    # Create the countplot\n",
    "    contingency_table.plot.bar(stacked=False, color=['lightsteelblue', 'sandybrown'], figsize=(6, 3))\n",
    "    plt.title(f'total_add_on_count vs. churn')\n",
    "    plt.xlabel(column)\n",
    "    plt.ylabel('Count')\n",
    "    plt.show()\n",
    "\n",
    "    # Perform a chi-squared test\n",
    "    chi2, p, _, _ = chi2_contingency(contingency_table)\n",
    "    \n",
    "    # Display the contingency table\n",
    "    print(\"Contingency Table:\")\n",
    "    print(contingency_table)\n",
    "    \n",
    "    # Display the chi-squared test results\n",
    "    print(\"\\nChi-squared test:\")\n",
    "    print(f\"Chi2 Statistic: {chi2}\")\n",
    "    print(f\"P-value: {p}\")\n",
    "\n",
    "\n",
    "\n",
    "\n",
    "\n",
    "    \n",
    "\n",
    "\n",
    "def analyze_payment_type(df, column, target_column):\n",
    "    '''\n",
    "    Functions takes in a dataframe, the payment type column, and the target column. \n",
    "    Returns: First generates a contingency table using pandas crosstab, a count plot of the payment type vs. target variable, \n",
    "    it performs a chi squared test of independence, and prints the results of the test as well as the contingency table.\n",
    "    '''\n",
    "    # Create a contingency table\n",
    "    contingency_table = pd.crosstab(df[column], df[target_column])\n",
    "\n",
    "    # Plot a stacked bar chart (count plot)\n",
    "    plt.figure(figsize=(10, 3))\n",
    "    sns.countplot(x=column, hue=target_column, data=df, palette='pastel')\n",
    "    plt.title(f' Bar Chart - {column} vs {target_column}')\n",
    "    plt.show()\n",
    "\n",
    "    # Perform a chi-squared test\n",
    "    chi2, p, _, _ = chi2_contingency(contingency_table)\n",
    "    \n",
    "    # Display the contingency table\n",
    "    print(\"Contingency Table:\")\n",
    "    print(contingency_table)\n",
    "    \n",
    "    # Display the chi-squared test results\n",
    "    print(\"\\nChi-squared test:\")\n",
    "    print(f\"Chi2 Statistic: {chi2}\")\n",
    "    print(f\"P-value: {p}\")\n",
    "\n",
    "\n",
    "\n"
   ]
  },
  {
   "cell_type": "code",
   "execution_count": null,
   "id": "9af15c61",
   "metadata": {},
   "outputs": [],
   "source": []
  },
  {
   "cell_type": "code",
   "execution_count": null,
   "id": "9ae78c9b",
   "metadata": {},
   "outputs": [],
   "source": []
  },
  {
   "cell_type": "markdown",
   "id": "03ad76fb",
   "metadata": {},
   "source": [
    "## Acquire \n",
    " - Get data from Codeup DS Database Server \n",
    " - Data contains 7043 rows and 24 columns\n",
    " - Each row represents a customer\n",
    " - Each columns represents a feature of a customer\n",
    "\n",
    "\n",
    "\n"
   ]
  },
  {
   "cell_type": "markdown",
   "id": "6137af99",
   "metadata": {},
   "source": [
    "## Data Dictionary \n",
    "\n",
    " \n",
    " \n",
    "| Column Name                  | Description                                          |\n",
    "|-----------------------------|------------------------------------------------------|\n",
    "| customer_id                  | Unique identifier for each customer.                |\n",
    "| gender                       | Gender of the customer.                             |\n",
    "| senior_citizen               | Indicates if the customer is a senior citizen (1) or not (0). |\n",
    "| partner                      | Indicates if the customer has a partner (Yes/No).    |\n",
    "| dependents                   | Indicates if the customer has dependents (Yes/No).   |\n",
    "| tenure                       | Number of months the customer has been with the company. |\n",
    "| phone_service                | Indicates if the customer has phone service (Yes/No). |\n",
    "| multiple_lines               | Indicates if the customer has multiple phone lines (Yes/No). |\n",
    "| internet_service_type_id    | Identifies the type of internet service the customer has. |\n",
    "| online_security              | Indicates if the customer has online security service (Yes/No). |\n",
    "| online_backup                | Indicates if the customer has online backup service (Yes/No). |\n",
    "| device_protection            | Indicates if the customer has device protection service (Yes/No). |\n",
    "| tech_support                 | Indicates if the customer has tech support service (Yes/No). |\n",
    "| streaming_tv                 | Indicates if the customer has streaming TV service (Yes/No). |\n",
    "| streaming_movies             | Indicates if the customer has streaming movie service (Yes/No). |\n",
    "| contract_type_id            | Identifies the type of contract the customer has.    |\n",
    "| paperless_billing           | Indicates if the customer has paperless billing (Yes/No). |\n",
    "| payment_type_id             | Identifies the type of payment method the customer uses. |\n",
    "| monthly_charges             | The amount charged to the customer per month.       |\n",
    "| total_charges               | The total amount charged to the customer.           |\n",
    "| churn                       | Indicates if the customer has churned (Yes/No).     |\n",
    "| internet_service_type       | Description of the internet service type.           |\n",
    "| payment_type                | Description of the payment method.                  |\n",
    "| contract_type               | Description of the contract type.                   |\n"
   ]
  },
  {
   "cell_type": "markdown",
   "id": "fe14143c",
   "metadata": {},
   "source": [
    "## Prepare \n",
    " * Create a new column tenure_years to represent how old a customer account is in years.\n",
    " * Drop tenure since we have tenure_years.\n",
    " * Rename column multiple_lines to phone_service_type to match other columns.\n",
    " \n",
    " - Replace phone_service_type value yes to multiple lines and no to single lines.\n",
    " - Drop phone_service since we now have phone_service_type with yes,no, and No phone service. (this format matches other columns).\n",
    " \n",
    " + Create a new column total_add_on_count to represent how many add-on services each customer has.\n",
    " + Add-on services include online_security, online_backup, device_protection, tech_support, streaming_tv, and streaming_movies. \n",
    " + New column sums a 1 when a yes is in the add-on column.\n",
    " + New column is 0-6 for customers with internet and includes the value No internet service for people who are not eligible for add-on services.\n",
    " + Drop add-on services columns.\n",
    " \n",
    " - Remove SQL joiner columns payment_type_id, internet_service_type_id, and payment_type_id.\n",
    " - Checked for null values in the data.\n",
    " - Fill nulls in internet service type with No internet service to match columns.\n",
    " - Fill blank space in total_charges with zero for new customers without a bill.\n",
    " - Change data type of total_charges to float.\n",
    " - For senior citizen, replace boolean values with yes or no for easy reading.\n",
    " - Change index to be customer ID.\n",
    " - Split data into train, validate, and test.\n"
   ]
  },
  {
   "cell_type": "code",
   "execution_count": 2,
   "id": "295ba6bb",
   "metadata": {},
   "outputs": [],
   "source": [
    "# acquire and prepare data\n",
    "df = prepare.prep_telco(acquire.get_telco_data())"
   ]
  },
  {
   "cell_type": "code",
   "execution_count": 3,
   "id": "de6e929e",
   "metadata": {},
   "outputs": [
    {
     "name": "stdout",
     "output_type": "stream",
     "text": [
      "train: 4225 (60.0% of 7043)\n",
      "validate: 1409 (20.0% of 7043)\n",
      "test: 1409 (20.0% of 7043)\n"
     ]
    }
   ],
   "source": [
    "# split data into train, validate, and test\n",
    "train, validate, test = prepare.split_data(df, 'churn')"
   ]
  },
  {
   "cell_type": "markdown",
   "id": "5fb64829",
   "metadata": {},
   "source": [
    "### First Looks"
   ]
  },
  {
   "cell_type": "code",
   "execution_count": 4,
   "id": "35e26dbd",
   "metadata": {},
   "outputs": [
    {
     "data": {
      "text/html": [
       "<div>\n",
       "<style scoped>\n",
       "    .dataframe tbody tr th:only-of-type {\n",
       "        vertical-align: middle;\n",
       "    }\n",
       "\n",
       "    .dataframe tbody tr th {\n",
       "        vertical-align: top;\n",
       "    }\n",
       "\n",
       "    .dataframe thead th {\n",
       "        text-align: right;\n",
       "    }\n",
       "</style>\n",
       "<table border=\"1\" class=\"dataframe\">\n",
       "  <thead>\n",
       "    <tr style=\"text-align: right;\">\n",
       "      <th></th>\n",
       "      <th>gender</th>\n",
       "      <th>senior_citizen</th>\n",
       "      <th>partner</th>\n",
       "      <th>dependents</th>\n",
       "      <th>phone_service_type</th>\n",
       "      <th>paperless_billing</th>\n",
       "      <th>monthly_charges</th>\n",
       "      <th>total_charges</th>\n",
       "      <th>churn</th>\n",
       "      <th>contract_type</th>\n",
       "      <th>internet_service_type</th>\n",
       "      <th>payment_type</th>\n",
       "      <th>total_add_on_count</th>\n",
       "      <th>tenure_years</th>\n",
       "    </tr>\n",
       "    <tr>\n",
       "      <th>customer_id</th>\n",
       "      <th></th>\n",
       "      <th></th>\n",
       "      <th></th>\n",
       "      <th></th>\n",
       "      <th></th>\n",
       "      <th></th>\n",
       "      <th></th>\n",
       "      <th></th>\n",
       "      <th></th>\n",
       "      <th></th>\n",
       "      <th></th>\n",
       "      <th></th>\n",
       "      <th></th>\n",
       "      <th></th>\n",
       "    </tr>\n",
       "  </thead>\n",
       "  <tbody>\n",
       "    <tr>\n",
       "      <th>4083-BFNYK</th>\n",
       "      <td>Female</td>\n",
       "      <td>Yes</td>\n",
       "      <td>Yes</td>\n",
       "      <td>No</td>\n",
       "      <td>Multiple lines</td>\n",
       "      <td>No</td>\n",
       "      <td>95.00</td>\n",
       "      <td>3591.25</td>\n",
       "      <td>No</td>\n",
       "      <td>One year</td>\n",
       "      <td>Fiber optic</td>\n",
       "      <td>Credit card (automatic)</td>\n",
       "      <td>3</td>\n",
       "      <td>3</td>\n",
       "    </tr>\n",
       "    <tr>\n",
       "      <th>5804-LEPIM</th>\n",
       "      <td>Female</td>\n",
       "      <td>Yes</td>\n",
       "      <td>No</td>\n",
       "      <td>No</td>\n",
       "      <td>Single line</td>\n",
       "      <td>Yes</td>\n",
       "      <td>70.35</td>\n",
       "      <td>139.05</td>\n",
       "      <td>Yes</td>\n",
       "      <td>Month-to-month</td>\n",
       "      <td>Fiber optic</td>\n",
       "      <td>Electronic check</td>\n",
       "      <td>0</td>\n",
       "      <td>0</td>\n",
       "    </tr>\n",
       "    <tr>\n",
       "      <th>4895-TMWIR</th>\n",
       "      <td>Male</td>\n",
       "      <td>Yes</td>\n",
       "      <td>Yes</td>\n",
       "      <td>No</td>\n",
       "      <td>Single line</td>\n",
       "      <td>No</td>\n",
       "      <td>19.95</td>\n",
       "      <td>214.75</td>\n",
       "      <td>Yes</td>\n",
       "      <td>Month-to-month</td>\n",
       "      <td>No internet service</td>\n",
       "      <td>Mailed check</td>\n",
       "      <td>No internet service</td>\n",
       "      <td>0</td>\n",
       "    </tr>\n",
       "    <tr>\n",
       "      <th>1342-JPNKI</th>\n",
       "      <td>Male</td>\n",
       "      <td>No</td>\n",
       "      <td>No</td>\n",
       "      <td>No</td>\n",
       "      <td>Multiple lines</td>\n",
       "      <td>Yes</td>\n",
       "      <td>86.05</td>\n",
       "      <td>834.10</td>\n",
       "      <td>Yes</td>\n",
       "      <td>Month-to-month</td>\n",
       "      <td>Fiber optic</td>\n",
       "      <td>Bank transfer (automatic)</td>\n",
       "      <td>1</td>\n",
       "      <td>0</td>\n",
       "    </tr>\n",
       "    <tr>\n",
       "      <th>3397-AVTKU</th>\n",
       "      <td>Male</td>\n",
       "      <td>No</td>\n",
       "      <td>No</td>\n",
       "      <td>No</td>\n",
       "      <td>Single line</td>\n",
       "      <td>Yes</td>\n",
       "      <td>60.00</td>\n",
       "      <td>2548.55</td>\n",
       "      <td>No</td>\n",
       "      <td>Two year</td>\n",
       "      <td>DSL</td>\n",
       "      <td>Electronic check</td>\n",
       "      <td>2</td>\n",
       "      <td>3</td>\n",
       "    </tr>\n",
       "  </tbody>\n",
       "</table>\n",
       "</div>"
      ],
      "text/plain": [
       "             gender senior_citizen partner dependents phone_service_type  \\\n",
       "customer_id                                                                \n",
       "4083-BFNYK   Female            Yes     Yes         No     Multiple lines   \n",
       "5804-LEPIM   Female            Yes      No         No        Single line   \n",
       "4895-TMWIR     Male            Yes     Yes         No        Single line   \n",
       "1342-JPNKI     Male             No      No         No     Multiple lines   \n",
       "3397-AVTKU     Male             No      No         No        Single line   \n",
       "\n",
       "            paperless_billing  monthly_charges  total_charges churn  \\\n",
       "customer_id                                                           \n",
       "4083-BFNYK                 No            95.00        3591.25    No   \n",
       "5804-LEPIM                Yes            70.35         139.05   Yes   \n",
       "4895-TMWIR                 No            19.95         214.75   Yes   \n",
       "1342-JPNKI                Yes            86.05         834.10   Yes   \n",
       "3397-AVTKU                Yes            60.00        2548.55    No   \n",
       "\n",
       "              contract_type internet_service_type               payment_type  \\\n",
       "customer_id                                                                    \n",
       "4083-BFNYK         One year           Fiber optic    Credit card (automatic)   \n",
       "5804-LEPIM   Month-to-month           Fiber optic           Electronic check   \n",
       "4895-TMWIR   Month-to-month   No internet service               Mailed check   \n",
       "1342-JPNKI   Month-to-month           Fiber optic  Bank transfer (automatic)   \n",
       "3397-AVTKU         Two year                   DSL           Electronic check   \n",
       "\n",
       "              total_add_on_count tenure_years  \n",
       "customer_id                                    \n",
       "4083-BFNYK                     3            3  \n",
       "5804-LEPIM                     0            0  \n",
       "4895-TMWIR   No internet service            0  \n",
       "1342-JPNKI                     1            0  \n",
       "3397-AVTKU                     2            3  "
      ]
     },
     "execution_count": 4,
     "metadata": {},
     "output_type": "execute_result"
    }
   ],
   "source": [
    "# look at first 5 rows of data\n",
    "train.head()"
   ]
  },
  {
   "cell_type": "markdown",
   "id": "1c873db1",
   "metadata": {},
   "source": [
    "### Data summary"
   ]
  },
  {
   "cell_type": "code",
   "execution_count": 5,
   "id": "30ce20e8",
   "metadata": {},
   "outputs": [
    {
     "data": {
      "text/html": [
       "<div>\n",
       "<style scoped>\n",
       "    .dataframe tbody tr th:only-of-type {\n",
       "        vertical-align: middle;\n",
       "    }\n",
       "\n",
       "    .dataframe tbody tr th {\n",
       "        vertical-align: top;\n",
       "    }\n",
       "\n",
       "    .dataframe thead th {\n",
       "        text-align: right;\n",
       "    }\n",
       "</style>\n",
       "<table border=\"1\" class=\"dataframe\">\n",
       "  <thead>\n",
       "    <tr style=\"text-align: right;\">\n",
       "      <th></th>\n",
       "      <th>count</th>\n",
       "      <th>unique</th>\n",
       "      <th>top</th>\n",
       "      <th>freq</th>\n",
       "      <th>mean</th>\n",
       "      <th>std</th>\n",
       "      <th>min</th>\n",
       "      <th>25%</th>\n",
       "      <th>50%</th>\n",
       "      <th>75%</th>\n",
       "      <th>max</th>\n",
       "    </tr>\n",
       "  </thead>\n",
       "  <tbody>\n",
       "    <tr>\n",
       "      <th>gender</th>\n",
       "      <td>4225</td>\n",
       "      <td>2</td>\n",
       "      <td>Male</td>\n",
       "      <td>2116</td>\n",
       "      <td>NaN</td>\n",
       "      <td>NaN</td>\n",
       "      <td>NaN</td>\n",
       "      <td>NaN</td>\n",
       "      <td>NaN</td>\n",
       "      <td>NaN</td>\n",
       "      <td>NaN</td>\n",
       "    </tr>\n",
       "    <tr>\n",
       "      <th>senior_citizen</th>\n",
       "      <td>4225</td>\n",
       "      <td>2</td>\n",
       "      <td>No</td>\n",
       "      <td>3531</td>\n",
       "      <td>NaN</td>\n",
       "      <td>NaN</td>\n",
       "      <td>NaN</td>\n",
       "      <td>NaN</td>\n",
       "      <td>NaN</td>\n",
       "      <td>NaN</td>\n",
       "      <td>NaN</td>\n",
       "    </tr>\n",
       "    <tr>\n",
       "      <th>partner</th>\n",
       "      <td>4225</td>\n",
       "      <td>2</td>\n",
       "      <td>No</td>\n",
       "      <td>2160</td>\n",
       "      <td>NaN</td>\n",
       "      <td>NaN</td>\n",
       "      <td>NaN</td>\n",
       "      <td>NaN</td>\n",
       "      <td>NaN</td>\n",
       "      <td>NaN</td>\n",
       "      <td>NaN</td>\n",
       "    </tr>\n",
       "    <tr>\n",
       "      <th>dependents</th>\n",
       "      <td>4225</td>\n",
       "      <td>2</td>\n",
       "      <td>No</td>\n",
       "      <td>2961</td>\n",
       "      <td>NaN</td>\n",
       "      <td>NaN</td>\n",
       "      <td>NaN</td>\n",
       "      <td>NaN</td>\n",
       "      <td>NaN</td>\n",
       "      <td>NaN</td>\n",
       "      <td>NaN</td>\n",
       "    </tr>\n",
       "    <tr>\n",
       "      <th>phone_service_type</th>\n",
       "      <td>4225</td>\n",
       "      <td>3</td>\n",
       "      <td>Single line</td>\n",
       "      <td>2020</td>\n",
       "      <td>NaN</td>\n",
       "      <td>NaN</td>\n",
       "      <td>NaN</td>\n",
       "      <td>NaN</td>\n",
       "      <td>NaN</td>\n",
       "      <td>NaN</td>\n",
       "      <td>NaN</td>\n",
       "    </tr>\n",
       "    <tr>\n",
       "      <th>paperless_billing</th>\n",
       "      <td>4225</td>\n",
       "      <td>2</td>\n",
       "      <td>Yes</td>\n",
       "      <td>2507</td>\n",
       "      <td>NaN</td>\n",
       "      <td>NaN</td>\n",
       "      <td>NaN</td>\n",
       "      <td>NaN</td>\n",
       "      <td>NaN</td>\n",
       "      <td>NaN</td>\n",
       "      <td>NaN</td>\n",
       "    </tr>\n",
       "    <tr>\n",
       "      <th>monthly_charges</th>\n",
       "      <td>4225.0</td>\n",
       "      <td>NaN</td>\n",
       "      <td>NaN</td>\n",
       "      <td>NaN</td>\n",
       "      <td>65.138947</td>\n",
       "      <td>30.336884</td>\n",
       "      <td>18.25</td>\n",
       "      <td>35.4</td>\n",
       "      <td>70.55</td>\n",
       "      <td>90.4</td>\n",
       "      <td>118.75</td>\n",
       "    </tr>\n",
       "    <tr>\n",
       "      <th>total_charges</th>\n",
       "      <td>4225.0</td>\n",
       "      <td>NaN</td>\n",
       "      <td>NaN</td>\n",
       "      <td>NaN</td>\n",
       "      <td>2305.884888</td>\n",
       "      <td>2282.408946</td>\n",
       "      <td>0.0</td>\n",
       "      <td>408.25</td>\n",
       "      <td>1389.35</td>\n",
       "      <td>3886.45</td>\n",
       "      <td>8672.45</td>\n",
       "    </tr>\n",
       "    <tr>\n",
       "      <th>churn</th>\n",
       "      <td>4225</td>\n",
       "      <td>2</td>\n",
       "      <td>No</td>\n",
       "      <td>3104</td>\n",
       "      <td>NaN</td>\n",
       "      <td>NaN</td>\n",
       "      <td>NaN</td>\n",
       "      <td>NaN</td>\n",
       "      <td>NaN</td>\n",
       "      <td>NaN</td>\n",
       "      <td>NaN</td>\n",
       "    </tr>\n",
       "    <tr>\n",
       "      <th>contract_type</th>\n",
       "      <td>4225</td>\n",
       "      <td>3</td>\n",
       "      <td>Month-to-month</td>\n",
       "      <td>2335</td>\n",
       "      <td>NaN</td>\n",
       "      <td>NaN</td>\n",
       "      <td>NaN</td>\n",
       "      <td>NaN</td>\n",
       "      <td>NaN</td>\n",
       "      <td>NaN</td>\n",
       "      <td>NaN</td>\n",
       "    </tr>\n",
       "    <tr>\n",
       "      <th>internet_service_type</th>\n",
       "      <td>4225</td>\n",
       "      <td>3</td>\n",
       "      <td>Fiber optic</td>\n",
       "      <td>1898</td>\n",
       "      <td>NaN</td>\n",
       "      <td>NaN</td>\n",
       "      <td>NaN</td>\n",
       "      <td>NaN</td>\n",
       "      <td>NaN</td>\n",
       "      <td>NaN</td>\n",
       "      <td>NaN</td>\n",
       "    </tr>\n",
       "    <tr>\n",
       "      <th>payment_type</th>\n",
       "      <td>4225</td>\n",
       "      <td>4</td>\n",
       "      <td>Electronic check</td>\n",
       "      <td>1434</td>\n",
       "      <td>NaN</td>\n",
       "      <td>NaN</td>\n",
       "      <td>NaN</td>\n",
       "      <td>NaN</td>\n",
       "      <td>NaN</td>\n",
       "      <td>NaN</td>\n",
       "      <td>NaN</td>\n",
       "    </tr>\n",
       "    <tr>\n",
       "      <th>total_add_on_count</th>\n",
       "      <td>4225</td>\n",
       "      <td>8</td>\n",
       "      <td>No internet service</td>\n",
       "      <td>918</td>\n",
       "      <td>NaN</td>\n",
       "      <td>NaN</td>\n",
       "      <td>NaN</td>\n",
       "      <td>NaN</td>\n",
       "      <td>NaN</td>\n",
       "      <td>NaN</td>\n",
       "      <td>NaN</td>\n",
       "    </tr>\n",
       "    <tr>\n",
       "      <th>tenure_years</th>\n",
       "      <td>4225</td>\n",
       "      <td>7</td>\n",
       "      <td>0</td>\n",
       "      <td>1235</td>\n",
       "      <td>NaN</td>\n",
       "      <td>NaN</td>\n",
       "      <td>NaN</td>\n",
       "      <td>NaN</td>\n",
       "      <td>NaN</td>\n",
       "      <td>NaN</td>\n",
       "      <td>NaN</td>\n",
       "    </tr>\n",
       "  </tbody>\n",
       "</table>\n",
       "</div>"
      ],
      "text/plain": [
       "                        count unique                  top  freq         mean  \\\n",
       "gender                   4225      2                 Male  2116          NaN   \n",
       "senior_citizen           4225      2                   No  3531          NaN   \n",
       "partner                  4225      2                   No  2160          NaN   \n",
       "dependents               4225      2                   No  2961          NaN   \n",
       "phone_service_type       4225      3          Single line  2020          NaN   \n",
       "paperless_billing        4225      2                  Yes  2507          NaN   \n",
       "monthly_charges        4225.0    NaN                  NaN   NaN    65.138947   \n",
       "total_charges          4225.0    NaN                  NaN   NaN  2305.884888   \n",
       "churn                    4225      2                   No  3104          NaN   \n",
       "contract_type            4225      3       Month-to-month  2335          NaN   \n",
       "internet_service_type    4225      3          Fiber optic  1898          NaN   \n",
       "payment_type             4225      4     Electronic check  1434          NaN   \n",
       "total_add_on_count       4225      8  No internet service   918          NaN   \n",
       "tenure_years             4225      7                    0  1235          NaN   \n",
       "\n",
       "                               std    min     25%      50%      75%      max  \n",
       "gender                         NaN    NaN     NaN      NaN      NaN      NaN  \n",
       "senior_citizen                 NaN    NaN     NaN      NaN      NaN      NaN  \n",
       "partner                        NaN    NaN     NaN      NaN      NaN      NaN  \n",
       "dependents                     NaN    NaN     NaN      NaN      NaN      NaN  \n",
       "phone_service_type             NaN    NaN     NaN      NaN      NaN      NaN  \n",
       "paperless_billing              NaN    NaN     NaN      NaN      NaN      NaN  \n",
       "monthly_charges          30.336884  18.25    35.4    70.55     90.4   118.75  \n",
       "total_charges          2282.408946    0.0  408.25  1389.35  3886.45  8672.45  \n",
       "churn                          NaN    NaN     NaN      NaN      NaN      NaN  \n",
       "contract_type                  NaN    NaN     NaN      NaN      NaN      NaN  \n",
       "internet_service_type          NaN    NaN     NaN      NaN      NaN      NaN  \n",
       "payment_type                   NaN    NaN     NaN      NaN      NaN      NaN  \n",
       "total_add_on_count             NaN    NaN     NaN      NaN      NaN      NaN  \n",
       "tenure_years                   NaN    NaN     NaN      NaN      NaN      NaN  "
      ]
     },
     "execution_count": 5,
     "metadata": {},
     "output_type": "execute_result"
    }
   ],
   "source": [
    "# descriptive statistics \n",
    "train.describe(include='all').T"
   ]
  },
  {
   "cell_type": "markdown",
   "id": "79021cc3",
   "metadata": {},
   "source": [
    "# Explore"
   ]
  },
  {
   "cell_type": "markdown",
   "id": "74fecb67",
   "metadata": {},
   "source": [
    "### How often do customers churn?"
   ]
  },
  {
   "cell_type": "code",
   "execution_count": 6,
   "id": "876f612b",
   "metadata": {
    "scrolled": false
   },
   "outputs": [
    {
     "data": {
      "image/png": "[encoded data removed]",
      "text/plain": [
       "<Figure size 640x480 with 1 Axes>"
      ]
     },
     "metadata": {},
     "output_type": "display_data"
    }
   ],
   "source": [
    "# distribution of our target variable\n",
    "explore.visualize_churn_distribution(train)"
   ]
  },
  {
   "cell_type": "markdown",
   "id": "12fe29d7",
   "metadata": {},
   "source": [
    "> Just over 1/4 of customers churn"
   ]
  },
  {
   "cell_type": "markdown",
   "id": "8daf6dc4",
   "metadata": {},
   "source": [
    "### Are new customers more likely to churn?"
   ]
  },
  {
   "cell_type": "markdown",
   "id": "28fe3b2e",
   "metadata": {},
   "source": [
    " $H_0$: There is no relationship between tenure and whether or not someone has churned\n",
    "\n",
    " $H_a$: There is a relationship between tenure and whether or not someone has churned\n",
    " \n",
    " aplha = 0.05"
   ]
  },
  {
   "cell_type": "code",
   "execution_count": 7,
   "id": "2d95aa0f",
   "metadata": {
    "scrolled": false
   },
   "outputs": [
    {
     "data": {
      "image/png": "[encoded data removed]",
      "text/plain": [
       "<Figure size 600x300 with 1 Axes>"
      ]
     },
     "metadata": {},
     "output_type": "display_data"
    },
    {
     "name": "stdout",
     "output_type": "stream",
     "text": [
      "Contingency Table:\n",
      "churn          No  Yes\n",
      "tenure_years          \n",
      "0             626  609\n",
      "1             448  164\n",
      "2             422  110\n",
      "3             343   95\n",
      "4             417   89\n",
      "5             620   49\n",
      "6             228    5\n",
      "\n",
      "Chi-squared test:\n",
      "Chi2 Statistic: 561.8805072854334\n",
      "P-value: 3.8769280255400623e-118\n"
     ]
    }
   ],
   "source": [
    "# Plot to visualize and draw conclusions from the assosociation. \n",
    "explore.analyze_tenure_years(train, 'tenure_years', 'churn')"
   ]
  },
  {
   "cell_type": "markdown",
   "id": "1cc1eabf",
   "metadata": {},
   "source": [
    ">  There is a significant assocaiation between tenure and customer churn. \n",
    "- More customers churned by the first year."
   ]
  },
  {
   "cell_type": "markdown",
   "id": "777c708a",
   "metadata": {},
   "source": [
    "### Is there a relationship between the number of add-ons  and whether or not a customer has churned?"
   ]
  },
  {
   "cell_type": "markdown",
   "id": "7d621ca0",
   "metadata": {},
   "source": [
    "$H_0$: There is not a significant difference between the number of add-ons and churn.\n",
    "\n",
    "$H_a$: There is a significant difference between the number of add-ons and churn.\n",
    " \n",
    " aplha = 0.05"
   ]
  },
  {
   "cell_type": "code",
   "execution_count": 9,
   "id": "5e1109e5",
   "metadata": {
    "scrolled": false
   },
   "outputs": [
    {
     "data": {
      "image/png": "[encoded data removed]",
      "text/plain": [
       "<Figure size 600x300 with 1 Axes>"
      ]
     },
     "metadata": {},
     "output_type": "display_data"
    },
    {
     "name": "stdout",
     "output_type": "stream",
     "text": [
      "Contingency Table:\n",
      "churn                 No  Yes\n",
      "total_add_on_count           \n",
      "0                    188  221\n",
      "1                    320  251\n",
      "2                    382  220\n",
      "3                    504  196\n",
      "4                    403  111\n",
      "5                    303   41\n",
      "6                    156   11\n",
      "No internet service  848   70\n",
      "\n",
      "Chi-squared test:\n",
      "Chi2 Statistic: 525.9314282895757\n",
      "P-value: 2.1268933468180813e-109\n"
     ]
    }
   ],
   "source": [
    "explore.analyze_total_add_on_count(train, 'total_add_on_count', 'churn')"
   ]
  },
  {
   "cell_type": "markdown",
   "id": "cbe6bd8d",
   "metadata": {},
   "source": [
    "> Reject the null hypothesis: There is a significant difference betwen the number of add-on services and churn .\n",
    "\n",
    "- customers with fewer add-ons churn more.\n",
    "             "
   ]
  },
  {
   "cell_type": "markdown",
   "id": "b9c43723",
   "metadata": {},
   "source": [
    "###  Do payment methods affect churn?"
   ]
  },
  {
   "cell_type": "markdown",
   "id": "b3b1e669",
   "metadata": {},
   "source": [
    "$H_0$: There is not a significant difference between the customer payment method and churn.\n",
    "\n",
    "$H_a$: There is a significant difference between the customer payment method and churn.\n",
    " \n",
    " aplha = 0.05"
   ]
  },
  {
   "cell_type": "code",
   "execution_count": 10,
   "id": "666bd2c3",
   "metadata": {
    "scrolled": false
   },
   "outputs": [
    {
     "data": {
      "image/png": "[encoded data removed]",
      "text/plain": [
       "<Figure size 1000x300 with 1 Axes>"
      ]
     },
     "metadata": {},
     "output_type": "display_data"
    },
    {
     "name": "stdout",
     "output_type": "stream",
     "text": [
      "Contingency Table:\n",
      "churn                       No  Yes\n",
      "payment_type                       \n",
      "Bank transfer (automatic)  778  157\n",
      "Credit card (automatic)    783  138\n",
      "Electronic check           788  646\n",
      "Mailed check               755  180\n",
      "\n",
      "Chi-squared test:\n",
      "Chi2 Statistic: 386.1839951483273\n",
      "P-value: 2.1760476161221612e-83\n"
     ]
    }
   ],
   "source": [
    "explore.analyze_payment_type(train, 'payment_type', 'churn')"
   ]
  },
  {
   "cell_type": "markdown",
   "id": "cdd58e16",
   "metadata": {},
   "source": [
    "> Reject the null hypothesis: There is a significant difference the payment type and churn .\n",
    "\n",
    "- customers with electronic check payment method have higher numbers of churn.\n",
    "           "
   ]
  },
  {
   "cell_type": "markdown",
   "id": "f31eb0fe",
   "metadata": {},
   "source": [
    "### Exploration Summary"
   ]
  },
  {
   "cell_type": "markdown",
   "id": "03743054",
   "metadata": {},
   "source": [
    " - Over 1/4 of customers churn\n",
    " - The type of contract a customer has is a driver of churn\n",
    " - Tenure is a driver of churn.\n",
    " - The number of add-ons are a driver of churn\n",
    " - Payment methods are drivers of churn\n",
    " "
   ]
  },
  {
   "cell_type": "markdown",
   "id": "cd122034",
   "metadata": {},
   "source": [
    "# Modeling"
   ]
  },
  {
   "cell_type": "markdown",
   "id": "99ee5d71",
   "metadata": {},
   "source": [
    "### Preprocess \n",
    "\n",
    " - Encode values for contract_type, internet_service_type, payment_type, phone_service_type. \n",
    " - Remove columns contract_type, internet_service_type, payment_type, phone_service_type.\n",
    " - Replace yes with 1 no with 0 and no internet with 0\n",
    " - Convert all columns to a numerical data type.\n",
    " "
   ]
  },
  {
   "cell_type": "code",
   "execution_count": 11,
   "id": "6b1a7d2c",
   "metadata": {},
   "outputs": [],
   "source": [
    "# Encode data for machine learning. \n",
    "train, validate, test = prepare.preprocess_telco(train, validate, test)"
   ]
  },
  {
   "cell_type": "markdown",
   "id": "6c898086",
   "metadata": {},
   "source": [
    "### Baseline"
   ]
  },
  {
   "cell_type": "markdown",
   "id": "8f775a67",
   "metadata": {},
   "source": [
    " - Accuracy will be used as the evaluation metric\n",
    " - Accuracy = (TP + TN)/ (TP + TN + FP +FN)"
   ]
  },
  {
   "cell_type": "code",
   "execution_count": 12,
   "id": "0ebbda88",
   "metadata": {},
   "outputs": [
    {
     "name": "stdout",
     "output_type": "stream",
     "text": [
      "Baseline Prediction: 0    0\n",
      "Name: churn, dtype: int64\n",
      "Baseline Accuracy: 0.7346745562130178\n"
     ]
    }
   ],
   "source": [
    "# baseline is the target outcome mode\n",
    "baseline_prediction=train.churn.mode()\n",
    "baseline_accuracy = (train.churn == 0).mean()\n",
    "print(f'Baseline Prediction: {baseline_prediction}')\n",
    "print(f'Baseline Accuracy: {baseline_accuracy}')"
   ]
  },
  {
   "cell_type": "markdown",
   "id": "abc4378d",
   "metadata": {},
   "source": [
    " > non-churn customers makeup 73% of the data"
   ]
  },
  {
   "cell_type": "markdown",
   "id": "4f5880c9",
   "metadata": {},
   "source": [
    "### Separate Dataframes into features and target\n",
    " - Model will train on train dataframe features and train dataframe target.\n",
    " - Model will compare the difference between predicted and acutal target outcomes. "
   ]
  },
  {
   "cell_type": "code",
   "execution_count": 13,
   "id": "4a8d5e99",
   "metadata": {},
   "outputs": [],
   "source": [
    "# create two variables from train, one with only features and one for target. \n",
    "X_train = train.drop(columns=['churn'])\n",
    "y_train = train.churn\n",
    "\n",
    "# create two variables from validate, one with only features and one for target. \n",
    "X_validate = validate.drop(columns=['churn'])\n",
    "y_validate = validate.churn\n",
    "\n",
    "# create two variables from test, one with only features and one for target. \n",
    "X_test = test.drop(columns=['churn'])\n",
    "y_test = test.churn"
   ]
  },
  {
   "cell_type": "markdown",
   "id": "02a3e4a0",
   "metadata": {},
   "source": [
    " Top Three models\n",
    " * Models with hyperparameters have been fit with train data and tuned with valiadate data.\n",
    " * Decsion Tree and Random Forest are pruned and tuned for best performance."
   ]
  },
  {
   "cell_type": "markdown",
   "id": "ea587a0c",
   "metadata": {},
   "source": [
    "### Decision Tree"
   ]
  },
  {
   "cell_type": "code",
   "execution_count": 14,
   "id": "72a6966a",
   "metadata": {},
   "outputs": [
    {
     "name": "stdout",
     "output_type": "stream",
     "text": [
      "Accuracy of Decision Tree on train data is 0.8196449704142011\n",
      "Accuracy of Decision Tree on validate data is 0.7913413768630234\n"
     ]
    }
   ],
   "source": [
    "# create classifier object\n",
    "clf = DecisionTreeClassifier(max_depth=7, min_samples_leaf=4, random_state=123)\n",
    "#fit model on training data\n",
    "clf = clf.fit(X_train, y_train)\n",
    "# print result\n",
    "print(f\"Accuracy of Decision Tree on train data is {clf.score(X_train, y_train)}\")\n",
    "print(f\"Accuracy of Decision Tree on validate data is {clf.score(X_validate, y_validate)}\")"
   ]
  },
  {
   "cell_type": "markdown",
   "id": "c13ba315",
   "metadata": {},
   "source": [
    "> max depth of 7 with 4 min smaple leafs provides the best accuracy score for validate data which is .79"
   ]
  },
  {
   "cell_type": "markdown",
   "id": "a5e77c7f",
   "metadata": {},
   "source": [
    "### Random Forest"
   ]
  },
  {
   "cell_type": "code",
   "execution_count": 15,
   "id": "9fcbf4c8",
   "metadata": {},
   "outputs": [
    {
     "name": "stdout",
     "output_type": "stream",
     "text": [
      "Accuracy of Random Forest on train data is 0.8049704142011834\n",
      "Accuracy of Random Forest on validate data is 0.8034066713981547\n"
     ]
    }
   ],
   "source": [
    "# create classifier object\n",
    "rf = RandomForestClassifier(max_depth=6, min_samples_leaf= 5,  random_state=123)\n",
    "#fit model on training data\n",
    "rf = rf.fit(X_train, y_train)\n",
    "# print result\n",
    "print(f\"Accuracy of Random Forest on train data is {rf.score(X_train, y_train)}\")\n",
    "print(f\"Accuracy of Random Forest on validate data is {rf.score(X_validate, y_validate)}\")"
   ]
  },
  {
   "cell_type": "markdown",
   "id": "ef4bb43b",
   "metadata": {},
   "source": [
    "> max depth of 6 with 5 min sample leafs provides the best accuracy score for validate data which is .80"
   ]
  },
  {
   "cell_type": "markdown",
   "id": "346de051",
   "metadata": {},
   "source": [
    "### Logistic Regression"
   ]
  },
  {
   "cell_type": "code",
   "execution_count": 16,
   "id": "63a43b41",
   "metadata": {},
   "outputs": [
    {
     "name": "stdout",
     "output_type": "stream",
     "text": [
      "Accuracy of Logistic Regression on train data is 0.7936094674556213\n",
      "Accuracy of Logistic Regression  on validate data is 0.8055358410220014\n"
     ]
    }
   ],
   "source": [
    "# create classifier object\n",
    "logit = LogisticRegression(solver='liblinear')\n",
    "#fit model on training data\n",
    "logit= logit.fit(X_train, y_train)\n",
    "# print result\n",
    "print(f\"Accuracy of Logistic Regression on train data is {logit.score(X_train, y_train)}\")\n",
    "print(f\"Accuracy of Logistic Regression  on validate data is {logit.score(X_validate, y_validate)}\")"
   ]
  },
  {
   "cell_type": "markdown",
   "id": "611c5a51",
   "metadata": {},
   "source": [
    "> Logistic Regression performed better on validate wirh 80%. Train and validate accuracy are above baseline."
   ]
  },
  {
   "cell_type": "markdown",
   "id": "75ceb1aa",
   "metadata": {},
   "source": [
    "# Comparing Models\n",
    "\n",
    " - All models performed better than baseline on train and validate. \n",
    " - Decision Tree and Random Forest performed slightly worse when introduced to out of sample data, this is to be expected it lets us know our model generalizes well to new data.\n",
    " - I have chosen to move forward with the Logistic Regression model becuase this model acutally performed slightly better on validate data."
   ]
  },
  {
   "cell_type": "markdown",
   "id": "c20ffa89",
   "metadata": {},
   "source": [
    "### Logistic Regression with Test Data\n"
   ]
  },
  {
   "cell_type": "markdown",
   "id": "9d78d569",
   "metadata": {},
   "source": [
    "Use Logistic Regression with test since it is the best overall model. "
   ]
  },
  {
   "cell_type": "code",
   "execution_count": 17,
   "id": "382665bd",
   "metadata": {},
   "outputs": [
    {
     "data": {
      "image/png": "[encoded data removed]",
      "text/plain": [
       "<Figure size 500x300 with 1 Axes>"
      ]
     },
     "metadata": {},
     "output_type": "display_data"
    },
    {
     "name": "stdout",
     "output_type": "stream",
     "text": [
      "Accuracy of Logistic Regression on test is 0.8019872249822569\n"
     ]
    }
   ],
   "source": [
    "# probability and predictions for the test set\n",
    "y_pred_proba = logit.predict_proba(X_test)[:, 1]\n",
    "y_pred = logit.predict(X_test)\n",
    "# show the \n",
    "prepare.predicted_probabilities(y_pred_proba, y_pred)\n",
    "# Print accuracy score for X_test and y_test\n",
    "print(f\"Accuracy of Logistic Regression on test is {logit.score(X_test, y_test)}\")"
   ]
  },
  {
   "cell_type": "markdown",
   "id": "d9676a69",
   "metadata": {},
   "source": [
    " - The final overall best model performs about as well as it did on our validate data. \n",
    " - The model performes better than baselilne and train. \n",
    " - This model performs well with unseen data consistently."
   ]
  },
  {
   "cell_type": "markdown",
   "id": "48438f47",
   "metadata": {},
   "source": [
    "### Modeling Summary"
   ]
  },
  {
   "cell_type": "markdown",
   "id": "fc24b39a",
   "metadata": {},
   "source": [
    " - Decsion Tree, Random Forest, and Logistics Regression models all performed better than baseline.\n",
    " - The Logistic Regression model performed better on validate and test, meaning it made accurate predictions on new data. This could mean our model is well generalized.\n",
    " -  A generalized model captures the complexities and underlying patterns in the data while not being overly complex to the point of overfitting. "
   ]
  },
  {
   "cell_type": "markdown",
   "id": "ab85b319",
   "metadata": {},
   "source": [
    "# Conclusions"
   ]
  },
  {
   "cell_type": "markdown",
   "id": "89a382f4",
   "metadata": {},
   "source": [
    "### Exploration\n",
    "\n",
    " - Just over a quarter of customers have churned.\n",
    " - New customers are more likely to churn. Many new customers churn before or at 12 month of service. \n",
    " - Shorter contracts are associated with churn, which corresponds with our understanding of the relationship between churn and tenure.\n",
    " - customers using internet with less add-ons are more likely to have churned. "
   ]
  },
  {
   "cell_type": "markdown",
   "id": "2db18ec3",
   "metadata": {},
   "source": [
    "### Modeling\n",
    "\n",
    " - The top three models w where compared \n",
    " - All performed well\n",
    " - Logistic Regressoin performed surprisingly well on new data\n",
    " "
   ]
  },
  {
   "cell_type": "markdown",
   "id": "843f9eac",
   "metadata": {},
   "source": [
    "### Recommendations\n",
    "\n",
    " - Understand what customer needs are to ensure we are providing them with the best option. \n",
    " - Shorter contracts and less services correlate with churn but that doesnt mean start making contracts longer and adding add-ons for every customer. \n",
    " - Ensure customers are aware and offered services that meet their expectations and needs.\n",
    " - Recommend: An initative to increase customer loyalty.\n",
    " - Recommend: Offer customers a chance to signup for automatic payements with every customer interaction."
   ]
  },
  {
   "cell_type": "markdown",
   "id": "f61fb0c4",
   "metadata": {},
   "source": [
    "### Next Steps\n",
    "\n",
    " - Explore each add-on service instead of using the count. Find out which add-on services correlate with customer churn."
   ]
  },
  {
   "cell_type": "markdown",
   "id": "3ee4d0ba",
   "metadata": {},
   "source": [
    "### Appendix"
   ]
  },
  {
   "cell_type": "markdown",
   "id": "1dd8f73c",
   "metadata": {},
   "source": [
    " Export Logistic Regression model final test predictions to csv file:"
   ]
  },
  {
   "cell_type": "code",
   "execution_count": null,
   "id": "01751170",
   "metadata": {},
   "outputs": [],
   "source": [
    "'''  \n",
    "# Make predictions on the test set\n",
    "y_prob = logit.predict_proba(X_test)[:, 1]\n",
    "y_pred = logit.predict(X_test)\n",
    "# Create a DataFrame with the results\n",
    "results_df = pd.DataFrame({'Probability_of_Churn': y_prob, 'Churn_Predicted': y_pred}, index=X_test.index)\n",
    "# Print the DataFrame\n",
    "print(results_df)\n",
    "# read to csv\n",
    "results_df.to_csv('churn_predictions_with_id.csv')\n",
    "'''"
   ]
  }
 ],
 "metadata": {
  "kernelspec": {
   "display_name": "Python 3 (ipykernel)",
   "language": "python",
   "name": "python3"
  },
  "language_info": {
   "codemirror_mode": {
    "name": "ipython",
    "version": 3
   },
   "file_extension": ".py",
   "mimetype": "text/x-python",
   "name": "python",
   "nbconvert_exporter": "python",
   "pygments_lexer": "ipython3",
   "version": "3.11.5"
  }
 },
 "nbformat": 4,
 "nbformat_minor": 5
}
