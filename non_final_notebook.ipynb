{
 "cells": [
  {
   "cell_type": "markdown",
   "id": "edd5afb4",
   "metadata": {},
   "source": [
    "# Non-final Notebook"
   ]
  },
  {
   "cell_type": "markdown",
   "id": "9987192e",
   "metadata": {},
   "source": [
    "\n",
    " - Explore your telco data to discover drivers of churn\n",
    " - Determine if certain columns should be dropped\n",
    " - Determine if it would be valuable to bin some numeric columns\n",
    " - Determine if it would be valuable to combine multiple columns into one.\n",
    "\n",
    "What are your drivers of churn?\n",
    "\n",
    "Does it make sense to combine any features?\n",
    "\n",
    "Do you find any surprises?\n",
    "\n",
    "Document any and all findings and takeaways in your notebook using markdown."
   ]
  },
  {
   "cell_type": "code",
   "execution_count": 1,
   "id": "1e2c3c7a",
   "metadata": {},
   "outputs": [],
   "source": [
    "#data manipulations\n",
    "import pandas as pd\n",
    "import numpy as np\n",
    "\n",
    "#visualization\n",
    "import matplotlib.pyplot as plt\n",
    "import seaborn as sns\n",
    "import os\n",
    " \n",
    "#stats\n",
    "from scipy import stats\n",
    "\n",
    "#my own files with my own functions\n",
    "import acquire\n",
    "import prepare\n",
    "import explore\n",
    "\n",
    "# train test split function and models\n",
    "from sklearn.model_selection import train_test_split\n",
    "from sklearn.tree import DecisionTreeClassifier, plot_tree, export_text\n",
    "from sklearn.metrics import classification_report\n",
    "from sklearn.ensemble import RandomForestClassifier\n",
    "from sklearn.neighbors import KNeighborsClassifier\n",
    "from sklearn.linear_model import LogisticRegression\n",
    "\n",
    "from scipy.stats import chi2_contingency\n",
    "from scipy.stats import mannwhitneyu"
   ]
  },
  {
   "cell_type": "markdown",
   "id": "c6190a4e",
   "metadata": {},
   "source": [
    "#### Acquire phase"
   ]
  },
  {
   "cell_type": "code",
   "execution_count": 2,
   "id": "8193bf70",
   "metadata": {},
   "outputs": [],
   "source": [
    "# acquire data\n",
    "df = acquire.get_telco_data()"
   ]
  },
  {
   "cell_type": "markdown",
   "id": "2cb346e4",
   "metadata": {},
   "source": [
    "#### Prepare phase"
   ]
  },
  {
   "cell_type": "code",
   "execution_count": 3,
   "id": "cf26c5a5",
   "metadata": {},
   "outputs": [],
   "source": [
    "# prepare data with function from prepare module\n",
    "df = prepare.prep_telco(df)"
   ]
  },
  {
   "cell_type": "code",
   "execution_count": 4,
   "id": "48323e6d",
   "metadata": {},
   "outputs": [
    {
     "data": {
      "text/html": [
       "<div>\n",
       "<style scoped>\n",
       "    .dataframe tbody tr th:only-of-type {\n",
       "        vertical-align: middle;\n",
       "    }\n",
       "\n",
       "    .dataframe tbody tr th {\n",
       "        vertical-align: top;\n",
       "    }\n",
       "\n",
       "    .dataframe thead th {\n",
       "        text-align: right;\n",
       "    }\n",
       "</style>\n",
       "<table border=\"1\" class=\"dataframe\">\n",
       "  <thead>\n",
       "    <tr style=\"text-align: right;\">\n",
       "      <th></th>\n",
       "      <th>gender</th>\n",
       "      <th>senior_citizen</th>\n",
       "      <th>partner</th>\n",
       "      <th>dependents</th>\n",
       "      <th>phone_service_type</th>\n",
       "      <th>paperless_billing</th>\n",
       "      <th>monthly_charges</th>\n",
       "      <th>total_charges</th>\n",
       "      <th>churn</th>\n",
       "      <th>contract_type</th>\n",
       "      <th>internet_service_type</th>\n",
       "      <th>payment_type</th>\n",
       "      <th>total_add_on_count</th>\n",
       "      <th>tenure_years</th>\n",
       "    </tr>\n",
       "    <tr>\n",
       "      <th>customer_id</th>\n",
       "      <th></th>\n",
       "      <th></th>\n",
       "      <th></th>\n",
       "      <th></th>\n",
       "      <th></th>\n",
       "      <th></th>\n",
       "      <th></th>\n",
       "      <th></th>\n",
       "      <th></th>\n",
       "      <th></th>\n",
       "      <th></th>\n",
       "      <th></th>\n",
       "      <th></th>\n",
       "      <th></th>\n",
       "    </tr>\n",
       "  </thead>\n",
       "  <tbody>\n",
       "    <tr>\n",
       "      <th>2528-HFYZX</th>\n",
       "      <td>Male</td>\n",
       "      <td>Yes</td>\n",
       "      <td>Yes</td>\n",
       "      <td>No</td>\n",
       "      <td>Single line</td>\n",
       "      <td>Yes</td>\n",
       "      <td>76.45</td>\n",
       "      <td>1233.40</td>\n",
       "      <td>Yes</td>\n",
       "      <td>Month-to-month</td>\n",
       "      <td>Fiber optic</td>\n",
       "      <td>Electronic check</td>\n",
       "      <td>1</td>\n",
       "      <td>1</td>\n",
       "    </tr>\n",
       "    <tr>\n",
       "      <th>1470-PSXNM</th>\n",
       "      <td>Male</td>\n",
       "      <td>No</td>\n",
       "      <td>Yes</td>\n",
       "      <td>Yes</td>\n",
       "      <td>Multiple lines</td>\n",
       "      <td>Yes</td>\n",
       "      <td>93.65</td>\n",
       "      <td>4520.15</td>\n",
       "      <td>No</td>\n",
       "      <td>One year</td>\n",
       "      <td>Fiber optic</td>\n",
       "      <td>Electronic check</td>\n",
       "      <td>3</td>\n",
       "      <td>4</td>\n",
       "    </tr>\n",
       "    <tr>\n",
       "      <th>2804-ETQDK</th>\n",
       "      <td>Male</td>\n",
       "      <td>No</td>\n",
       "      <td>No</td>\n",
       "      <td>Yes</td>\n",
       "      <td>Single line</td>\n",
       "      <td>No</td>\n",
       "      <td>20.55</td>\n",
       "      <td>1357.10</td>\n",
       "      <td>No</td>\n",
       "      <td>Two year</td>\n",
       "      <td>No internet service</td>\n",
       "      <td>Mailed check</td>\n",
       "      <td>No internet service</td>\n",
       "      <td>5</td>\n",
       "    </tr>\n",
       "  </tbody>\n",
       "</table>\n",
       "</div>"
      ],
      "text/plain": [
       "            gender senior_citizen partner dependents phone_service_type  \\\n",
       "customer_id                                                               \n",
       "2528-HFYZX    Male            Yes     Yes         No        Single line   \n",
       "1470-PSXNM    Male             No     Yes        Yes     Multiple lines   \n",
       "2804-ETQDK    Male             No      No        Yes        Single line   \n",
       "\n",
       "            paperless_billing  monthly_charges  total_charges churn  \\\n",
       "customer_id                                                           \n",
       "2528-HFYZX                Yes            76.45        1233.40   Yes   \n",
       "1470-PSXNM                Yes            93.65        4520.15    No   \n",
       "2804-ETQDK                 No            20.55        1357.10    No   \n",
       "\n",
       "              contract_type internet_service_type      payment_type  \\\n",
       "customer_id                                                           \n",
       "2528-HFYZX   Month-to-month           Fiber optic  Electronic check   \n",
       "1470-PSXNM         One year           Fiber optic  Electronic check   \n",
       "2804-ETQDK         Two year   No internet service      Mailed check   \n",
       "\n",
       "              total_add_on_count tenure_years  \n",
       "customer_id                                    \n",
       "2528-HFYZX                     1            1  \n",
       "1470-PSXNM                     3            4  \n",
       "2804-ETQDK   No internet service            5  "
      ]
     },
     "execution_count": 4,
     "metadata": {},
     "output_type": "execute_result"
    }
   ],
   "source": [
    "df.sample(3)"
   ]
  },
  {
   "cell_type": "code",
   "execution_count": 5,
   "id": "fcf553be",
   "metadata": {},
   "outputs": [
    {
     "name": "stdout",
     "output_type": "stream",
     "text": [
      "train: 4225 (60.0% of 7043)\n",
      "validate: 1409 (20.0% of 7043)\n",
      "test: 1409 (20.0% of 7043)\n"
     ]
    }
   ],
   "source": [
    "# split data with function from prepare module with churn as the target variable\n",
    "train, validate, test = prepare.split_data(df, 'churn')"
   ]
  },
  {
   "cell_type": "markdown",
   "id": "99e9c7d9",
   "metadata": {},
   "source": [
    "#### Explore phase\n",
    " - Only use train data during this phase"
   ]
  },
  {
   "cell_type": "code",
   "execution_count": 6,
   "id": "fc8d3202",
   "metadata": {},
   "outputs": [
    {
     "name": "stdout",
     "output_type": "stream",
     "text": [
      "<class 'pandas.core.frame.DataFrame'>\n",
      "Index: 4225 entries, 4083-BFNYK to 7562-UXTPG\n",
      "Data columns (total 14 columns):\n",
      " #   Column                 Non-Null Count  Dtype   \n",
      "---  ------                 --------------  -----   \n",
      " 0   gender                 4225 non-null   object  \n",
      " 1   senior_citizen         4225 non-null   object  \n",
      " 2   partner                4225 non-null   object  \n",
      " 3   dependents             4225 non-null   object  \n",
      " 4   phone_service_type     4225 non-null   object  \n",
      " 5   paperless_billing      4225 non-null   object  \n",
      " 6   monthly_charges        4225 non-null   float64 \n",
      " 7   total_charges          4225 non-null   float64 \n",
      " 8   churn                  4225 non-null   object  \n",
      " 9   contract_type          4225 non-null   object  \n",
      " 10  internet_service_type  4225 non-null   object  \n",
      " 11  payment_type           4225 non-null   object  \n",
      " 12  total_add_on_count     4225 non-null   object  \n",
      " 13  tenure_years           4225 non-null   category\n",
      "dtypes: category(1), float64(2), object(11)\n",
      "memory usage: 466.6+ KB\n"
     ]
    }
   ],
   "source": [
    "train.info()"
   ]
  },
  {
   "cell_type": "code",
   "execution_count": 7,
   "id": "e88b4bb4",
   "metadata": {},
   "outputs": [
    {
     "data": {
      "text/plain": [
       "paperless_billing\n",
       "Yes    2507\n",
       "No     1718\n",
       "Name: count, dtype: int64"
      ]
     },
     "execution_count": 7,
     "metadata": {},
     "output_type": "execute_result"
    }
   ],
   "source": [
    "train.paperless_billing.value_counts()"
   ]
  },
  {
   "cell_type": "code",
   "execution_count": 8,
   "id": "47ea55fd",
   "metadata": {},
   "outputs": [
    {
     "data": {
      "text/plain": [
       "internet_service_type\n",
       "Fiber optic            1898\n",
       "DSL                    1409\n",
       "No internet service     918\n",
       "Name: count, dtype: int64"
      ]
     },
     "execution_count": 8,
     "metadata": {},
     "output_type": "execute_result"
    }
   ],
   "source": [
    "train.internet_service_type.value_counts()"
   ]
  },
  {
   "cell_type": "code",
   "execution_count": 9,
   "id": "195e78c6",
   "metadata": {},
   "outputs": [
    {
     "data": {
      "text/plain": [
       "payment_type\n",
       "Electronic check             1434\n",
       "Mailed check                  935\n",
       "Bank transfer (automatic)     935\n",
       "Credit card (automatic)       921\n",
       "Name: count, dtype: int64"
      ]
     },
     "execution_count": 9,
     "metadata": {},
     "output_type": "execute_result"
    }
   ],
   "source": [
    "train.payment_type.value_counts()"
   ]
  },
  {
   "cell_type": "code",
   "execution_count": 10,
   "id": "1bac0f39",
   "metadata": {
    "scrolled": true
   },
   "outputs": [
    {
     "data": {
      "text/html": [
       "<div>\n",
       "<style scoped>\n",
       "    .dataframe tbody tr th:only-of-type {\n",
       "        vertical-align: middle;\n",
       "    }\n",
       "\n",
       "    .dataframe tbody tr th {\n",
       "        vertical-align: top;\n",
       "    }\n",
       "\n",
       "    .dataframe thead th {\n",
       "        text-align: right;\n",
       "    }\n",
       "</style>\n",
       "<table border=\"1\" class=\"dataframe\">\n",
       "  <thead>\n",
       "    <tr style=\"text-align: right;\">\n",
       "      <th></th>\n",
       "      <th>gender</th>\n",
       "      <th>senior_citizen</th>\n",
       "      <th>partner</th>\n",
       "      <th>dependents</th>\n",
       "      <th>phone_service_type</th>\n",
       "      <th>paperless_billing</th>\n",
       "      <th>monthly_charges</th>\n",
       "      <th>total_charges</th>\n",
       "      <th>churn</th>\n",
       "      <th>contract_type</th>\n",
       "      <th>internet_service_type</th>\n",
       "      <th>payment_type</th>\n",
       "      <th>total_add_on_count</th>\n",
       "      <th>tenure_years</th>\n",
       "    </tr>\n",
       "    <tr>\n",
       "      <th>customer_id</th>\n",
       "      <th></th>\n",
       "      <th></th>\n",
       "      <th></th>\n",
       "      <th></th>\n",
       "      <th></th>\n",
       "      <th></th>\n",
       "      <th></th>\n",
       "      <th></th>\n",
       "      <th></th>\n",
       "      <th></th>\n",
       "      <th></th>\n",
       "      <th></th>\n",
       "      <th></th>\n",
       "      <th></th>\n",
       "    </tr>\n",
       "  </thead>\n",
       "  <tbody>\n",
       "    <tr>\n",
       "      <th>4083-BFNYK</th>\n",
       "      <td>Female</td>\n",
       "      <td>Yes</td>\n",
       "      <td>Yes</td>\n",
       "      <td>No</td>\n",
       "      <td>Multiple lines</td>\n",
       "      <td>No</td>\n",
       "      <td>95.00</td>\n",
       "      <td>3591.25</td>\n",
       "      <td>No</td>\n",
       "      <td>One year</td>\n",
       "      <td>Fiber optic</td>\n",
       "      <td>Credit card (automatic)</td>\n",
       "      <td>3</td>\n",
       "      <td>3</td>\n",
       "    </tr>\n",
       "    <tr>\n",
       "      <th>5804-LEPIM</th>\n",
       "      <td>Female</td>\n",
       "      <td>Yes</td>\n",
       "      <td>No</td>\n",
       "      <td>No</td>\n",
       "      <td>Single line</td>\n",
       "      <td>Yes</td>\n",
       "      <td>70.35</td>\n",
       "      <td>139.05</td>\n",
       "      <td>Yes</td>\n",
       "      <td>Month-to-month</td>\n",
       "      <td>Fiber optic</td>\n",
       "      <td>Electronic check</td>\n",
       "      <td>0</td>\n",
       "      <td>0</td>\n",
       "    </tr>\n",
       "    <tr>\n",
       "      <th>4895-TMWIR</th>\n",
       "      <td>Male</td>\n",
       "      <td>Yes</td>\n",
       "      <td>Yes</td>\n",
       "      <td>No</td>\n",
       "      <td>Single line</td>\n",
       "      <td>No</td>\n",
       "      <td>19.95</td>\n",
       "      <td>214.75</td>\n",
       "      <td>Yes</td>\n",
       "      <td>Month-to-month</td>\n",
       "      <td>No internet service</td>\n",
       "      <td>Mailed check</td>\n",
       "      <td>No internet service</td>\n",
       "      <td>0</td>\n",
       "    </tr>\n",
       "  </tbody>\n",
       "</table>\n",
       "</div>"
      ],
      "text/plain": [
       "             gender senior_citizen partner dependents phone_service_type  \\\n",
       "customer_id                                                                \n",
       "4083-BFNYK   Female            Yes     Yes         No     Multiple lines   \n",
       "5804-LEPIM   Female            Yes      No         No        Single line   \n",
       "4895-TMWIR     Male            Yes     Yes         No        Single line   \n",
       "\n",
       "            paperless_billing  monthly_charges  total_charges churn  \\\n",
       "customer_id                                                           \n",
       "4083-BFNYK                 No            95.00        3591.25    No   \n",
       "5804-LEPIM                Yes            70.35         139.05   Yes   \n",
       "4895-TMWIR                 No            19.95         214.75   Yes   \n",
       "\n",
       "              contract_type internet_service_type             payment_type  \\\n",
       "customer_id                                                                  \n",
       "4083-BFNYK         One year           Fiber optic  Credit card (automatic)   \n",
       "5804-LEPIM   Month-to-month           Fiber optic         Electronic check   \n",
       "4895-TMWIR   Month-to-month   No internet service             Mailed check   \n",
       "\n",
       "              total_add_on_count tenure_years  \n",
       "customer_id                                    \n",
       "4083-BFNYK                     3            3  \n",
       "5804-LEPIM                     0            0  \n",
       "4895-TMWIR   No internet service            0  "
      ]
     },
     "execution_count": 10,
     "metadata": {},
     "output_type": "execute_result"
    }
   ],
   "source": [
    "train.head(3)"
   ]
  },
  {
   "cell_type": "markdown",
   "id": "5505d48a",
   "metadata": {},
   "source": [
    "After splitting data, I can now separate variables into two categories: continuous and categorical"
   ]
  },
  {
   "cell_type": "code",
   "execution_count": 11,
   "id": "5b14903e",
   "metadata": {},
   "outputs": [],
   "source": [
    "# make two lists, one with all categorical variables and another with all continouus vairables\n",
    "#intializing empty lists\n",
    "cat_col = []\n",
    "con_col = []\n",
    "\n",
    "#looping through all columns\n",
    "for col in train.columns:\n",
    "        #finding all my categorical columns by checking for how many unique values\n",
    "        # if less than 100, append to cat_col\n",
    "        if train[col].nunique() < 50:\n",
    "            cat_col.append(col)\n",
    "        else: \n",
    "            #if it has more than 100 unique values, append to continous column variable\n",
    "            con_col.append(col)"
   ]
  },
  {
   "cell_type": "code",
   "execution_count": 12,
   "id": "49d82d68",
   "metadata": {},
   "outputs": [
    {
     "data": {
      "text/plain": [
       "['gender',\n",
       " 'senior_citizen',\n",
       " 'partner',\n",
       " 'dependents',\n",
       " 'phone_service_type',\n",
       " 'paperless_billing',\n",
       " 'churn',\n",
       " 'contract_type',\n",
       " 'internet_service_type',\n",
       " 'payment_type',\n",
       " 'total_add_on_count',\n",
       " 'tenure_years']"
      ]
     },
     "execution_count": 12,
     "metadata": {},
     "output_type": "execute_result"
    }
   ],
   "source": [
    "# check lists\n",
    "cat_col "
   ]
  },
  {
   "cell_type": "code",
   "execution_count": 13,
   "id": "176d90d6",
   "metadata": {},
   "outputs": [
    {
     "data": {
      "text/plain": [
       "['monthly_charges', 'total_charges']"
      ]
     },
     "execution_count": 13,
     "metadata": {},
     "output_type": "execute_result"
    }
   ],
   "source": [
    "con_col"
   ]
  },
  {
   "cell_type": "markdown",
   "id": "647c58e8",
   "metadata": {},
   "source": [
    "a for loop can prints contingency tables with features vs target "
   ]
  },
  {
   "cell_type": "code",
   "execution_count": 14,
   "id": "b4c652d1",
   "metadata": {},
   "outputs": [],
   "source": [
    "# Target variable is churn\n",
    "target_variable = 'churn'\n",
    "\n",
    "# Initialize an empty list to store columns for comparison\n",
    "columns_to_compare = []\n",
    "\n",
    "# Create a for loop to iterate through each column in the categorical column list\n",
    "# appending our comparision list as long as the column is not churn\n",
    "for column in cat_col:\n",
    "    if column != target_variable:\n",
    "        columns_to_compare.append(column)\n",
    "    else:\n",
    "        pass"
   ]
  },
  {
   "cell_type": "code",
   "execution_count": 15,
   "id": "ed8116fe",
   "metadata": {},
   "outputs": [
    {
     "data": {
      "text/plain": [
       "['gender',\n",
       " 'senior_citizen',\n",
       " 'partner',\n",
       " 'dependents',\n",
       " 'phone_service_type',\n",
       " 'paperless_billing',\n",
       " 'contract_type',\n",
       " 'internet_service_type',\n",
       " 'payment_type',\n",
       " 'total_add_on_count',\n",
       " 'tenure_years']"
      ]
     },
     "execution_count": 15,
     "metadata": {},
     "output_type": "execute_result"
    }
   ],
   "source": [
    "columns_to_compare"
   ]
  },
  {
   "cell_type": "code",
   "execution_count": 16,
   "id": "1b3e4abf",
   "metadata": {
    "scrolled": false
   },
   "outputs": [
    {
     "name": "stdout",
     "output_type": "stream",
     "text": [
      "\n",
      "Contingency Table for gender vs. churn:\n",
      "\n",
      "churn     No  Yes\n",
      "gender           \n",
      "Female  1550  559\n",
      "Male    1554  562\n"
     ]
    },
    {
     "data": {
      "image/png": "[encoded data removed]",
      "text/plain": [
       "<Figure size 1000x600 with 1 Axes>"
      ]
     },
     "metadata": {},
     "output_type": "display_data"
    },
    {
     "name": "stdout",
     "output_type": "stream",
     "text": [
      "\n",
      "Contingency Table for senior_citizen vs. churn:\n",
      "\n",
      "churn             No  Yes\n",
      "senior_citizen           \n",
      "No              2696  835\n",
      "Yes              408  286\n"
     ]
    },
    {
     "data": {
      "image/png": "[encoded data removed]",
      "text/plain": [
       "<Figure size 1000x600 with 1 Axes>"
      ]
     },
     "metadata": {},
     "output_type": "display_data"
    },
    {
     "name": "stdout",
     "output_type": "stream",
     "text": [
      "\n",
      "Contingency Table for partner vs. churn:\n",
      "\n",
      "churn      No  Yes\n",
      "partner           \n",
      "No       1445  715\n",
      "Yes      1659  406\n"
     ]
    },
    {
     "data": {
      "image/png": "[encoded data removed]",
      "text/plain": [
       "<Figure size 1000x600 with 1 Axes>"
      ]
     },
     "metadata": {},
     "output_type": "display_data"
    },
    {
     "name": "stdout",
     "output_type": "stream",
     "text": [
      "\n",
      "Contingency Table for dependents vs. churn:\n",
      "\n",
      "churn         No  Yes\n",
      "dependents           \n",
      "No          2042  919\n",
      "Yes         1062  202\n"
     ]
    },
    {
     "data": {
      "image/png": "[encoded data removed]",
      "text/plain": [
       "<Figure size 1000x600 with 1 Axes>"
      ]
     },
     "metadata": {},
     "output_type": "display_data"
    },
    {
     "name": "stdout",
     "output_type": "stream",
     "text": [
      "\n",
      "Contingency Table for phone_service_type vs. churn:\n",
      "\n",
      "churn                 No  Yes\n",
      "phone_service_type           \n",
      "Multiple lines      1309  502\n",
      "No phone service     295   99\n",
      "Single line         1500  520\n"
     ]
    },
    {
     "data": {
      "image/png": "[encoded data removed]",
      "text/plain": [
       "<Figure size 1000x600 with 1 Axes>"
      ]
     },
     "metadata": {},
     "output_type": "display_data"
    },
    {
     "name": "stdout",
     "output_type": "stream",
     "text": [
      "\n",
      "Contingency Table for paperless_billing vs. churn:\n",
      "\n",
      "churn                No  Yes\n",
      "paperless_billing           \n",
      "No                 1437  281\n",
      "Yes                1667  840\n"
     ]
    },
    {
     "data": {
      "image/png": "[encoded data removed]",
      "text/plain": [
       "<Figure size 1000x600 with 1 Axes>"
      ]
     },
     "metadata": {},
     "output_type": "display_data"
    },
    {
     "name": "stdout",
     "output_type": "stream",
     "text": [
      "\n",
      "Contingency Table for contract_type vs. churn:\n",
      "\n",
      "churn             No  Yes\n",
      "contract_type            \n",
      "Month-to-month  1338  997\n",
      "One year         785   94\n",
      "Two year         981   30\n"
     ]
    },
    {
     "data": {
      "image/png": "[encoded data removed]",
      "text/plain": [
       "<Figure size 1000x600 with 1 Axes>"
      ]
     },
     "metadata": {},
     "output_type": "display_data"
    },
    {
     "name": "stdout",
     "output_type": "stream",
     "text": [
      "\n",
      "Contingency Table for internet_service_type vs. churn:\n",
      "\n",
      "churn                    No  Yes\n",
      "internet_service_type           \n",
      "DSL                    1140  269\n",
      "Fiber optic            1116  782\n",
      "No internet service     848   70\n"
     ]
    },
    {
     "data": {
      "image/png": "[encoded data removed]",
      "text/plain": [
       "<Figure size 1000x600 with 1 Axes>"
      ]
     },
     "metadata": {},
     "output_type": "display_data"
    },
    {
     "name": "stdout",
     "output_type": "stream",
     "text": [
      "\n",
      "Contingency Table for payment_type vs. churn:\n",
      "\n",
      "churn                       No  Yes\n",
      "payment_type                       \n",
      "Bank transfer (automatic)  778  157\n",
      "Credit card (automatic)    783  138\n",
      "Electronic check           788  646\n",
      "Mailed check               755  180\n"
     ]
    },
    {
     "data": {
      "image/png": "[encoded data removed]",
      "text/plain": [
       "<Figure size 1000x600 with 1 Axes>"
      ]
     },
     "metadata": {},
     "output_type": "display_data"
    },
    {
     "name": "stdout",
     "output_type": "stream",
     "text": [
      "\n",
      "Contingency Table for total_add_on_count vs. churn:\n",
      "\n",
      "churn                 No  Yes\n",
      "total_add_on_count           \n",
      "0                    188  221\n",
      "1                    320  251\n",
      "2                    382  220\n",
      "3                    504  196\n",
      "4                    403  111\n",
      "5                    303   41\n",
      "6                    156   11\n",
      "No internet service  848   70\n"
     ]
    },
    {
     "data": {
      "image/png": "[encoded data removed]",
      "text/plain": [
       "<Figure size 1000x600 with 1 Axes>"
      ]
     },
     "metadata": {},
     "output_type": "display_data"
    },
    {
     "name": "stdout",
     "output_type": "stream",
     "text": [
      "\n",
      "Contingency Table for tenure_years vs. churn:\n",
      "\n",
      "churn          No  Yes\n",
      "tenure_years          \n",
      "0             626  609\n",
      "1             448  164\n",
      "2             422  110\n",
      "3             343   95\n",
      "4             417   89\n",
      "5             620   49\n",
      "6             228    5\n"
     ]
    },
    {
     "data": {
      "image/png": "[encoded data removed]",
      "text/plain": [
       "<Figure size 1000x600 with 1 Axes>"
      ]
     },
     "metadata": {},
     "output_type": "display_data"
    }
   ],
   "source": [
    "# For loop to create contingency table and bar plot for each comparision column vs churn\n",
    "# describe and visualize the distribution of categorical variables and make inferences about \n",
    "# the equality of proportions, independence of the variables, or agreement between variables.\n",
    "for column in columns_to_compare:\n",
    "    # Create a contingency table\n",
    "    contingency_table = pd.crosstab(train[column], train[target_variable])\n",
    "    \n",
    "    # Display the contingency table\n",
    "    print(f\"\\nContingency Table for {column} vs. {target_variable}:\\n\")\n",
    "    print(contingency_table)\n",
    "    \n",
    "    # To help visualize the contingency table, we can use a stacked bar plot\n",
    "    contingency_table.plot.bar(stacked=True, color=['green', 'red'], figsize=(10, 6))\n",
    "    plt.title(f'{column} vs. {target_variable}')\n",
    "    plt.xlabel(column)\n",
    "    plt.ylabel('Count')\n",
    "    plt.show()"
   ]
  },
  {
   "cell_type": "markdown",
   "id": "2b5b5b77",
   "metadata": {},
   "source": [
    "Box plot to view continuous variables vs target variable"
   ]
  },
  {
   "cell_type": "code",
   "execution_count": 17,
   "id": "88bdf9b0",
   "metadata": {
    "scrolled": false
   },
   "outputs": [
    {
     "data": {
      "image/png": "[encoded data removed]",
      "text/plain": [
       "<Figure size 1000x600 with 1 Axes>"
      ]
     },
     "metadata": {},
     "output_type": "display_data"
    },
    {
     "data": {
      "image/png": "[encoded data removed]",
      "text/plain": [
       "<Figure size 1000x600 with 1 Axes>"
      ]
     },
     "metadata": {},
     "output_type": "display_data"
    }
   ],
   "source": [
    "# Target variable\n",
    "target_variable = 'churn'\n",
    "\n",
    "# Create a for loop to compare each continuous variable to the target variable\n",
    "for column in con_col:\n",
    "    # Visualize the distribution of the continuous variable \n",
    "    plt.figure(figsize=(10, 6))\n",
    "    # Box plot with target variable and count\n",
    "    sns.boxplot(x=target_variable, y=column, data=train)\n",
    "    plt.title(f'{column} vs. {target_variable}')\n",
    "    plt.xlabel(target_variable)\n",
    "    plt.ylabel(column)\n",
    "    plt.show()"
   ]
  },
  {
   "cell_type": "code",
   "execution_count": 18,
   "id": "eee66f48",
   "metadata": {},
   "outputs": [
    {
     "data": {
      "text/html": [
       "<div>\n",
       "<style scoped>\n",
       "    .dataframe tbody tr th:only-of-type {\n",
       "        vertical-align: middle;\n",
       "    }\n",
       "\n",
       "    .dataframe tbody tr th {\n",
       "        vertical-align: top;\n",
       "    }\n",
       "\n",
       "    .dataframe thead th {\n",
       "        text-align: right;\n",
       "    }\n",
       "</style>\n",
       "<table border=\"1\" class=\"dataframe\">\n",
       "  <thead>\n",
       "    <tr style=\"text-align: right;\">\n",
       "      <th></th>\n",
       "      <th>gender</th>\n",
       "      <th>senior_citizen</th>\n",
       "      <th>partner</th>\n",
       "      <th>dependents</th>\n",
       "      <th>phone_service_type</th>\n",
       "      <th>paperless_billing</th>\n",
       "      <th>monthly_charges</th>\n",
       "      <th>total_charges</th>\n",
       "      <th>churn</th>\n",
       "      <th>contract_type</th>\n",
       "      <th>internet_service_type</th>\n",
       "      <th>payment_type</th>\n",
       "      <th>total_add_on_count</th>\n",
       "      <th>tenure_years</th>\n",
       "    </tr>\n",
       "    <tr>\n",
       "      <th>customer_id</th>\n",
       "      <th></th>\n",
       "      <th></th>\n",
       "      <th></th>\n",
       "      <th></th>\n",
       "      <th></th>\n",
       "      <th></th>\n",
       "      <th></th>\n",
       "      <th></th>\n",
       "      <th></th>\n",
       "      <th></th>\n",
       "      <th></th>\n",
       "      <th></th>\n",
       "      <th></th>\n",
       "      <th></th>\n",
       "    </tr>\n",
       "  </thead>\n",
       "  <tbody>\n",
       "    <tr>\n",
       "      <th>4083-BFNYK</th>\n",
       "      <td>Female</td>\n",
       "      <td>Yes</td>\n",
       "      <td>Yes</td>\n",
       "      <td>No</td>\n",
       "      <td>Multiple lines</td>\n",
       "      <td>No</td>\n",
       "      <td>95.00</td>\n",
       "      <td>3591.25</td>\n",
       "      <td>No</td>\n",
       "      <td>One year</td>\n",
       "      <td>Fiber optic</td>\n",
       "      <td>Credit card (automatic)</td>\n",
       "      <td>3</td>\n",
       "      <td>3</td>\n",
       "    </tr>\n",
       "    <tr>\n",
       "      <th>5804-LEPIM</th>\n",
       "      <td>Female</td>\n",
       "      <td>Yes</td>\n",
       "      <td>No</td>\n",
       "      <td>No</td>\n",
       "      <td>Single line</td>\n",
       "      <td>Yes</td>\n",
       "      <td>70.35</td>\n",
       "      <td>139.05</td>\n",
       "      <td>Yes</td>\n",
       "      <td>Month-to-month</td>\n",
       "      <td>Fiber optic</td>\n",
       "      <td>Electronic check</td>\n",
       "      <td>0</td>\n",
       "      <td>0</td>\n",
       "    </tr>\n",
       "    <tr>\n",
       "      <th>4895-TMWIR</th>\n",
       "      <td>Male</td>\n",
       "      <td>Yes</td>\n",
       "      <td>Yes</td>\n",
       "      <td>No</td>\n",
       "      <td>Single line</td>\n",
       "      <td>No</td>\n",
       "      <td>19.95</td>\n",
       "      <td>214.75</td>\n",
       "      <td>Yes</td>\n",
       "      <td>Month-to-month</td>\n",
       "      <td>No internet service</td>\n",
       "      <td>Mailed check</td>\n",
       "      <td>No internet service</td>\n",
       "      <td>0</td>\n",
       "    </tr>\n",
       "    <tr>\n",
       "      <th>1342-JPNKI</th>\n",
       "      <td>Male</td>\n",
       "      <td>No</td>\n",
       "      <td>No</td>\n",
       "      <td>No</td>\n",
       "      <td>Multiple lines</td>\n",
       "      <td>Yes</td>\n",
       "      <td>86.05</td>\n",
       "      <td>834.10</td>\n",
       "      <td>Yes</td>\n",
       "      <td>Month-to-month</td>\n",
       "      <td>Fiber optic</td>\n",
       "      <td>Bank transfer (automatic)</td>\n",
       "      <td>1</td>\n",
       "      <td>0</td>\n",
       "    </tr>\n",
       "    <tr>\n",
       "      <th>3397-AVTKU</th>\n",
       "      <td>Male</td>\n",
       "      <td>No</td>\n",
       "      <td>No</td>\n",
       "      <td>No</td>\n",
       "      <td>Single line</td>\n",
       "      <td>Yes</td>\n",
       "      <td>60.00</td>\n",
       "      <td>2548.55</td>\n",
       "      <td>No</td>\n",
       "      <td>Two year</td>\n",
       "      <td>DSL</td>\n",
       "      <td>Electronic check</td>\n",
       "      <td>2</td>\n",
       "      <td>3</td>\n",
       "    </tr>\n",
       "    <tr>\n",
       "      <th>...</th>\n",
       "      <td>...</td>\n",
       "      <td>...</td>\n",
       "      <td>...</td>\n",
       "      <td>...</td>\n",
       "      <td>...</td>\n",
       "      <td>...</td>\n",
       "      <td>...</td>\n",
       "      <td>...</td>\n",
       "      <td>...</td>\n",
       "      <td>...</td>\n",
       "      <td>...</td>\n",
       "      <td>...</td>\n",
       "      <td>...</td>\n",
       "      <td>...</td>\n",
       "    </tr>\n",
       "    <tr>\n",
       "      <th>1915-IOFGU</th>\n",
       "      <td>Female</td>\n",
       "      <td>No</td>\n",
       "      <td>No</td>\n",
       "      <td>No</td>\n",
       "      <td>Single line</td>\n",
       "      <td>No</td>\n",
       "      <td>70.50</td>\n",
       "      <td>70.50</td>\n",
       "      <td>Yes</td>\n",
       "      <td>Month-to-month</td>\n",
       "      <td>Fiber optic</td>\n",
       "      <td>Electronic check</td>\n",
       "      <td>0</td>\n",
       "      <td>0</td>\n",
       "    </tr>\n",
       "    <tr>\n",
       "      <th>7025-WCBNE</th>\n",
       "      <td>Male</td>\n",
       "      <td>Yes</td>\n",
       "      <td>No</td>\n",
       "      <td>No</td>\n",
       "      <td>Multiple lines</td>\n",
       "      <td>No</td>\n",
       "      <td>59.60</td>\n",
       "      <td>2754.00</td>\n",
       "      <td>No</td>\n",
       "      <td>Two year</td>\n",
       "      <td>DSL</td>\n",
       "      <td>Bank transfer (automatic)</td>\n",
       "      <td>2</td>\n",
       "      <td>3</td>\n",
       "    </tr>\n",
       "    <tr>\n",
       "      <th>9788-HNGUT</th>\n",
       "      <td>Male</td>\n",
       "      <td>No</td>\n",
       "      <td>Yes</td>\n",
       "      <td>No</td>\n",
       "      <td>Multiple lines</td>\n",
       "      <td>Yes</td>\n",
       "      <td>116.95</td>\n",
       "      <td>8594.40</td>\n",
       "      <td>No</td>\n",
       "      <td>Two year</td>\n",
       "      <td>Fiber optic</td>\n",
       "      <td>Credit card (automatic)</td>\n",
       "      <td>6</td>\n",
       "      <td>6</td>\n",
       "    </tr>\n",
       "    <tr>\n",
       "      <th>5229-PRWKT</th>\n",
       "      <td>Male</td>\n",
       "      <td>No</td>\n",
       "      <td>No</td>\n",
       "      <td>No</td>\n",
       "      <td>Multiple lines</td>\n",
       "      <td>Yes</td>\n",
       "      <td>86.55</td>\n",
       "      <td>649.65</td>\n",
       "      <td>Yes</td>\n",
       "      <td>Month-to-month</td>\n",
       "      <td>Fiber optic</td>\n",
       "      <td>Electronic check</td>\n",
       "      <td>1</td>\n",
       "      <td>0</td>\n",
       "    </tr>\n",
       "    <tr>\n",
       "      <th>7562-UXTPG</th>\n",
       "      <td>Female</td>\n",
       "      <td>No</td>\n",
       "      <td>No</td>\n",
       "      <td>No</td>\n",
       "      <td>Single line</td>\n",
       "      <td>Yes</td>\n",
       "      <td>70.15</td>\n",
       "      <td>886.70</td>\n",
       "      <td>No</td>\n",
       "      <td>Month-to-month</td>\n",
       "      <td>Fiber optic</td>\n",
       "      <td>Mailed check</td>\n",
       "      <td>0</td>\n",
       "      <td>1</td>\n",
       "    </tr>\n",
       "  </tbody>\n",
       "</table>\n",
       "<p>4225 rows × 14 columns</p>\n",
       "</div>"
      ],
      "text/plain": [
       "             gender senior_citizen partner dependents phone_service_type  \\\n",
       "customer_id                                                                \n",
       "4083-BFNYK   Female            Yes     Yes         No     Multiple lines   \n",
       "5804-LEPIM   Female            Yes      No         No        Single line   \n",
       "4895-TMWIR     Male            Yes     Yes         No        Single line   \n",
       "1342-JPNKI     Male             No      No         No     Multiple lines   \n",
       "3397-AVTKU     Male             No      No         No        Single line   \n",
       "...             ...            ...     ...        ...                ...   \n",
       "1915-IOFGU   Female             No      No         No        Single line   \n",
       "7025-WCBNE     Male            Yes      No         No     Multiple lines   \n",
       "9788-HNGUT     Male             No     Yes         No     Multiple lines   \n",
       "5229-PRWKT     Male             No      No         No     Multiple lines   \n",
       "7562-UXTPG   Female             No      No         No        Single line   \n",
       "\n",
       "            paperless_billing  monthly_charges  total_charges churn  \\\n",
       "customer_id                                                           \n",
       "4083-BFNYK                 No            95.00        3591.25    No   \n",
       "5804-LEPIM                Yes            70.35         139.05   Yes   \n",
       "4895-TMWIR                 No            19.95         214.75   Yes   \n",
       "1342-JPNKI                Yes            86.05         834.10   Yes   \n",
       "3397-AVTKU                Yes            60.00        2548.55    No   \n",
       "...                       ...              ...            ...   ...   \n",
       "1915-IOFGU                 No            70.50          70.50   Yes   \n",
       "7025-WCBNE                 No            59.60        2754.00    No   \n",
       "9788-HNGUT                Yes           116.95        8594.40    No   \n",
       "5229-PRWKT                Yes            86.55         649.65   Yes   \n",
       "7562-UXTPG                Yes            70.15         886.70    No   \n",
       "\n",
       "              contract_type internet_service_type               payment_type  \\\n",
       "customer_id                                                                    \n",
       "4083-BFNYK         One year           Fiber optic    Credit card (automatic)   \n",
       "5804-LEPIM   Month-to-month           Fiber optic           Electronic check   \n",
       "4895-TMWIR   Month-to-month   No internet service               Mailed check   \n",
       "1342-JPNKI   Month-to-month           Fiber optic  Bank transfer (automatic)   \n",
       "3397-AVTKU         Two year                   DSL           Electronic check   \n",
       "...                     ...                   ...                        ...   \n",
       "1915-IOFGU   Month-to-month           Fiber optic           Electronic check   \n",
       "7025-WCBNE         Two year                   DSL  Bank transfer (automatic)   \n",
       "9788-HNGUT         Two year           Fiber optic    Credit card (automatic)   \n",
       "5229-PRWKT   Month-to-month           Fiber optic           Electronic check   \n",
       "7562-UXTPG   Month-to-month           Fiber optic               Mailed check   \n",
       "\n",
       "              total_add_on_count tenure_years  \n",
       "customer_id                                    \n",
       "4083-BFNYK                     3            3  \n",
       "5804-LEPIM                     0            0  \n",
       "4895-TMWIR   No internet service            0  \n",
       "1342-JPNKI                     1            0  \n",
       "3397-AVTKU                     2            3  \n",
       "...                          ...          ...  \n",
       "1915-IOFGU                     0            0  \n",
       "7025-WCBNE                     2            3  \n",
       "9788-HNGUT                     6            6  \n",
       "5229-PRWKT                     1            0  \n",
       "7562-UXTPG                     0            1  \n",
       "\n",
       "[4225 rows x 14 columns]"
      ]
     },
     "execution_count": 18,
     "metadata": {},
     "output_type": "execute_result"
    }
   ],
   "source": [
    "train"
   ]
  },
  {
   "cell_type": "code",
   "execution_count": 19,
   "id": "e78a955d",
   "metadata": {},
   "outputs": [
    {
     "data": {
      "image/png": "[encoded data removed]",
      "text/plain": [
       "<Figure size 1000x600 with 1 Axes>"
      ]
     },
     "metadata": {},
     "output_type": "display_data"
    }
   ],
   "source": [
    "import seaborn as sns\n",
    "import matplotlib.pyplot as plt\n",
    "\n",
    "# Plotting a histogram with kernel density estimation\n",
    "plt.figure(figsize=(10, 6))\n",
    "sns.histplot(train['monthly_charges'], kde=True, color='skyblue', bins=30)\n",
    "plt.title('Distribution of monthly_charges')\n",
    "plt.xlabel('monthly_charges')\n",
    "plt.ylabel('Frequency')\n",
    "plt.show()"
   ]
  },
  {
   "cell_type": "code",
   "execution_count": 20,
   "id": "0cd61c5e",
   "metadata": {},
   "outputs": [
    {
     "data": {
      "text/plain": [
       "monthly_charges\n",
       "20.05     43\n",
       "19.85     29\n",
       "19.90     29\n",
       "19.70     28\n",
       "20.35     27\n",
       "          ..\n",
       "108.65     1\n",
       "43.45      1\n",
       "101.55     1\n",
       "46.05      1\n",
       "116.95     1\n",
       "Name: count, Length: 1374, dtype: int64"
      ]
     },
     "execution_count": 20,
     "metadata": {},
     "output_type": "execute_result"
    }
   ],
   "source": [
    "train.monthly_charges.value_counts()\n"
   ]
  },
  {
   "cell_type": "code",
   "execution_count": 21,
   "id": "0a360fac",
   "metadata": {},
   "outputs": [
    {
     "name": "stdout",
     "output_type": "stream",
     "text": [
      "contract_type\n",
      "Month-to-month    66.713897\n",
      "One year          66.116155\n",
      "Two year          60.651830\n",
      "Name: monthly_charges, dtype: float64\n"
     ]
    }
   ],
   "source": [
    "average_monthly_charges = train.groupby('contract_type')['monthly_charges'].mean()\n",
    "print(average_monthly_charges)\n"
   ]
  },
  {
   "cell_type": "code",
   "execution_count": 8,
   "id": "12829b37",
   "metadata": {
    "scrolled": false
   },
   "outputs": [
    {
     "data": {
      "image/png": "[encoded data removed]",
      "text/plain": [
       "<Figure size 1000x600 with 1 Axes>"
      ]
     },
     "metadata": {},
     "output_type": "display_data"
    }
   ],
   "source": [
    "import seaborn as sns\n",
    "import matplotlib.pyplot as plt\n",
    "\n",
    "plt.figure(figsize=(10, 6))\n",
    "sns.boxplot(x='churn', y='total_charges', data=train, palette='pastel')\n",
    "plt.title('Monthly Charges by Churn Status')\n",
    "plt.xlabel('Churn Status')\n",
    "plt.ylabel('Monthly Charges')\n",
    "plt.show()\n"
   ]
  },
  {
   "cell_type": "code",
   "execution_count": 23,
   "id": "8adbd8b4",
   "metadata": {},
   "outputs": [],
   "source": [
    "churned_charges = train[train['churn'] == 'Yes']['monthly_charges']\n",
    "not_churned_charges = train[train['churn'] == 'No']['monthly_charges']"
   ]
  },
  {
   "cell_type": "code",
   "execution_count": 24,
   "id": "eb8f8867",
   "metadata": {
    "scrolled": true
   },
   "outputs": [
    {
     "data": {
      "image/png": "[encoded data removed]",
      "text/plain": [
       "<Figure size 1000x600 with 1 Axes>"
      ]
     },
     "metadata": {},
     "output_type": "display_data"
    }
   ],
   "source": [
    "import seaborn as sns\n",
    "import matplotlib.pyplot as plt\n",
    "\n",
    "# Example: Histogram for MonthlyCharges\n",
    "plt.figure(figsize=(10, 6))\n",
    "sns.histplot(churned_charges, kde=True, color='skyblue', bins=30)\n",
    "plt.title('Histogram and KDE for Monthly Charges')\n",
    "plt.xlabel('Monthly Charges')\n",
    "plt.ylabel('Frequency')\n",
    "plt.show()\n",
    "\n"
   ]
  },
  {
   "cell_type": "code",
   "execution_count": 25,
   "id": "119a3384",
   "metadata": {},
   "outputs": [
    {
     "name": "stdout",
     "output_type": "stream",
     "text": [
      "Shapiro-Wilk Test - Statistic: 0.9185670018196106, p-value: 5.647232811229013e-43\n"
     ]
    }
   ],
   "source": [
    "from scipy.stats import shapiro\n",
    "\n",
    "# Shapiro-Wilk test for normality\n",
    "stat, p_value = shapiro(train['monthly_charges'])\n",
    "print(f'Shapiro-Wilk Test - Statistic: {stat}, p-value: {p_value}')\n"
   ]
  },
  {
   "cell_type": "code",
   "execution_count": 26,
   "id": "8f8e6092",
   "metadata": {},
   "outputs": [],
   "source": [
    "from scipy.stats import mannwhitneyu\n",
    "\n",
    "t_stat, p_value = mannwhitneyu(churned_charges, not_churned_charges)\n"
   ]
  },
  {
   "cell_type": "code",
   "execution_count": 27,
   "id": "b11d41cf",
   "metadata": {},
   "outputs": [
    {
     "data": {
      "text/plain": [
       "(2136241.0, 9.83259830397179e-30)"
      ]
     },
     "execution_count": 27,
     "metadata": {},
     "output_type": "execute_result"
    }
   ],
   "source": [
    "t_stat, p_value"
   ]
  },
  {
   "cell_type": "markdown",
   "id": "e9b8034e",
   "metadata": {},
   "source": [
    "> investegating relationships between features and target "
   ]
  },
  {
   "cell_type": "markdown",
   "id": "1b9fce4a",
   "metadata": {},
   "source": [
    "### FIRST RELATIONSHIP"
   ]
  },
  {
   "cell_type": "markdown",
   "id": "89a29b8b",
   "metadata": {},
   "source": [
    " 1. Hypothesize"
   ]
  },
  {
   "cell_type": "markdown",
   "id": "df7e3f77",
   "metadata": {},
   "source": [
    "Q: does payment type affect whether or not someone churned?"
   ]
  },
  {
   "cell_type": "code",
   "execution_count": 28,
   "id": "77ea0174",
   "metadata": {},
   "outputs": [
    {
     "data": {
      "text/plain": [
       "payment_type\n",
       "Electronic check             1434\n",
       "Mailed check                  935\n",
       "Bank transfer (automatic)     935\n",
       "Credit card (automatic)       921\n",
       "Name: count, dtype: int64"
      ]
     },
     "execution_count": 28,
     "metadata": {},
     "output_type": "execute_result"
    }
   ],
   "source": [
    "train.payment_type.value_counts()"
   ]
  },
  {
   "cell_type": "code",
   "execution_count": 29,
   "id": "f7102d27",
   "metadata": {},
   "outputs": [
    {
     "data": {
      "text/plain": [
       "churn\n",
       "No     3104\n",
       "Yes    1121\n",
       "Name: count, dtype: int64"
      ]
     },
     "execution_count": 29,
     "metadata": {},
     "output_type": "execute_result"
    }
   ],
   "source": [
    "train.churn.value_counts()"
   ]
  },
  {
   "cell_type": "markdown",
   "id": "9d7cb8f8",
   "metadata": {},
   "source": [
    "2. Visualize"
   ]
  },
  {
   "cell_type": "code",
   "execution_count": 30,
   "id": "ab039415",
   "metadata": {},
   "outputs": [
    {
     "data": {
      "image/png": "[encoded data removed]",
      "text/plain": [
       "<Figure size 1000x600 with 1 Axes>"
      ]
     },
     "metadata": {},
     "output_type": "display_data"
    }
   ],
   "source": [
    "# customers with electronic check payment types churned a lot\n",
    "plt.figure(figsize=(10, 6))\n",
    "sns. countplot(x='payment_type', hue='churn', data=train, palette='pastel')\n",
    "plt.title('Churn by Payment Type')\n",
    "plt.xlabel('Payment Type')\n",
    "plt.ylabel('Count')\n",
    "plt.show()"
   ]
  },
  {
   "cell_type": "markdown",
   "id": "fd0da2f6",
   "metadata": {},
   "source": [
    "> customers with electronic check payment type churned a lot more than other payment types. "
   ]
  },
  {
   "cell_type": "markdown",
   "id": "cf8d554a",
   "metadata": {},
   "source": [
    "3. Analyze with stats\n",
    "\n",
    "two categorical variables:  use chi^2"
   ]
  },
  {
   "cell_type": "code",
   "execution_count": 31,
   "id": "4042d67e",
   "metadata": {},
   "outputs": [],
   "source": [
    "# make hypothesis and set significance level "
   ]
  },
  {
   "cell_type": "markdown",
   "id": "4f89d498",
   "metadata": {},
   "source": [
    "$H_0$: There is no relationship between payment type and whether or not someone has churned\n",
    "\n",
    "$H_a$: There is a relationship between payment type and whether or not someone has churned"
   ]
  },
  {
   "cell_type": "code",
   "execution_count": 32,
   "id": "f28fb841",
   "metadata": {},
   "outputs": [],
   "source": [
    "alpha = 0.05"
   ]
  },
  {
   "cell_type": "code",
   "execution_count": 33,
   "id": "ccf1520e",
   "metadata": {},
   "outputs": [],
   "source": [
    "# create crosstab\n",
    "observed = pd.crosstab(train.churn, train.payment_type)"
   ]
  },
  {
   "cell_type": "code",
   "execution_count": 34,
   "id": "c0cdb628",
   "metadata": {},
   "outputs": [
    {
     "data": {
      "text/html": [
       "<div>\n",
       "<style scoped>\n",
       "    .dataframe tbody tr th:only-of-type {\n",
       "        vertical-align: middle;\n",
       "    }\n",
       "\n",
       "    .dataframe tbody tr th {\n",
       "        vertical-align: top;\n",
       "    }\n",
       "\n",
       "    .dataframe thead th {\n",
       "        text-align: right;\n",
       "    }\n",
       "</style>\n",
       "<table border=\"1\" class=\"dataframe\">\n",
       "  <thead>\n",
       "    <tr style=\"text-align: right;\">\n",
       "      <th>payment_type</th>\n",
       "      <th>Bank transfer (automatic)</th>\n",
       "      <th>Credit card (automatic)</th>\n",
       "      <th>Electronic check</th>\n",
       "      <th>Mailed check</th>\n",
       "    </tr>\n",
       "    <tr>\n",
       "      <th>churn</th>\n",
       "      <th></th>\n",
       "      <th></th>\n",
       "      <th></th>\n",
       "      <th></th>\n",
       "    </tr>\n",
       "  </thead>\n",
       "  <tbody>\n",
       "    <tr>\n",
       "      <th>No</th>\n",
       "      <td>778</td>\n",
       "      <td>783</td>\n",
       "      <td>788</td>\n",
       "      <td>755</td>\n",
       "    </tr>\n",
       "    <tr>\n",
       "      <th>Yes</th>\n",
       "      <td>157</td>\n",
       "      <td>138</td>\n",
       "      <td>646</td>\n",
       "      <td>180</td>\n",
       "    </tr>\n",
       "  </tbody>\n",
       "</table>\n",
       "</div>"
      ],
      "text/plain": [
       "payment_type  Bank transfer (automatic)  Credit card (automatic)  \\\n",
       "churn                                                              \n",
       "No                                  778                      783   \n",
       "Yes                                 157                      138   \n",
       "\n",
       "payment_type  Electronic check  Mailed check  \n",
       "churn                                         \n",
       "No                         788           755  \n",
       "Yes                        646           180  "
      ]
     },
     "execution_count": 34,
     "metadata": {},
     "output_type": "execute_result"
    }
   ],
   "source": [
    "observed"
   ]
  },
  {
   "cell_type": "code",
   "execution_count": 35,
   "id": "9a1c4674",
   "metadata": {},
   "outputs": [],
   "source": [
    "#chi2_contingency prints out 4 values - chi2, p-value, degrees of freedom, and expected values\n",
    "chi2, p, dof, expected = stats.chi2_contingency(observed)"
   ]
  },
  {
   "cell_type": "code",
   "execution_count": 36,
   "id": "1595d525",
   "metadata": {},
   "outputs": [
    {
     "name": "stdout",
     "output_type": "stream",
     "text": [
      "Observed\n",
      "[[778 783 788 755]\n",
      " [157 138 646 180]]\n",
      "\n",
      "Expected\n",
      "[[ 686  676 1053  686]\n",
      " [ 248  244  380  248]]\n",
      "\n",
      "----\n",
      "chi^2 = 386.1840\n",
      "p     = 0.0000\n"
     ]
    }
   ],
   "source": [
    "#output values\n",
    "print('Observed')\n",
    "print(observed.values)\n",
    "print('\\nExpected')\n",
    "print(expected.astype(int))\n",
    "print('\\n----')\n",
    "print(f'chi^2 = {chi2:.4f}')\n",
    "print(f'p     = {p:.4f}')"
   ]
  },
  {
   "cell_type": "code",
   "execution_count": 37,
   "id": "19c29034",
   "metadata": {},
   "outputs": [
    {
     "name": "stdout",
     "output_type": "stream",
     "text": [
      "reject the null hypothesis\n"
     ]
    }
   ],
   "source": [
    "# State your conclusion\n",
    "#compare our p-value and alpha\n",
    "if p < alpha:\n",
    "    print('reject the null hypothesis')\n",
    "else:\n",
    "    print('fail to reject the null hypothesis')\n"
   ]
  },
  {
   "cell_type": "code",
   "execution_count": 38,
   "id": "76cf54d6",
   "metadata": {},
   "outputs": [],
   "source": [
    "# we reject the null hypothesis\n",
    "# There is a relationship between payment type and whether or not someone churned"
   ]
  },
  {
   "cell_type": "markdown",
   "id": "ac8871c5",
   "metadata": {},
   "source": [
    "4. Summarize"
   ]
  },
  {
   "cell_type": "markdown",
   "id": "3037036c",
   "metadata": {},
   "source": [
    "One particular type of payment method shows a lot of customer churn. Maybe this is due to some factor related to costs, fees, or delivery speed. Will need to investigate further asking are there fees associated with each payment type, what are their delivery speeds?"
   ]
  },
  {
   "cell_type": "markdown",
   "id": "f5903147",
   "metadata": {},
   "source": [
    "### Second Relationship"
   ]
  },
  {
   "cell_type": "markdown",
   "id": "767d822a",
   "metadata": {},
   "source": [
    " 1. Hypothesize"
   ]
  },
  {
   "cell_type": "markdown",
   "id": "71ded382",
   "metadata": {},
   "source": [
    "Q: does contract type affect whether or not someone has churned?"
   ]
  },
  {
   "cell_type": "markdown",
   "id": "cd02911b",
   "metadata": {},
   "source": [
    "What are churn and contract type? Two categorical variables."
   ]
  },
  {
   "cell_type": "code",
   "execution_count": 39,
   "id": "9cf2c24f",
   "metadata": {},
   "outputs": [
    {
     "data": {
      "text/plain": [
       "contract_type\n",
       "Month-to-month    2335\n",
       "Two year          1011\n",
       "One year           879\n",
       "Name: count, dtype: int64"
      ]
     },
     "execution_count": 39,
     "metadata": {},
     "output_type": "execute_result"
    }
   ],
   "source": [
    "train.contract_type.value_counts()"
   ]
  },
  {
   "cell_type": "code",
   "execution_count": 40,
   "id": "cb4a33d2",
   "metadata": {},
   "outputs": [
    {
     "data": {
      "text/plain": [
       "churn\n",
       "No     3104\n",
       "Yes    1121\n",
       "Name: count, dtype: int64"
      ]
     },
     "execution_count": 40,
     "metadata": {},
     "output_type": "execute_result"
    }
   ],
   "source": [
    "train.churn.value_counts()"
   ]
  },
  {
   "cell_type": "markdown",
   "id": "b7490213",
   "metadata": {},
   "source": [
    "2. Visualize"
   ]
  },
  {
   "cell_type": "code",
   "execution_count": 41,
   "id": "1e4f7dfc",
   "metadata": {
    "scrolled": false
   },
   "outputs": [
    {
     "data": {
      "image/png": "[encoded data removed]",
      "text/plain": [
       "<Figure size 1000x600 with 1 Axes>"
      ]
     },
     "metadata": {},
     "output_type": "display_data"
    }
   ],
   "source": [
    "# customers with month to month contract types churned a lot\n",
    "plt.figure(figsize=(10, 6))\n",
    "sns. countplot(x='contract_type', hue='churn', data=train, palette='bright')\n",
    "plt.title('Churn by Contract Type')\n",
    "plt.xlabel('Contract Type')\n",
    "plt.ylabel('Count')\n",
    "plt.show()"
   ]
  },
  {
   "cell_type": "markdown",
   "id": "d77c50cd",
   "metadata": {},
   "source": [
    "> customers with month to month contract types churn mroe than other contract types"
   ]
  },
  {
   "cell_type": "markdown",
   "id": "c14e5f85",
   "metadata": {},
   "source": [
    "3. Analyze with stats\n",
    "\n",
    "two categorical variables, we can use chi^2"
   ]
  },
  {
   "cell_type": "code",
   "execution_count": 42,
   "id": "9600b1fd",
   "metadata": {},
   "outputs": [],
   "source": [
    "# make hypothesis and set significance level "
   ]
  },
  {
   "cell_type": "markdown",
   "id": "2650c2c8",
   "metadata": {},
   "source": [
    "$H_0$: There is no relationship between contract type and whether or not someone has churned\n",
    "\n",
    "$H_a$: There is a relationship between contract type and whether or not someone has churned"
   ]
  },
  {
   "cell_type": "code",
   "execution_count": 43,
   "id": "cdb579c4",
   "metadata": {},
   "outputs": [],
   "source": [
    "alpha = 0.05"
   ]
  },
  {
   "cell_type": "code",
   "execution_count": 44,
   "id": "3643d3f6",
   "metadata": {},
   "outputs": [
    {
     "data": {
      "text/html": [
       "<div>\n",
       "<style scoped>\n",
       "    .dataframe tbody tr th:only-of-type {\n",
       "        vertical-align: middle;\n",
       "    }\n",
       "\n",
       "    .dataframe tbody tr th {\n",
       "        vertical-align: top;\n",
       "    }\n",
       "\n",
       "    .dataframe thead th {\n",
       "        text-align: right;\n",
       "    }\n",
       "</style>\n",
       "<table border=\"1\" class=\"dataframe\">\n",
       "  <thead>\n",
       "    <tr style=\"text-align: right;\">\n",
       "      <th>contract_type</th>\n",
       "      <th>Month-to-month</th>\n",
       "      <th>One year</th>\n",
       "      <th>Two year</th>\n",
       "    </tr>\n",
       "    <tr>\n",
       "      <th>churn</th>\n",
       "      <th></th>\n",
       "      <th></th>\n",
       "      <th></th>\n",
       "    </tr>\n",
       "  </thead>\n",
       "  <tbody>\n",
       "    <tr>\n",
       "      <th>No</th>\n",
       "      <td>1338</td>\n",
       "      <td>785</td>\n",
       "      <td>981</td>\n",
       "    </tr>\n",
       "    <tr>\n",
       "      <th>Yes</th>\n",
       "      <td>997</td>\n",
       "      <td>94</td>\n",
       "      <td>30</td>\n",
       "    </tr>\n",
       "  </tbody>\n",
       "</table>\n",
       "</div>"
      ],
      "text/plain": [
       "contract_type  Month-to-month  One year  Two year\n",
       "churn                                            \n",
       "No                       1338       785       981\n",
       "Yes                       997        94        30"
      ]
     },
     "execution_count": 44,
     "metadata": {},
     "output_type": "execute_result"
    }
   ],
   "source": [
    "# create crosstab\n",
    "observed_ct = pd.crosstab(train.churn, train.contract_type)\n",
    "observed_ct"
   ]
  },
  {
   "cell_type": "code",
   "execution_count": 45,
   "id": "b22ffb23",
   "metadata": {},
   "outputs": [],
   "source": [
    "#chi2_contingency prints out 4 values - chi2, p-value, degrees of freedom, and expected values\n",
    "chi2, p, dof, expected = stats.chi2_contingency(observed_ct)"
   ]
  },
  {
   "cell_type": "code",
   "execution_count": 46,
   "id": "a1ee6b23",
   "metadata": {},
   "outputs": [
    {
     "name": "stdout",
     "output_type": "stream",
     "text": [
      "Observed\n",
      "[[1338  785  981]\n",
      " [ 997   94   30]]\n",
      "\n",
      "Expected\n",
      "[[1715  645  742]\n",
      " [ 619  233  268]]\n",
      "\n",
      "----\n",
      "chi^2 = 714.1745\n",
      "p     = 0.0000\n"
     ]
    }
   ],
   "source": [
    "#output values\n",
    "print('Observed')\n",
    "print(observed_ct.values)\n",
    "print('\\nExpected')\n",
    "print(expected.astype(int))\n",
    "print('\\n----')\n",
    "print(f'chi^2 = {chi2:.4f}')\n",
    "print(f'p     = {p:.4f}')"
   ]
  },
  {
   "cell_type": "code",
   "execution_count": 47,
   "id": "22f42d7d",
   "metadata": {},
   "outputs": [
    {
     "name": "stdout",
     "output_type": "stream",
     "text": [
      "reject the null hypothesis\n"
     ]
    }
   ],
   "source": [
    "# State your conclusion\n",
    "#compare our p-value and alpha\n",
    "if p < alpha:\n",
    "    print('reject the null hypothesis')\n",
    "else:\n",
    "    print('fail to reject the null hypothesis')\n"
   ]
  },
  {
   "cell_type": "code",
   "execution_count": 48,
   "id": "5b2bcbe5",
   "metadata": {},
   "outputs": [],
   "source": [
    "# we reject the null hypothesis\n",
    "# There is a relationship between contract type and whether or not someone churned"
   ]
  },
  {
   "cell_type": "markdown",
   "id": "52977aec",
   "metadata": {},
   "source": [
    "4. Summarize"
   ]
  },
  {
   "cell_type": "markdown",
   "id": "3f666329",
   "metadata": {},
   "source": [
    "One particular contract type (month-to-month) has a lot of customers with churned status. This would make sense becuase people with long contracts can not churn as easily as customers with month to month contracts. However, I would like to examine if contract type and tenure relates to churn. "
   ]
  },
  {
   "cell_type": "markdown",
   "id": "856b98ad",
   "metadata": {},
   "source": [
    "### Third Relationship"
   ]
  },
  {
   "cell_type": "markdown",
   "id": "ac7147d6",
   "metadata": {},
   "source": [
    " 1. Hypothesize"
   ]
  },
  {
   "cell_type": "markdown",
   "id": "83ae5388",
   "metadata": {},
   "source": [
    "Q: does tenure affect whether or not someone has churned?"
   ]
  },
  {
   "cell_type": "markdown",
   "id": "e9f2532b",
   "metadata": {},
   "source": [
    "What are churn and tenure? One categorical variable and one continuous variable? Maybe, unless we bin tenure into years instead of months."
   ]
  },
  {
   "cell_type": "code",
   "execution_count": 49,
   "id": "1b791ca3",
   "metadata": {},
   "outputs": [
    {
     "data": {
      "text/plain": [
       "tenure_years\n",
       "0    1235\n",
       "5     669\n",
       "1     612\n",
       "2     532\n",
       "4     506\n",
       "3     438\n",
       "6     233\n",
       "Name: count, dtype: int64"
      ]
     },
     "execution_count": 49,
     "metadata": {},
     "output_type": "execute_result"
    }
   ],
   "source": [
    "train.tenure_years.value_counts()"
   ]
  },
  {
   "cell_type": "code",
   "execution_count": 50,
   "id": "4e248bd9",
   "metadata": {},
   "outputs": [
    {
     "data": {
      "text/plain": [
       "churn\n",
       "No     3104\n",
       "Yes    1121\n",
       "Name: count, dtype: int64"
      ]
     },
     "execution_count": 50,
     "metadata": {},
     "output_type": "execute_result"
    }
   ],
   "source": [
    "train.churn.value_counts()"
   ]
  },
  {
   "cell_type": "markdown",
   "id": "8af87de2",
   "metadata": {},
   "source": [
    "2. Visualize"
   ]
  },
  {
   "cell_type": "code",
   "execution_count": 51,
   "id": "becc60f9",
   "metadata": {},
   "outputs": [
    {
     "data": {
      "image/png": "[encoded data removed]",
      "text/plain": [
       "<Figure size 1000x600 with 1 Axes>"
      ]
     },
     "metadata": {},
     "output_type": "display_data"
    }
   ],
   "source": [
    "# customers with month to month contract types churned a lot\n",
    "plt.figure(figsize=(10, 6))\n",
    "sns. countplot(x='tenure_years', hue='churn', data=train, palette='bright')\n",
    "plt.title('Churn by tenure_years')\n",
    "plt.xlabel('tenure_years')\n",
    "plt.ylabel('Count')\n",
    "plt.show()"
   ]
  },
  {
   "cell_type": "markdown",
   "id": "72dd7fea",
   "metadata": {},
   "source": [
    "> it appears customers are churning early on in their tenure. Customers who have stayed with telco are still with telco"
   ]
  },
  {
   "cell_type": "markdown",
   "id": "409771d7",
   "metadata": {},
   "source": [
    "3. Analyze with statistics"
   ]
  },
  {
   "cell_type": "markdown",
   "id": "61ab4ad2",
   "metadata": {},
   "source": [
    "comparing categorical to categorical because we are going to bin tenure into years, of which the higest tenure is 72 months."
   ]
  },
  {
   "cell_type": "code",
   "execution_count": 52,
   "id": "4933ac5e",
   "metadata": {},
   "outputs": [
    {
     "data": {
      "text/html": [
       "<div>\n",
       "<style scoped>\n",
       "    .dataframe tbody tr th:only-of-type {\n",
       "        vertical-align: middle;\n",
       "    }\n",
       "\n",
       "    .dataframe tbody tr th {\n",
       "        vertical-align: top;\n",
       "    }\n",
       "\n",
       "    .dataframe thead th {\n",
       "        text-align: right;\n",
       "    }\n",
       "</style>\n",
       "<table border=\"1\" class=\"dataframe\">\n",
       "  <thead>\n",
       "    <tr style=\"text-align: right;\">\n",
       "      <th>tenure_years</th>\n",
       "      <th>0</th>\n",
       "      <th>1</th>\n",
       "      <th>2</th>\n",
       "      <th>3</th>\n",
       "      <th>4</th>\n",
       "      <th>5</th>\n",
       "      <th>6</th>\n",
       "    </tr>\n",
       "    <tr>\n",
       "      <th>churn</th>\n",
       "      <th></th>\n",
       "      <th></th>\n",
       "      <th></th>\n",
       "      <th></th>\n",
       "      <th></th>\n",
       "      <th></th>\n",
       "      <th></th>\n",
       "    </tr>\n",
       "  </thead>\n",
       "  <tbody>\n",
       "    <tr>\n",
       "      <th>No</th>\n",
       "      <td>626</td>\n",
       "      <td>448</td>\n",
       "      <td>422</td>\n",
       "      <td>343</td>\n",
       "      <td>417</td>\n",
       "      <td>620</td>\n",
       "      <td>228</td>\n",
       "    </tr>\n",
       "    <tr>\n",
       "      <th>Yes</th>\n",
       "      <td>609</td>\n",
       "      <td>164</td>\n",
       "      <td>110</td>\n",
       "      <td>95</td>\n",
       "      <td>89</td>\n",
       "      <td>49</td>\n",
       "      <td>5</td>\n",
       "    </tr>\n",
       "  </tbody>\n",
       "</table>\n",
       "</div>"
      ],
      "text/plain": [
       "tenure_years    0    1    2    3    4    5    6\n",
       "churn                                          \n",
       "No            626  448  422  343  417  620  228\n",
       "Yes           609  164  110   95   89   49    5"
      ]
     },
     "execution_count": 52,
     "metadata": {},
     "output_type": "execute_result"
    }
   ],
   "source": [
    "observed_tenure = pd.crosstab(train.churn, train.tenure_years)\n",
    "observed_tenure"
   ]
  },
  {
   "cell_type": "markdown",
   "id": "69b36347",
   "metadata": {},
   "source": [
    "two categorical variables, we can use chi^2"
   ]
  },
  {
   "cell_type": "code",
   "execution_count": 53,
   "id": "8ecc02e2",
   "metadata": {},
   "outputs": [],
   "source": [
    "# make hypothesis and set significance level "
   ]
  },
  {
   "cell_type": "markdown",
   "id": "577b4b0f",
   "metadata": {},
   "source": [
    "$H_0$: There is no relationship between tenure and whether or not someone has churned\n",
    "\n",
    "$H_a$: There is a relationship between tenure and whether or not someone has churned"
   ]
  },
  {
   "cell_type": "code",
   "execution_count": 54,
   "id": "a36f2b5c",
   "metadata": {},
   "outputs": [],
   "source": [
    "alpha = 0.05"
   ]
  },
  {
   "cell_type": "code",
   "execution_count": 55,
   "id": "b1cc40d5",
   "metadata": {},
   "outputs": [],
   "source": [
    "#chi2_contingency prints out 4 values - chi2, p-value, degrees of freedom, and expected values\n",
    "chi2, p, dof, expected = stats.chi2_contingency(observed_tenure)"
   ]
  },
  {
   "cell_type": "code",
   "execution_count": 56,
   "id": "17a732dc",
   "metadata": {},
   "outputs": [
    {
     "name": "stdout",
     "output_type": "stream",
     "text": [
      "Observed\n",
      "[[626 448 422 343 417 620 228]\n",
      " [609 164 110  95  89  49   5]]\n",
      "\n",
      "Expected\n",
      "[[907 449 390 321 371 491 171]\n",
      " [327 162 141 116 134 177  61]]\n",
      "\n",
      "----\n",
      "chi^2 = 561.8805\n",
      "p     = 0.0000\n"
     ]
    }
   ],
   "source": [
    "#output values\n",
    "print('Observed')\n",
    "print(observed_tenure.values)\n",
    "print('\\nExpected')\n",
    "print(expected.astype(int))\n",
    "print('\\n----')\n",
    "print(f'chi^2 = {chi2:.4f}')\n",
    "print(f'p     = {p:.4f}')"
   ]
  },
  {
   "cell_type": "code",
   "execution_count": 57,
   "id": "9246ccb2",
   "metadata": {},
   "outputs": [
    {
     "name": "stdout",
     "output_type": "stream",
     "text": [
      "reject the null hypothesis\n"
     ]
    }
   ],
   "source": [
    "# State your conclusion\n",
    "#compare our p-value and alpha\n",
    "if p < alpha:\n",
    "    print('reject the null hypothesis')\n",
    "else:\n",
    "    print('fail to reject the null hypothesis')"
   ]
  },
  {
   "cell_type": "code",
   "execution_count": 58,
   "id": "e3cbfdfc",
   "metadata": {},
   "outputs": [],
   "source": [
    "# we reject the null hypothesis\n",
    "# There is a relationship between tenure and whether or not someone churned"
   ]
  },
  {
   "cell_type": "markdown",
   "id": "65d39106",
   "metadata": {},
   "source": [
    "4. Summarize"
   ]
  },
  {
   "cell_type": "markdown",
   "id": "6e26fc99",
   "metadata": {},
   "source": [
    "People are churning early on in their tenure. I would like to explore the differences between customers at the tenure value where most leave."
   ]
  },
  {
   "cell_type": "markdown",
   "id": "dc059751",
   "metadata": {},
   "source": [
    "## Modeling"
   ]
  },
  {
   "cell_type": "markdown",
   "id": "f0f139ce",
   "metadata": {},
   "source": [
    "When done with exploring, you have to encode and prepare all three splits for ML."
   ]
  },
  {
   "cell_type": "code",
   "execution_count": 59,
   "id": "c38e528d",
   "metadata": {},
   "outputs": [],
   "source": [
    "# preprocess, get our 3 dataframes ready for ML\n",
    "train, validate, test = prepare.preprocess_telco(train, validate, test)"
   ]
  },
  {
   "cell_type": "code",
   "execution_count": 60,
   "id": "4865125b",
   "metadata": {},
   "outputs": [
    {
     "name": "stdout",
     "output_type": "stream",
     "text": [
      "<class 'pandas.core.frame.DataFrame'>\n",
      "Index: 4225 entries, 4083-BFNYK to 7562-UXTPG\n",
      "Data columns (total 19 columns):\n",
      " #   Column                                Non-Null Count  Dtype  \n",
      "---  ------                                --------------  -----  \n",
      " 0   gender                                4225 non-null   int64  \n",
      " 1   senior_citizen                        4225 non-null   int64  \n",
      " 2   partner                               4225 non-null   int64  \n",
      " 3   dependents                            4225 non-null   int64  \n",
      " 4   paperless_billing                     4225 non-null   int64  \n",
      " 5   monthly_charges                       4225 non-null   float64\n",
      " 6   total_charges                         4225 non-null   float64\n",
      " 7   churn                                 4225 non-null   int64  \n",
      " 8   total_add_on_count                    4225 non-null   int64  \n",
      " 9   tenure_years                          4225 non-null   int64  \n",
      " 10  contract_type_One year                4225 non-null   int64  \n",
      " 11  contract_type_Two year                4225 non-null   int64  \n",
      " 12  internet_service_type_DSL             4225 non-null   int64  \n",
      " 13  internet_service_type_Fiber optic     4225 non-null   int64  \n",
      " 14  payment_type_Credit card (automatic)  4225 non-null   int64  \n",
      " 15  payment_type_Electronic check         4225 non-null   int64  \n",
      " 16  payment_type_Mailed check             4225 non-null   int64  \n",
      " 17  phone_service_type_No phone service   4225 non-null   int64  \n",
      " 18  phone_service_type_Single line        4225 non-null   int64  \n",
      "dtypes: float64(2), int64(17)\n",
      "memory usage: 789.2+ KB\n"
     ]
    }
   ],
   "source": [
    "train.info()"
   ]
  },
  {
   "cell_type": "code",
   "execution_count": 61,
   "id": "fa842ad3",
   "metadata": {},
   "outputs": [
    {
     "data": {
      "text/html": [
       "<div>\n",
       "<style scoped>\n",
       "    .dataframe tbody tr th:only-of-type {\n",
       "        vertical-align: middle;\n",
       "    }\n",
       "\n",
       "    .dataframe tbody tr th {\n",
       "        vertical-align: top;\n",
       "    }\n",
       "\n",
       "    .dataframe thead th {\n",
       "        text-align: right;\n",
       "    }\n",
       "</style>\n",
       "<table border=\"1\" class=\"dataframe\">\n",
       "  <thead>\n",
       "    <tr style=\"text-align: right;\">\n",
       "      <th>customer_id</th>\n",
       "      <th>4083-BFNYK</th>\n",
       "      <th>5804-LEPIM</th>\n",
       "      <th>4895-TMWIR</th>\n",
       "      <th>1342-JPNKI</th>\n",
       "      <th>3397-AVTKU</th>\n",
       "      <th>1051-EQPZR</th>\n",
       "      <th>4193-ORFCL</th>\n",
       "      <th>1354-YZFNB</th>\n",
       "      <th>0442-TDYUO</th>\n",
       "      <th>1264-BYWMS</th>\n",
       "      <th>...</th>\n",
       "      <th>5959-BELXA</th>\n",
       "      <th>6897-UUBNU</th>\n",
       "      <th>9444-JTXHZ</th>\n",
       "      <th>0617-FHSGK</th>\n",
       "      <th>0330-BGYZE</th>\n",
       "      <th>1915-IOFGU</th>\n",
       "      <th>7025-WCBNE</th>\n",
       "      <th>9788-HNGUT</th>\n",
       "      <th>5229-PRWKT</th>\n",
       "      <th>7562-UXTPG</th>\n",
       "    </tr>\n",
       "  </thead>\n",
       "  <tbody>\n",
       "    <tr>\n",
       "      <th>gender</th>\n",
       "      <td>0.00</td>\n",
       "      <td>0.00</td>\n",
       "      <td>1.00</td>\n",
       "      <td>1.00</td>\n",
       "      <td>1.00</td>\n",
       "      <td>0.00</td>\n",
       "      <td>0.0</td>\n",
       "      <td>1.00</td>\n",
       "      <td>1.00</td>\n",
       "      <td>1.00</td>\n",
       "      <td>...</td>\n",
       "      <td>1.00</td>\n",
       "      <td>1.00</td>\n",
       "      <td>1.0</td>\n",
       "      <td>1.0</td>\n",
       "      <td>1.0</td>\n",
       "      <td>0.0</td>\n",
       "      <td>1.0</td>\n",
       "      <td>1.00</td>\n",
       "      <td>1.00</td>\n",
       "      <td>0.00</td>\n",
       "    </tr>\n",
       "    <tr>\n",
       "      <th>senior_citizen</th>\n",
       "      <td>1.00</td>\n",
       "      <td>1.00</td>\n",
       "      <td>1.00</td>\n",
       "      <td>0.00</td>\n",
       "      <td>0.00</td>\n",
       "      <td>0.00</td>\n",
       "      <td>1.0</td>\n",
       "      <td>0.00</td>\n",
       "      <td>0.00</td>\n",
       "      <td>0.00</td>\n",
       "      <td>...</td>\n",
       "      <td>1.00</td>\n",
       "      <td>0.00</td>\n",
       "      <td>0.0</td>\n",
       "      <td>0.0</td>\n",
       "      <td>0.0</td>\n",
       "      <td>0.0</td>\n",
       "      <td>1.0</td>\n",
       "      <td>0.00</td>\n",
       "      <td>0.00</td>\n",
       "      <td>0.00</td>\n",
       "    </tr>\n",
       "    <tr>\n",
       "      <th>partner</th>\n",
       "      <td>1.00</td>\n",
       "      <td>0.00</td>\n",
       "      <td>1.00</td>\n",
       "      <td>0.00</td>\n",
       "      <td>0.00</td>\n",
       "      <td>1.00</td>\n",
       "      <td>0.0</td>\n",
       "      <td>1.00</td>\n",
       "      <td>1.00</td>\n",
       "      <td>0.00</td>\n",
       "      <td>...</td>\n",
       "      <td>0.00</td>\n",
       "      <td>0.00</td>\n",
       "      <td>1.0</td>\n",
       "      <td>0.0</td>\n",
       "      <td>1.0</td>\n",
       "      <td>0.0</td>\n",
       "      <td>0.0</td>\n",
       "      <td>1.00</td>\n",
       "      <td>0.00</td>\n",
       "      <td>0.00</td>\n",
       "    </tr>\n",
       "    <tr>\n",
       "      <th>dependents</th>\n",
       "      <td>0.00</td>\n",
       "      <td>0.00</td>\n",
       "      <td>0.00</td>\n",
       "      <td>0.00</td>\n",
       "      <td>0.00</td>\n",
       "      <td>1.00</td>\n",
       "      <td>0.0</td>\n",
       "      <td>1.00</td>\n",
       "      <td>0.00</td>\n",
       "      <td>0.00</td>\n",
       "      <td>...</td>\n",
       "      <td>0.00</td>\n",
       "      <td>0.00</td>\n",
       "      <td>0.0</td>\n",
       "      <td>1.0</td>\n",
       "      <td>0.0</td>\n",
       "      <td>0.0</td>\n",
       "      <td>0.0</td>\n",
       "      <td>0.00</td>\n",
       "      <td>0.00</td>\n",
       "      <td>0.00</td>\n",
       "    </tr>\n",
       "    <tr>\n",
       "      <th>paperless_billing</th>\n",
       "      <td>0.00</td>\n",
       "      <td>1.00</td>\n",
       "      <td>0.00</td>\n",
       "      <td>1.00</td>\n",
       "      <td>1.00</td>\n",
       "      <td>0.00</td>\n",
       "      <td>0.0</td>\n",
       "      <td>0.00</td>\n",
       "      <td>1.00</td>\n",
       "      <td>1.00</td>\n",
       "      <td>...</td>\n",
       "      <td>1.00</td>\n",
       "      <td>0.00</td>\n",
       "      <td>0.0</td>\n",
       "      <td>0.0</td>\n",
       "      <td>0.0</td>\n",
       "      <td>0.0</td>\n",
       "      <td>0.0</td>\n",
       "      <td>1.00</td>\n",
       "      <td>1.00</td>\n",
       "      <td>1.00</td>\n",
       "    </tr>\n",
       "    <tr>\n",
       "      <th>monthly_charges</th>\n",
       "      <td>95.00</td>\n",
       "      <td>70.35</td>\n",
       "      <td>19.95</td>\n",
       "      <td>86.05</td>\n",
       "      <td>60.00</td>\n",
       "      <td>19.60</td>\n",
       "      <td>45.1</td>\n",
       "      <td>19.55</td>\n",
       "      <td>20.05</td>\n",
       "      <td>96.80</td>\n",
       "      <td>...</td>\n",
       "      <td>96.15</td>\n",
       "      <td>89.65</td>\n",
       "      <td>76.2</td>\n",
       "      <td>75.2</td>\n",
       "      <td>102.5</td>\n",
       "      <td>70.5</td>\n",
       "      <td>59.6</td>\n",
       "      <td>116.95</td>\n",
       "      <td>86.55</td>\n",
       "      <td>70.15</td>\n",
       "    </tr>\n",
       "    <tr>\n",
       "      <th>total_charges</th>\n",
       "      <td>3591.25</td>\n",
       "      <td>139.05</td>\n",
       "      <td>214.75</td>\n",
       "      <td>834.10</td>\n",
       "      <td>2548.55</td>\n",
       "      <td>780.25</td>\n",
       "      <td>45.1</td>\n",
       "      <td>68.80</td>\n",
       "      <td>1036.00</td>\n",
       "      <td>5283.95</td>\n",
       "      <td>...</td>\n",
       "      <td>3019.25</td>\n",
       "      <td>2623.65</td>\n",
       "      <td>76.2</td>\n",
       "      <td>3678.3</td>\n",
       "      <td>6157.6</td>\n",
       "      <td>70.5</td>\n",
       "      <td>2754.0</td>\n",
       "      <td>8594.40</td>\n",
       "      <td>649.65</td>\n",
       "      <td>886.70</td>\n",
       "    </tr>\n",
       "    <tr>\n",
       "      <th>churn</th>\n",
       "      <td>0.00</td>\n",
       "      <td>1.00</td>\n",
       "      <td>1.00</td>\n",
       "      <td>1.00</td>\n",
       "      <td>0.00</td>\n",
       "      <td>0.00</td>\n",
       "      <td>1.0</td>\n",
       "      <td>0.00</td>\n",
       "      <td>0.00</td>\n",
       "      <td>1.00</td>\n",
       "      <td>...</td>\n",
       "      <td>1.00</td>\n",
       "      <td>0.00</td>\n",
       "      <td>1.0</td>\n",
       "      <td>1.0</td>\n",
       "      <td>0.0</td>\n",
       "      <td>1.0</td>\n",
       "      <td>0.0</td>\n",
       "      <td>0.00</td>\n",
       "      <td>1.00</td>\n",
       "      <td>0.00</td>\n",
       "    </tr>\n",
       "    <tr>\n",
       "      <th>total_add_on_count</th>\n",
       "      <td>3.00</td>\n",
       "      <td>0.00</td>\n",
       "      <td>0.00</td>\n",
       "      <td>1.00</td>\n",
       "      <td>2.00</td>\n",
       "      <td>0.00</td>\n",
       "      <td>0.0</td>\n",
       "      <td>0.00</td>\n",
       "      <td>0.00</td>\n",
       "      <td>2.00</td>\n",
       "      <td>...</td>\n",
       "      <td>2.00</td>\n",
       "      <td>3.00</td>\n",
       "      <td>1.0</td>\n",
       "      <td>0.0</td>\n",
       "      <td>4.0</td>\n",
       "      <td>0.0</td>\n",
       "      <td>2.0</td>\n",
       "      <td>6.00</td>\n",
       "      <td>1.00</td>\n",
       "      <td>0.00</td>\n",
       "    </tr>\n",
       "    <tr>\n",
       "      <th>tenure_years</th>\n",
       "      <td>3.00</td>\n",
       "      <td>0.00</td>\n",
       "      <td>0.00</td>\n",
       "      <td>0.00</td>\n",
       "      <td>3.00</td>\n",
       "      <td>3.00</td>\n",
       "      <td>0.0</td>\n",
       "      <td>0.00</td>\n",
       "      <td>4.00</td>\n",
       "      <td>4.00</td>\n",
       "      <td>...</td>\n",
       "      <td>2.00</td>\n",
       "      <td>2.00</td>\n",
       "      <td>0.0</td>\n",
       "      <td>4.0</td>\n",
       "      <td>5.0</td>\n",
       "      <td>0.0</td>\n",
       "      <td>3.0</td>\n",
       "      <td>6.00</td>\n",
       "      <td>0.00</td>\n",
       "      <td>1.00</td>\n",
       "    </tr>\n",
       "    <tr>\n",
       "      <th>contract_type_One year</th>\n",
       "      <td>1.00</td>\n",
       "      <td>0.00</td>\n",
       "      <td>0.00</td>\n",
       "      <td>0.00</td>\n",
       "      <td>0.00</td>\n",
       "      <td>0.00</td>\n",
       "      <td>0.0</td>\n",
       "      <td>0.00</td>\n",
       "      <td>0.00</td>\n",
       "      <td>0.00</td>\n",
       "      <td>...</td>\n",
       "      <td>0.00</td>\n",
       "      <td>0.00</td>\n",
       "      <td>0.0</td>\n",
       "      <td>0.0</td>\n",
       "      <td>1.0</td>\n",
       "      <td>0.0</td>\n",
       "      <td>0.0</td>\n",
       "      <td>0.00</td>\n",
       "      <td>0.00</td>\n",
       "      <td>0.00</td>\n",
       "    </tr>\n",
       "    <tr>\n",
       "      <th>contract_type_Two year</th>\n",
       "      <td>0.00</td>\n",
       "      <td>0.00</td>\n",
       "      <td>0.00</td>\n",
       "      <td>0.00</td>\n",
       "      <td>1.00</td>\n",
       "      <td>0.00</td>\n",
       "      <td>0.0</td>\n",
       "      <td>1.00</td>\n",
       "      <td>1.00</td>\n",
       "      <td>0.00</td>\n",
       "      <td>...</td>\n",
       "      <td>0.00</td>\n",
       "      <td>0.00</td>\n",
       "      <td>0.0</td>\n",
       "      <td>0.0</td>\n",
       "      <td>0.0</td>\n",
       "      <td>0.0</td>\n",
       "      <td>1.0</td>\n",
       "      <td>1.00</td>\n",
       "      <td>0.00</td>\n",
       "      <td>0.00</td>\n",
       "    </tr>\n",
       "    <tr>\n",
       "      <th>internet_service_type_DSL</th>\n",
       "      <td>0.00</td>\n",
       "      <td>0.00</td>\n",
       "      <td>0.00</td>\n",
       "      <td>0.00</td>\n",
       "      <td>1.00</td>\n",
       "      <td>0.00</td>\n",
       "      <td>1.0</td>\n",
       "      <td>0.00</td>\n",
       "      <td>0.00</td>\n",
       "      <td>0.00</td>\n",
       "      <td>...</td>\n",
       "      <td>0.00</td>\n",
       "      <td>0.00</td>\n",
       "      <td>0.0</td>\n",
       "      <td>0.0</td>\n",
       "      <td>0.0</td>\n",
       "      <td>0.0</td>\n",
       "      <td>1.0</td>\n",
       "      <td>0.00</td>\n",
       "      <td>0.00</td>\n",
       "      <td>0.00</td>\n",
       "    </tr>\n",
       "    <tr>\n",
       "      <th>internet_service_type_Fiber optic</th>\n",
       "      <td>1.00</td>\n",
       "      <td>1.00</td>\n",
       "      <td>0.00</td>\n",
       "      <td>1.00</td>\n",
       "      <td>0.00</td>\n",
       "      <td>0.00</td>\n",
       "      <td>0.0</td>\n",
       "      <td>0.00</td>\n",
       "      <td>0.00</td>\n",
       "      <td>1.00</td>\n",
       "      <td>...</td>\n",
       "      <td>1.00</td>\n",
       "      <td>1.00</td>\n",
       "      <td>1.0</td>\n",
       "      <td>1.0</td>\n",
       "      <td>1.0</td>\n",
       "      <td>1.0</td>\n",
       "      <td>0.0</td>\n",
       "      <td>1.00</td>\n",
       "      <td>1.00</td>\n",
       "      <td>1.00</td>\n",
       "    </tr>\n",
       "    <tr>\n",
       "      <th>payment_type_Credit card (automatic)</th>\n",
       "      <td>1.00</td>\n",
       "      <td>0.00</td>\n",
       "      <td>0.00</td>\n",
       "      <td>0.00</td>\n",
       "      <td>0.00</td>\n",
       "      <td>0.00</td>\n",
       "      <td>0.0</td>\n",
       "      <td>1.00</td>\n",
       "      <td>0.00</td>\n",
       "      <td>0.00</td>\n",
       "      <td>...</td>\n",
       "      <td>1.00</td>\n",
       "      <td>0.00</td>\n",
       "      <td>0.0</td>\n",
       "      <td>1.0</td>\n",
       "      <td>0.0</td>\n",
       "      <td>0.0</td>\n",
       "      <td>0.0</td>\n",
       "      <td>1.00</td>\n",
       "      <td>0.00</td>\n",
       "      <td>0.00</td>\n",
       "    </tr>\n",
       "    <tr>\n",
       "      <th>payment_type_Electronic check</th>\n",
       "      <td>0.00</td>\n",
       "      <td>1.00</td>\n",
       "      <td>0.00</td>\n",
       "      <td>0.00</td>\n",
       "      <td>1.00</td>\n",
       "      <td>0.00</td>\n",
       "      <td>0.0</td>\n",
       "      <td>0.00</td>\n",
       "      <td>0.00</td>\n",
       "      <td>1.00</td>\n",
       "      <td>...</td>\n",
       "      <td>0.00</td>\n",
       "      <td>0.00</td>\n",
       "      <td>1.0</td>\n",
       "      <td>0.0</td>\n",
       "      <td>0.0</td>\n",
       "      <td>1.0</td>\n",
       "      <td>0.0</td>\n",
       "      <td>0.00</td>\n",
       "      <td>1.00</td>\n",
       "      <td>0.00</td>\n",
       "    </tr>\n",
       "    <tr>\n",
       "      <th>payment_type_Mailed check</th>\n",
       "      <td>0.00</td>\n",
       "      <td>0.00</td>\n",
       "      <td>1.00</td>\n",
       "      <td>0.00</td>\n",
       "      <td>0.00</td>\n",
       "      <td>1.00</td>\n",
       "      <td>1.0</td>\n",
       "      <td>0.00</td>\n",
       "      <td>1.00</td>\n",
       "      <td>0.00</td>\n",
       "      <td>...</td>\n",
       "      <td>0.00</td>\n",
       "      <td>1.00</td>\n",
       "      <td>0.0</td>\n",
       "      <td>0.0</td>\n",
       "      <td>0.0</td>\n",
       "      <td>0.0</td>\n",
       "      <td>0.0</td>\n",
       "      <td>0.00</td>\n",
       "      <td>0.00</td>\n",
       "      <td>1.00</td>\n",
       "    </tr>\n",
       "    <tr>\n",
       "      <th>phone_service_type_No phone service</th>\n",
       "      <td>0.00</td>\n",
       "      <td>0.00</td>\n",
       "      <td>0.00</td>\n",
       "      <td>0.00</td>\n",
       "      <td>0.00</td>\n",
       "      <td>0.00</td>\n",
       "      <td>0.0</td>\n",
       "      <td>0.00</td>\n",
       "      <td>0.00</td>\n",
       "      <td>0.00</td>\n",
       "      <td>...</td>\n",
       "      <td>0.00</td>\n",
       "      <td>0.00</td>\n",
       "      <td>0.0</td>\n",
       "      <td>0.0</td>\n",
       "      <td>0.0</td>\n",
       "      <td>0.0</td>\n",
       "      <td>0.0</td>\n",
       "      <td>0.00</td>\n",
       "      <td>0.00</td>\n",
       "      <td>0.00</td>\n",
       "    </tr>\n",
       "    <tr>\n",
       "      <th>phone_service_type_Single line</th>\n",
       "      <td>0.00</td>\n",
       "      <td>1.00</td>\n",
       "      <td>1.00</td>\n",
       "      <td>0.00</td>\n",
       "      <td>1.00</td>\n",
       "      <td>1.00</td>\n",
       "      <td>1.0</td>\n",
       "      <td>1.00</td>\n",
       "      <td>1.00</td>\n",
       "      <td>0.00</td>\n",
       "      <td>...</td>\n",
       "      <td>0.00</td>\n",
       "      <td>1.00</td>\n",
       "      <td>1.0</td>\n",
       "      <td>0.0</td>\n",
       "      <td>0.0</td>\n",
       "      <td>1.0</td>\n",
       "      <td>0.0</td>\n",
       "      <td>0.00</td>\n",
       "      <td>0.00</td>\n",
       "      <td>1.00</td>\n",
       "    </tr>\n",
       "  </tbody>\n",
       "</table>\n",
       "<p>19 rows × 4225 columns</p>\n",
       "</div>"
      ],
      "text/plain": [
       "customer_id                           4083-BFNYK  5804-LEPIM  4895-TMWIR  \\\n",
       "gender                                      0.00        0.00        1.00   \n",
       "senior_citizen                              1.00        1.00        1.00   \n",
       "partner                                     1.00        0.00        1.00   \n",
       "dependents                                  0.00        0.00        0.00   \n",
       "paperless_billing                           0.00        1.00        0.00   \n",
       "monthly_charges                            95.00       70.35       19.95   \n",
       "total_charges                            3591.25      139.05      214.75   \n",
       "churn                                       0.00        1.00        1.00   \n",
       "total_add_on_count                          3.00        0.00        0.00   \n",
       "tenure_years                                3.00        0.00        0.00   \n",
       "contract_type_One year                      1.00        0.00        0.00   \n",
       "contract_type_Two year                      0.00        0.00        0.00   \n",
       "internet_service_type_DSL                   0.00        0.00        0.00   \n",
       "internet_service_type_Fiber optic           1.00        1.00        0.00   \n",
       "payment_type_Credit card (automatic)        1.00        0.00        0.00   \n",
       "payment_type_Electronic check               0.00        1.00        0.00   \n",
       "payment_type_Mailed check                   0.00        0.00        1.00   \n",
       "phone_service_type_No phone service         0.00        0.00        0.00   \n",
       "phone_service_type_Single line              0.00        1.00        1.00   \n",
       "\n",
       "customer_id                           1342-JPNKI  3397-AVTKU  1051-EQPZR  \\\n",
       "gender                                      1.00        1.00        0.00   \n",
       "senior_citizen                              0.00        0.00        0.00   \n",
       "partner                                     0.00        0.00        1.00   \n",
       "dependents                                  0.00        0.00        1.00   \n",
       "paperless_billing                           1.00        1.00        0.00   \n",
       "monthly_charges                            86.05       60.00       19.60   \n",
       "total_charges                             834.10     2548.55      780.25   \n",
       "churn                                       1.00        0.00        0.00   \n",
       "total_add_on_count                          1.00        2.00        0.00   \n",
       "tenure_years                                0.00        3.00        3.00   \n",
       "contract_type_One year                      0.00        0.00        0.00   \n",
       "contract_type_Two year                      0.00        1.00        0.00   \n",
       "internet_service_type_DSL                   0.00        1.00        0.00   \n",
       "internet_service_type_Fiber optic           1.00        0.00        0.00   \n",
       "payment_type_Credit card (automatic)        0.00        0.00        0.00   \n",
       "payment_type_Electronic check               0.00        1.00        0.00   \n",
       "payment_type_Mailed check                   0.00        0.00        1.00   \n",
       "phone_service_type_No phone service         0.00        0.00        0.00   \n",
       "phone_service_type_Single line              0.00        1.00        1.00   \n",
       "\n",
       "customer_id                           4193-ORFCL  1354-YZFNB  0442-TDYUO  \\\n",
       "gender                                       0.0        1.00        1.00   \n",
       "senior_citizen                               1.0        0.00        0.00   \n",
       "partner                                      0.0        1.00        1.00   \n",
       "dependents                                   0.0        1.00        0.00   \n",
       "paperless_billing                            0.0        0.00        1.00   \n",
       "monthly_charges                             45.1       19.55       20.05   \n",
       "total_charges                               45.1       68.80     1036.00   \n",
       "churn                                        1.0        0.00        0.00   \n",
       "total_add_on_count                           0.0        0.00        0.00   \n",
       "tenure_years                                 0.0        0.00        4.00   \n",
       "contract_type_One year                       0.0        0.00        0.00   \n",
       "contract_type_Two year                       0.0        1.00        1.00   \n",
       "internet_service_type_DSL                    1.0        0.00        0.00   \n",
       "internet_service_type_Fiber optic            0.0        0.00        0.00   \n",
       "payment_type_Credit card (automatic)         0.0        1.00        0.00   \n",
       "payment_type_Electronic check                0.0        0.00        0.00   \n",
       "payment_type_Mailed check                    1.0        0.00        1.00   \n",
       "phone_service_type_No phone service          0.0        0.00        0.00   \n",
       "phone_service_type_Single line               1.0        1.00        1.00   \n",
       "\n",
       "customer_id                           1264-BYWMS  ...  5959-BELXA  6897-UUBNU  \\\n",
       "gender                                      1.00  ...        1.00        1.00   \n",
       "senior_citizen                              0.00  ...        1.00        0.00   \n",
       "partner                                     0.00  ...        0.00        0.00   \n",
       "dependents                                  0.00  ...        0.00        0.00   \n",
       "paperless_billing                           1.00  ...        1.00        0.00   \n",
       "monthly_charges                            96.80  ...       96.15       89.65   \n",
       "total_charges                            5283.95  ...     3019.25     2623.65   \n",
       "churn                                       1.00  ...        1.00        0.00   \n",
       "total_add_on_count                          2.00  ...        2.00        3.00   \n",
       "tenure_years                                4.00  ...        2.00        2.00   \n",
       "contract_type_One year                      0.00  ...        0.00        0.00   \n",
       "contract_type_Two year                      0.00  ...        0.00        0.00   \n",
       "internet_service_type_DSL                   0.00  ...        0.00        0.00   \n",
       "internet_service_type_Fiber optic           1.00  ...        1.00        1.00   \n",
       "payment_type_Credit card (automatic)        0.00  ...        1.00        0.00   \n",
       "payment_type_Electronic check               1.00  ...        0.00        0.00   \n",
       "payment_type_Mailed check                   0.00  ...        0.00        1.00   \n",
       "phone_service_type_No phone service         0.00  ...        0.00        0.00   \n",
       "phone_service_type_Single line              0.00  ...        0.00        1.00   \n",
       "\n",
       "customer_id                           9444-JTXHZ  0617-FHSGK  0330-BGYZE  \\\n",
       "gender                                       1.0         1.0         1.0   \n",
       "senior_citizen                               0.0         0.0         0.0   \n",
       "partner                                      1.0         0.0         1.0   \n",
       "dependents                                   0.0         1.0         0.0   \n",
       "paperless_billing                            0.0         0.0         0.0   \n",
       "monthly_charges                             76.2        75.2       102.5   \n",
       "total_charges                               76.2      3678.3      6157.6   \n",
       "churn                                        1.0         1.0         0.0   \n",
       "total_add_on_count                           1.0         0.0         4.0   \n",
       "tenure_years                                 0.0         4.0         5.0   \n",
       "contract_type_One year                       0.0         0.0         1.0   \n",
       "contract_type_Two year                       0.0         0.0         0.0   \n",
       "internet_service_type_DSL                    0.0         0.0         0.0   \n",
       "internet_service_type_Fiber optic            1.0         1.0         1.0   \n",
       "payment_type_Credit card (automatic)         0.0         1.0         0.0   \n",
       "payment_type_Electronic check                1.0         0.0         0.0   \n",
       "payment_type_Mailed check                    0.0         0.0         0.0   \n",
       "phone_service_type_No phone service          0.0         0.0         0.0   \n",
       "phone_service_type_Single line               1.0         0.0         0.0   \n",
       "\n",
       "customer_id                           1915-IOFGU  7025-WCBNE  9788-HNGUT  \\\n",
       "gender                                       0.0         1.0        1.00   \n",
       "senior_citizen                               0.0         1.0        0.00   \n",
       "partner                                      0.0         0.0        1.00   \n",
       "dependents                                   0.0         0.0        0.00   \n",
       "paperless_billing                            0.0         0.0        1.00   \n",
       "monthly_charges                             70.5        59.6      116.95   \n",
       "total_charges                               70.5      2754.0     8594.40   \n",
       "churn                                        1.0         0.0        0.00   \n",
       "total_add_on_count                           0.0         2.0        6.00   \n",
       "tenure_years                                 0.0         3.0        6.00   \n",
       "contract_type_One year                       0.0         0.0        0.00   \n",
       "contract_type_Two year                       0.0         1.0        1.00   \n",
       "internet_service_type_DSL                    0.0         1.0        0.00   \n",
       "internet_service_type_Fiber optic            1.0         0.0        1.00   \n",
       "payment_type_Credit card (automatic)         0.0         0.0        1.00   \n",
       "payment_type_Electronic check                1.0         0.0        0.00   \n",
       "payment_type_Mailed check                    0.0         0.0        0.00   \n",
       "phone_service_type_No phone service          0.0         0.0        0.00   \n",
       "phone_service_type_Single line               1.0         0.0        0.00   \n",
       "\n",
       "customer_id                           5229-PRWKT  7562-UXTPG  \n",
       "gender                                      1.00        0.00  \n",
       "senior_citizen                              0.00        0.00  \n",
       "partner                                     0.00        0.00  \n",
       "dependents                                  0.00        0.00  \n",
       "paperless_billing                           1.00        1.00  \n",
       "monthly_charges                            86.55       70.15  \n",
       "total_charges                             649.65      886.70  \n",
       "churn                                       1.00        0.00  \n",
       "total_add_on_count                          1.00        0.00  \n",
       "tenure_years                                0.00        1.00  \n",
       "contract_type_One year                      0.00        0.00  \n",
       "contract_type_Two year                      0.00        0.00  \n",
       "internet_service_type_DSL                   0.00        0.00  \n",
       "internet_service_type_Fiber optic           1.00        1.00  \n",
       "payment_type_Credit card (automatic)        0.00        0.00  \n",
       "payment_type_Electronic check               1.00        0.00  \n",
       "payment_type_Mailed check                   0.00        1.00  \n",
       "phone_service_type_No phone service         0.00        0.00  \n",
       "phone_service_type_Single line              0.00        1.00  \n",
       "\n",
       "[19 rows x 4225 columns]"
      ]
     },
     "execution_count": 61,
     "metadata": {},
     "output_type": "execute_result"
    }
   ],
   "source": [
    "train.T\n"
   ]
  },
  {
   "cell_type": "code",
   "execution_count": 62,
   "id": "7078630b",
   "metadata": {},
   "outputs": [
    {
     "name": "stdout",
     "output_type": "stream",
     "text": [
      "<class 'pandas.core.frame.DataFrame'>\n",
      "Index: 4225 entries, 4083-BFNYK to 7562-UXTPG\n",
      "Data columns (total 19 columns):\n",
      " #   Column                                Non-Null Count  Dtype  \n",
      "---  ------                                --------------  -----  \n",
      " 0   gender                                4225 non-null   int64  \n",
      " 1   senior_citizen                        4225 non-null   int64  \n",
      " 2   partner                               4225 non-null   int64  \n",
      " 3   dependents                            4225 non-null   int64  \n",
      " 4   paperless_billing                     4225 non-null   int64  \n",
      " 5   monthly_charges                       4225 non-null   float64\n",
      " 6   total_charges                         4225 non-null   float64\n",
      " 7   churn                                 4225 non-null   int64  \n",
      " 8   total_add_on_count                    4225 non-null   int64  \n",
      " 9   tenure_years                          4225 non-null   int64  \n",
      " 10  contract_type_One year                4225 non-null   int64  \n",
      " 11  contract_type_Two year                4225 non-null   int64  \n",
      " 12  internet_service_type_DSL             4225 non-null   int64  \n",
      " 13  internet_service_type_Fiber optic     4225 non-null   int64  \n",
      " 14  payment_type_Credit card (automatic)  4225 non-null   int64  \n",
      " 15  payment_type_Electronic check         4225 non-null   int64  \n",
      " 16  payment_type_Mailed check             4225 non-null   int64  \n",
      " 17  phone_service_type_No phone service   4225 non-null   int64  \n",
      " 18  phone_service_type_Single line        4225 non-null   int64  \n",
      "dtypes: float64(2), int64(17)\n",
      "memory usage: 789.2+ KB\n"
     ]
    }
   ],
   "source": [
    "train.info()"
   ]
  },
  {
   "cell_type": "markdown",
   "id": "e17e1024",
   "metadata": {},
   "source": [
    "## Testing models"
   ]
  },
  {
   "cell_type": "code",
   "execution_count": 63,
   "id": "79b03845",
   "metadata": {},
   "outputs": [],
   "source": [
    "X_train = train.drop(columns=['churn'])\n",
    "y_train = train.churn\n",
    "\n",
    "X_validate = validate.drop(columns=['churn'])\n",
    "y_validate = validate.churn\n",
    "\n",
    "X_test = test.drop(columns=['churn'])\n",
    "y_test = test.churn"
   ]
  },
  {
   "cell_type": "markdown",
   "id": "17d1bb32",
   "metadata": {},
   "source": [
    "Desicion Tree"
   ]
  },
  {
   "cell_type": "code",
   "execution_count": 64,
   "id": "7e1654fd",
   "metadata": {},
   "outputs": [
    {
     "name": "stdout",
     "output_type": "stream",
     "text": [
      "min_samples_leaf= 1, max_depth = 10, accuracy=(0.8769230769230769, 0.7714691270404542)\n",
      "min_samples_leaf= 2, max_depth = 9, accuracy=(0.8501775147928994, 0.7721788502484032)\n",
      "min_samples_leaf= 3, max_depth = 8, accuracy=(0.8355029585798817, 0.7821149751596878)\n",
      "min_samples_leaf= 4, max_depth = 7, accuracy=(0.8196449704142011, 0.7913413768630234)\n",
      "min_samples_leaf= 5, max_depth = 6, accuracy=(0.8099408284023669, 0.7821149751596878)\n",
      "min_samples_leaf= 6, max_depth = 5, accuracy=(0.797396449704142, 0.7849538679914834)\n",
      "min_samples_leaf= 7, max_depth = 4, accuracy=(0.7910059171597633, 0.7828246983676366)\n",
      "min_samples_leaf= 8, max_depth = 3, accuracy=(0.7841420118343195, 0.7863733144073811)\n",
      "min_samples_leaf= 9, max_depth = 2, accuracy=(0.7841420118343195, 0.7863733144073811)\n",
      "min_samples_leaf= 10, max_depth = 1, accuracy=(0.7346745562130178, 0.7345635202271115)\n"
     ]
    }
   ],
   "source": [
    "# change hyperparameters\n",
    "scores_all = []\n",
    "\n",
    "for x in range(1,11):\n",
    "    \n",
    "    clf = DecisionTreeClassifier(min_samples_leaf= x, max_depth=11-x, random_state=123)\n",
    "    clf = clf.fit(X_train, y_train)\n",
    "    \n",
    "    # evaluate on train\n",
    "    train_acc = clf.score(X_train, y_train)\n",
    "    \n",
    "    #evaluate on validate\n",
    "    val_acc = clf.score(X_validate, y_validate)\n",
    "    print(f'min_samples_leaf= {x}, max_depth = {11-x}, accuracy={train_acc, val_acc}')"
   ]
  },
  {
   "cell_type": "markdown",
   "id": "d8bdd955",
   "metadata": {},
   "source": [
    "> max depth  and 4 leafs is the best tunned model"
   ]
  },
  {
   "cell_type": "markdown",
   "id": "4e85a43f",
   "metadata": {},
   "source": [
    "Random Forest"
   ]
  },
  {
   "cell_type": "code",
   "execution_count": 65,
   "id": "81dd8ab8",
   "metadata": {},
   "outputs": [
    {
     "name": "stdout",
     "output_type": "stream",
     "text": [
      "min_samples_leaf= 1 max_depth = 10, accuracy=(0.8809467455621302, 0.794889992902768)\n",
      "min_samples_leaf= 2 max_depth = 9, accuracy=(0.8497041420118343, 0.7920511000709723)\n",
      "min_samples_leaf= 3 max_depth = 8, accuracy=(0.829112426035503, 0.8019872249822569)\n",
      "min_samples_leaf= 4 max_depth = 7, accuracy=(0.816094674556213, 0.8034066713981547)\n",
      "min_samples_leaf= 5 max_depth = 6, accuracy=(0.8049704142011834, 0.8034066713981547)\n",
      "min_samples_leaf= 6 max_depth = 5, accuracy=(0.7995266272189349, 0.7963094393186657)\n",
      "min_samples_leaf= 7 max_depth = 4, accuracy=(0.7936094674556213, 0.7934705464868701)\n",
      "min_samples_leaf= 8 max_depth = 3, accuracy=(0.7846153846153846, 0.7856635911994322)\n",
      "min_samples_leaf= 9 max_depth = 2, accuracy=(0.7737278106508876, 0.7622427253371186)\n",
      "min_samples_leaf= 10 max_depth = 1, accuracy=(0.7346745562130178, 0.7345635202271115)\n"
     ]
    }
   ],
   "source": [
    "# change parameters\n",
    "scores_all = []\n",
    "\n",
    "for x in range(1,11):\n",
    "\n",
    "    rf = RandomForestClassifier(min_samples_leaf= x, max_depth=11-x, random_state=123)\n",
    "    rf= rf.fit(X_train, y_train)\n",
    "    \n",
    "    # evaluate on train\n",
    "    train_acc = rf.score(X_train, y_train)\n",
    "    \n",
    "    #evaluate on validate\n",
    "    val_acc = rf.score(X_validate, y_validate)\n",
    "    print(f'min_samples_leaf= {x} max_depth = {11-x}, accuracy={train_acc, val_acc}')"
   ]
  },
  {
   "cell_type": "markdown",
   "id": "ae68cbe5",
   "metadata": {},
   "source": [
    "> max depth 6 and 5 leafs is the best tunned model"
   ]
  },
  {
   "cell_type": "markdown",
   "id": "82d0d65b",
   "metadata": {},
   "source": [
    "Export files to csv"
   ]
  },
  {
   "cell_type": "code",
   "execution_count": 66,
   "id": "830a8136",
   "metadata": {},
   "outputs": [],
   "source": [
    "# train.to_csv('file1.csv')"
   ]
  },
  {
   "cell_type": "code",
   "execution_count": 67,
   "id": "785b2149",
   "metadata": {},
   "outputs": [],
   "source": [
    "### Is there a relationship between monthly charges and whether or not a customer has churned?"
   ]
  },
  {
   "cell_type": "code",
   "execution_count": 68,
   "id": "a6b48ab2",
   "metadata": {},
   "outputs": [
    {
     "ename": "SyntaxError",
     "evalue": "invalid syntax (2184205643.py, line 1)",
     "output_type": "error",
     "traceback": [
      "\u001b[0;36m  Cell \u001b[0;32mIn[68], line 1\u001b[0;36m\u001b[0m\n\u001b[0;31m    $H_0$: There is not a significant difference between monthly charges and churn.\u001b[0m\n\u001b[0m    ^\u001b[0m\n\u001b[0;31mSyntaxError\u001b[0m\u001b[0;31m:\u001b[0m invalid syntax\n"
     ]
    }
   ],
   "source": [
    " $H_0$: There is not a significant difference between monthly charges and churn.\n",
    "\n",
    " $H_a$: There is a significant difference between monthly charges and churn.\n",
    " \n",
    " aplha = 0.05"
   ]
  },
  {
   "cell_type": "code",
   "execution_count": null,
   "id": "b8fb0ead",
   "metadata": {},
   "outputs": [],
   "source": [
    "# Plot to visualize and draw conclusions from the assosociation. \n",
    "\n",
    "explore.analyze_monthly_charges(train, 'monthly_charges', 'churn')"
   ]
  },
  {
   "cell_type": "code",
   "execution_count": null,
   "id": "5f3502fa",
   "metadata": {},
   "outputs": [],
   "source": [
    "> Reject the null hypothesis: There is a significant difference in monthly_charges between churn groups.\n",
    "\n",
    "         - customers with higher average monthly charges churn more\n",
    "             \n",
    "    Recommend: Ask customers during signup if they value having lower monthly charges and suggest a longer contract if they do. "
   ]
  },
  {
   "cell_type": "code",
   "execution_count": null,
   "id": "6e3e3836",
   "metadata": {},
   "outputs": [],
   "source": [
    "def analyze_monthly_charges(df, continuous_column, target_column):\n",
    "    \"\"\"\n",
    "    Parameters:\n",
    "    - df: DataFrame\n",
    "    - continuous_column: monthly charges\n",
    "    - target_column: str, name of the target (categorical) column\n",
    "\n",
    "    Returns:\n",
    "    - printed bar chart, contingency table, and Mann-Whitney U test\n",
    "    \"\"\"\n",
    "    # Separate data into two groups based on target_column\n",
    "    data_churned = df[df['churn'] == 'Yes']['monthly_charges']\n",
    "    data_not_churned = df[df['churn'] == 'No']['monthly_charges']\n",
    "\n",
    "    # Perform Mann-Whitney U test\n",
    "    stat, p_value = mannwhitneyu(data_churned, data_not_churned)\n",
    "\n",
    "    # Visualize with a box plot\n",
    "    plt.figure(figsize=(6, 3))\n",
    "    sns.boxplot(x='contract_type', y='monthly_charges', data=df, palette='pastel')\n",
    "    plt.title('Box Plot of monthly_charges by churn')\n",
    "    plt.xlabel('churn')\n",
    "    plt.ylabel('monthly_charges')\n",
    "    plt.show()\n",
    "\n",
    "    # Print Mann-Whitney U test results\n",
    "    print(f'Mann-Whitney U statistic: {stat}')\n",
    "    print(f'P-value: {p_value}')\n"
   ]
  },
  {
   "cell_type": "code",
   "execution_count": null,
   "id": "d6672089",
   "metadata": {},
   "outputs": [],
   "source": []
  },
  {
   "cell_type": "code",
   "execution_count": null,
   "id": "eef0c0b8",
   "metadata": {},
   "outputs": [],
   "source": [
    "train.info()"
   ]
  },
  {
   "cell_type": "code",
   "execution_count": null,
   "id": "23bcaedd",
   "metadata": {},
   "outputs": [],
   "source": [
    "analyze_monthly_charges(train, 'monthly_charges', 'contract_type')"
   ]
  },
  {
   "cell_type": "code",
   "execution_count": null,
   "id": "71672a32",
   "metadata": {},
   "outputs": [],
   "source": []
  },
  {
   "cell_type": "code",
   "execution_count": null,
   "id": "a7bb4a60",
   "metadata": {},
   "outputs": [],
   "source": [
    "\n",
    "\n",
    "### Is there a relationship between contract type and whether or not a customer has churned?"
   ]
  },
  {
   "cell_type": "code",
   "execution_count": null,
   "id": "a609f322",
   "metadata": {},
   "outputs": [],
   "source": [
    " $H_0$: There is no relationship between contract type and churn.\n",
    "\n",
    " $H_a$: There is a relationship between contract type and churn.\n",
    " \n",
    " aplha = 0.05"
   ]
  },
  {
   "cell_type": "code",
   "execution_count": null,
   "id": "7dce326e",
   "metadata": {},
   "outputs": [],
   "source": [
    "# Plot to visualize and draw conclusions from the assosociation. \n",
    "analyze_contract_type(train, 'tenure_years', 'contract_type')"
   ]
  },
  {
   "cell_type": "code",
   "execution_count": 18,
   "id": "8783604a",
   "metadata": {},
   "outputs": [
    {
     "data": {
      "image/png": "[encoded data removed]",
      "text/plain": [
       "<Figure size 600x300 with 1 Axes>"
      ]
     },
     "metadata": {},
     "output_type": "display_data"
    },
    {
     "ename": "ValueError",
     "evalue": "No data; `observed` has size 0.",
     "output_type": "error",
     "traceback": [
      "\u001b[0;31m---------------------------------------------------------------------------\u001b[0m",
      "\u001b[0;31mValueError\u001b[0m                                Traceback (most recent call last)",
      "Cell \u001b[0;32mIn[18], line 1\u001b[0m\n\u001b[0;32m----> 1\u001b[0m analyze_contract_type(train, \u001b[38;5;124m'\u001b[39m\u001b[38;5;124mcontract_type\u001b[39m\u001b[38;5;124m'\u001b[39m, \u001b[38;5;124m'\u001b[39m\u001b[38;5;124mchurn\u001b[39m\u001b[38;5;124m'\u001b[39m)\n",
      "Cell \u001b[0;32mIn[17], line 25\u001b[0m, in \u001b[0;36manalyze_contract_type\u001b[0;34m(df, column, target_column)\u001b[0m\n\u001b[1;32m     22\u001b[0m plt\u001b[38;5;241m.\u001b[39mshow()\n\u001b[1;32m     24\u001b[0m \u001b[38;5;66;03m# Perform a chi-squared test\u001b[39;00m\n\u001b[0;32m---> 25\u001b[0m chi2, p, _, _ \u001b[38;5;241m=\u001b[39m chi2_contingency(contingency_table)\n\u001b[1;32m     27\u001b[0m \u001b[38;5;66;03m# Display the contingency table\u001b[39;00m\n\u001b[1;32m     28\u001b[0m \u001b[38;5;28mprint\u001b[39m(\u001b[38;5;124m\"\u001b[39m\u001b[38;5;124mContingency Table:\u001b[39m\u001b[38;5;124m\"\u001b[39m)\n",
      "File \u001b[0;32m/opt/homebrew/anaconda3/lib/python3.11/site-packages/scipy/stats/contingency.py:333\u001b[0m, in \u001b[0;36mchi2_contingency\u001b[0;34m(observed, correction, lambda_)\u001b[0m\n\u001b[1;32m    331\u001b[0m     \u001b[38;5;28;01mraise\u001b[39;00m \u001b[38;5;167;01mValueError\u001b[39;00m(\u001b[38;5;124m\"\u001b[39m\u001b[38;5;124mAll values in `observed` must be nonnegative.\u001b[39m\u001b[38;5;124m\"\u001b[39m)\n\u001b[1;32m    332\u001b[0m \u001b[38;5;28;01mif\u001b[39;00m observed\u001b[38;5;241m.\u001b[39msize \u001b[38;5;241m==\u001b[39m \u001b[38;5;241m0\u001b[39m:\n\u001b[0;32m--> 333\u001b[0m     \u001b[38;5;28;01mraise\u001b[39;00m \u001b[38;5;167;01mValueError\u001b[39;00m(\u001b[38;5;124m\"\u001b[39m\u001b[38;5;124mNo data; `observed` has size 0.\u001b[39m\u001b[38;5;124m\"\u001b[39m)\n\u001b[1;32m    335\u001b[0m expected \u001b[38;5;241m=\u001b[39m expected_freq(observed)\n\u001b[1;32m    336\u001b[0m \u001b[38;5;28;01mif\u001b[39;00m np\u001b[38;5;241m.\u001b[39many(expected \u001b[38;5;241m==\u001b[39m \u001b[38;5;241m0\u001b[39m):\n\u001b[1;32m    337\u001b[0m     \u001b[38;5;66;03m# Include one of the positions where expected is zero in\u001b[39;00m\n\u001b[1;32m    338\u001b[0m     \u001b[38;5;66;03m# the exception message.\u001b[39;00m\n",
      "\u001b[0;31mValueError\u001b[0m: No data; `observed` has size 0."
     ]
    }
   ],
   "source": [
    "analyze_contract_type(train, 'contract_type', 'churn')"
   ]
  },
  {
   "cell_type": "code",
   "execution_count": null,
   "id": "2339c2d1",
   "metadata": {},
   "outputs": [],
   "source": [
    "> There is a relationship between contract type and whether or not someone churned\n",
    "- Customers with longer contracts are loyal.\n",
    "- This makes sense considering the relationship between churn and tenure."
   ]
  },
  {
   "cell_type": "code",
   "execution_count": 19,
   "id": "ade02671",
   "metadata": {},
   "outputs": [],
   "source": [
    "def analyze_contract_type(df, column, target_column):\n",
    "    '''\n",
    "    Function takes in DataFrame, the contract type column name, and the target variable column name.\n",
    "    Returns: Printed contingency table, a bar chart showing contract type  vs. churn, and the results of the chi sqaured test. \n",
    "    '''\n",
    "    \n",
    "    \n",
    "    # Calculate churn rates\n",
    "    churn_rates = df.groupby('contract_type')['churn'].mean()\n",
    "   \n",
    "   \n",
    "    # Create a contingency table\n",
    "    contingency_table = pd.crosstab(df[column], df[target_column])\n",
    "\n",
    "    # Plot a bar chart (count plot)\n",
    "    plt.figure(figsize=(6, 3))\n",
    "    sns.countplot(x=column, hue=target_column, data=df, palette='pastel')\n",
    "\n",
    "\n",
    "    plt.title(f' Bar Chart - {column} vs {target_column}')\n",
    "    plt.show()\n",
    "\n",
    "    # Perform a chi-squared test\n",
    "    chi2, p, _, _ = chi2_contingency(contingency_table)\n",
    "    \n",
    "    # Display the contingency table\n",
    "    print(\"Contingency Table:\")\n",
    "    print(contingency_table)\n",
    "    \n",
    "    # Display the chi-squared test results\n",
    "    print(\"\\nChi-squared test:\")\n",
    "    print(f\"Chi2 Statistic: {chi2}\")\n",
    "    print(f\"P-value: {p}\")"
   ]
  },
  {
   "cell_type": "code",
   "execution_count": null,
   "id": "8f224507",
   "metadata": {},
   "outputs": [],
   "source": []
  },
  {
   "cell_type": "code",
   "execution_count": null,
   "id": "2737034e",
   "metadata": {},
   "outputs": [],
   "source": []
  },
  {
   "cell_type": "code",
   "execution_count": null,
   "id": "fe836eab",
   "metadata": {},
   "outputs": [],
   "source": []
  },
  {
   "cell_type": "code",
   "execution_count": null,
   "id": "dca4512a",
   "metadata": {},
   "outputs": [],
   "source": []
  },
  {
   "cell_type": "code",
   "execution_count": null,
   "id": "bc3b8544",
   "metadata": {},
   "outputs": [],
   "source": []
  },
  {
   "cell_type": "code",
   "execution_count": null,
   "id": "93526791",
   "metadata": {},
   "outputs": [],
   "source": []
  },
  {
   "cell_type": "code",
   "execution_count": null,
   "id": "eb0ba0d3",
   "metadata": {},
   "outputs": [],
   "source": []
  }
 ],
 "metadata": {
  "kernelspec": {
   "display_name": "Python 3 (ipykernel)",
   "language": "python",
   "name": "python3"
  },
  "language_info": {
   "codemirror_mode": {
    "name": "ipython",
    "version": 3
   },
   "file_extension": ".py",
   "mimetype": "text/x-python",
   "name": "python",
   "nbconvert_exporter": "python",
   "pygments_lexer": "ipython3",
   "version": "3.11.5"
  }
 },
 "nbformat": 4,
 "nbformat_minor": 5
}
